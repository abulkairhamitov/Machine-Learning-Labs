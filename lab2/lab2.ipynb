{
 "cells": [
  {
   "cell_type": "markdown",
   "metadata": {},
   "source": [
    "# Лабораторная работа 2"
   ]
  },
  {
   "cell_type": "markdown",
   "metadata": {},
   "source": [
    "### Выполнил: Хамитов А. гр. 9308"
   ]
  },
  {
   "cell_type": "markdown",
   "metadata": {},
   "source": [
    "\n",
    "\n",
    "---\n",
    "\n"
   ]
  },
  {
   "cell_type": "markdown",
   "metadata": {
    "id": "TOvht7vqQGdR",
    "papermill": {
     "duration": 0.030335,
     "end_time": "2020-11-27T11:52:28.446538",
     "exception": false,
     "start_time": "2020-11-27T11:52:28.416203",
     "status": "completed"
    },
    "tags": []
   },
   "source": [
    "# Предварительный анализ данных"
   ]
  },
  {
   "cell_type": "markdown",
   "metadata": {},
   "source": [
    "## О данных"
   ]
  },
  {
   "cell_type": "markdown",
   "metadata": {},
   "source": [
    "Отдел надзора в каждой стране проводит общепринятую оценку качества питания для различных заведений общественного питания в черте города. Это ужасно хорошо заархивированная процедура.\n",
    "\n",
    "Отдел проверки хотел бы предсказать, на чем им следует сосредоточить больше всего внимания с точки зрения их следующего плана проверки, чтобы они могли максимально оптимизировать свое время.\n",
    "\n",
    "Может ли предыдущая оценка или любая информация, которую они собрали, предсказать, какая оценка будет успешной или нет?\n",
    "\n",
    "Ваша цель состоит в том, чтобы предсказать, пройдет ли оценка или не пройдёт оценку, основываясь на ряде компонентов."
   ]
  },
  {
   "cell_type": "markdown",
   "metadata": {
    "id": "FPSqz1wzTXvz",
    "papermill": {
     "duration": 0.027001,
     "end_time": "2020-11-27T11:52:28.939572",
     "exception": false,
     "start_time": "2020-11-27T11:52:28.912571",
     "status": "completed"
    },
    "tags": []
   },
   "source": [
    "## Импорт необходимых библиотек"
   ]
  },
  {
   "cell_type": "code",
   "execution_count": 1,
   "metadata": {
    "execution": {
     "iopub.execute_input": "2020-11-27T11:52:29.055248Z",
     "iopub.status.busy": "2020-11-27T11:52:29.054583Z",
     "iopub.status.idle": "2020-11-27T11:52:30.054016Z",
     "shell.execute_reply": "2020-11-27T11:52:30.053317Z"
    },
    "id": "GGyDovL2QDLa",
    "papermill": {
     "duration": 1.032787,
     "end_time": "2020-11-27T11:52:30.054137",
     "exception": false,
     "start_time": "2020-11-27T11:52:29.021350",
     "status": "completed"
    },
    "tags": []
   },
   "outputs": [],
   "source": [
    "import warnings\n",
    "warnings.filterwarnings('always')  # \"error\", \"ignore\", \"always\", \"default\", \"module\" or \"once\"\n",
    "\n",
    "import pandas as pd\n",
    "import numpy as np\n",
    "import seaborn as sns                       #visualisation\n",
    "import matplotlib.pyplot as plt             #visualisation\n",
    "from sklearn import preprocessing\n",
    "import random\n",
    "%matplotlib inline     "
   ]
  },
  {
   "cell_type": "markdown",
   "metadata": {
    "id": "Ye6eXuohTd5Q",
    "papermill": {
     "duration": 0.028147,
     "end_time": "2020-11-27T11:52:30.110492",
     "exception": false,
     "start_time": "2020-11-27T11:52:30.082345",
     "status": "completed"
    },
    "tags": []
   },
   "source": [
    "\n",
    "\n",
    "---\n",
    "\n"
   ]
  },
  {
   "cell_type": "markdown",
   "metadata": {
    "id": "8Y3Z2DbKTfJt",
    "papermill": {
     "duration": 0.027409,
     "end_time": "2020-11-27T11:52:30.165749",
     "exception": false,
     "start_time": "2020-11-27T11:52:30.138340",
     "status": "completed"
    },
    "tags": []
   },
   "source": [
    "## Загрузка данных в датафрейм"
   ]
  },
  {
   "cell_type": "markdown",
   "metadata": {
    "id": "ko5zGJFCySaz",
    "papermill": {
     "duration": 0.027623,
     "end_time": "2020-11-27T11:52:30.221200",
     "exception": false,
     "start_time": "2020-11-27T11:52:30.193577",
     "status": "completed"
    },
    "tags": []
   },
   "source": [
    "Так как наш набор данных в формате csv, прочитаем его следующей функцией в pandas (опционально можно подключить гугл диск, чтобы брать датасеты из него)"
   ]
  },
  {
   "cell_type": "code",
   "execution_count": 2,
   "metadata": {
    "id": "m_0BbOygeoYH"
   },
   "outputs": [],
   "source": [
    "#from google.colab import drive\n",
    "#drive.mount('/content/drive')"
   ]
  },
  {
   "cell_type": "code",
   "execution_count": 3,
   "metadata": {
    "colab": {
     "base_uri": "https://localhost:8080/",
     "height": 472
    },
    "execution": {
     "iopub.execute_input": "2020-11-27T11:52:30.341297Z",
     "iopub.status.busy": "2020-11-27T11:52:30.340585Z",
     "iopub.status.idle": "2020-11-27T11:52:30.408536Z",
     "shell.execute_reply": "2020-11-27T11:52:30.409040Z"
    },
    "id": "0oVZnezwQ159",
    "outputId": "b9659e87-2533-4610-d8dd-6f5dbec49a98",
    "papermill": {
     "duration": 0.104836,
     "end_time": "2020-11-27T11:52:30.409177",
     "exception": false,
     "start_time": "2020-11-27T11:52:30.304341",
     "status": "completed"
    },
    "tags": []
   },
   "outputs": [
    {
     "data": {
      "text/html": [
       "<div>\n",
       "<style scoped>\n",
       "    .dataframe tbody tr th:only-of-type {\n",
       "        vertical-align: middle;\n",
       "    }\n",
       "\n",
       "    .dataframe tbody tr th {\n",
       "        vertical-align: top;\n",
       "    }\n",
       "\n",
       "    .dataframe thead th {\n",
       "        text-align: right;\n",
       "    }\n",
       "</style>\n",
       "<table border=\"1\" class=\"dataframe\">\n",
       "  <thead>\n",
       "    <tr style=\"text-align: right;\">\n",
       "      <th></th>\n",
       "      <th>ID</th>\n",
       "      <th>Date</th>\n",
       "      <th>LicenseNo</th>\n",
       "      <th>Assessment_ID</th>\n",
       "      <th>Assessment_Name</th>\n",
       "      <th>Restaurent Type</th>\n",
       "      <th>Street ID</th>\n",
       "      <th>City ID</th>\n",
       "      <th>State ID</th>\n",
       "      <th>LocationID</th>\n",
       "      <th>Reason</th>\n",
       "      <th>SectionViolations</th>\n",
       "      <th>Risk_level</th>\n",
       "      <th>Geographical_Location</th>\n",
       "      <th>Assessment_Results</th>\n",
       "    </tr>\n",
       "  </thead>\n",
       "  <tbody>\n",
       "    <tr>\n",
       "      <th>0</th>\n",
       "      <td>0</td>\n",
       "      <td>07/08/2017</td>\n",
       "      <td>35576</td>\n",
       "      <td>27170</td>\n",
       "      <td>25928</td>\n",
       "      <td>RESTAURANT</td>\n",
       "      <td>14291</td>\n",
       "      <td>id-11235901</td>\n",
       "      <td>id_1890134</td>\n",
       "      <td>81874.0</td>\n",
       "      <td>COMPLAINT</td>\n",
       "      <td>3.0</td>\n",
       "      <td>High</td>\n",
       "      <td>locid3070</td>\n",
       "      <td>1</td>\n",
       "    </tr>\n",
       "    <tr>\n",
       "      <th>1</th>\n",
       "      <td>1</td>\n",
       "      <td>28/06/2016</td>\n",
       "      <td>33490</td>\n",
       "      <td>9159</td>\n",
       "      <td>8683</td>\n",
       "      <td>BAKERY</td>\n",
       "      <td>15266</td>\n",
       "      <td>id-11235901</td>\n",
       "      <td>id_1890134</td>\n",
       "      <td>81876.0</td>\n",
       "      <td>CANVASS</td>\n",
       "      <td>18.0</td>\n",
       "      <td>High</td>\n",
       "      <td>locid16348</td>\n",
       "      <td>1</td>\n",
       "    </tr>\n",
       "    <tr>\n",
       "      <th>2</th>\n",
       "      <td>2</td>\n",
       "      <td>06/07/2014</td>\n",
       "      <td>1716</td>\n",
       "      <td>12151</td>\n",
       "      <td>11559</td>\n",
       "      <td>RESTAURANT</td>\n",
       "      <td>10113</td>\n",
       "      <td>id-11235901</td>\n",
       "      <td>id_1890134</td>\n",
       "      <td>81886.0</td>\n",
       "      <td>CANVASS</td>\n",
       "      <td>32.0</td>\n",
       "      <td>High</td>\n",
       "      <td>locid13425</td>\n",
       "      <td>4</td>\n",
       "    </tr>\n",
       "    <tr>\n",
       "      <th>3</th>\n",
       "      <td>3</td>\n",
       "      <td>03/06/2015</td>\n",
       "      <td>11101</td>\n",
       "      <td>12030</td>\n",
       "      <td>11446</td>\n",
       "      <td>RESTAURANT</td>\n",
       "      <td>274</td>\n",
       "      <td>id-11235901</td>\n",
       "      <td>id_1890134</td>\n",
       "      <td>81873.0</td>\n",
       "      <td>COMPLAINT</td>\n",
       "      <td>18.0</td>\n",
       "      <td>High</td>\n",
       "      <td>locid656</td>\n",
       "      <td>1</td>\n",
       "    </tr>\n",
       "    <tr>\n",
       "      <th>4</th>\n",
       "      <td>4</td>\n",
       "      <td>26/02/2017</td>\n",
       "      <td>28642</td>\n",
       "      <td>21406</td>\n",
       "      <td>20451</td>\n",
       "      <td>RESTAURANT</td>\n",
       "      <td>7338</td>\n",
       "      <td>id-11235901</td>\n",
       "      <td>id_1890134</td>\n",
       "      <td>81902.0</td>\n",
       "      <td>CANVASS</td>\n",
       "      <td>34.0</td>\n",
       "      <td>High</td>\n",
       "      <td>locid12104</td>\n",
       "      <td>4</td>\n",
       "    </tr>\n",
       "  </tbody>\n",
       "</table>\n",
       "</div>"
      ],
      "text/plain": [
       "   ID        Date  LicenseNo  Assessment_ID  Assessment_Name Restaurent Type  \\\n",
       "0   0  07/08/2017      35576          27170            25928      RESTAURANT   \n",
       "1   1  28/06/2016      33490           9159             8683          BAKERY   \n",
       "2   2  06/07/2014       1716          12151            11559      RESTAURANT   \n",
       "3   3  03/06/2015      11101          12030            11446      RESTAURANT   \n",
       "4   4  26/02/2017      28642          21406            20451      RESTAURANT   \n",
       "\n",
       "   Street ID      City ID    State ID  LocationID     Reason  \\\n",
       "0      14291  id-11235901  id_1890134     81874.0  COMPLAINT   \n",
       "1      15266  id-11235901  id_1890134     81876.0    CANVASS   \n",
       "2      10113  id-11235901  id_1890134     81886.0    CANVASS   \n",
       "3        274  id-11235901  id_1890134     81873.0  COMPLAINT   \n",
       "4       7338  id-11235901  id_1890134     81902.0    CANVASS   \n",
       "\n",
       "   SectionViolations Risk_level Geographical_Location  Assessment_Results  \n",
       "0                3.0       High             locid3070                   1  \n",
       "1               18.0       High            locid16348                   1  \n",
       "2               32.0       High            locid13425                   4  \n",
       "3               18.0       High              locid656                   1  \n",
       "4               34.0       High            locid12104                   4  "
      ]
     },
     "execution_count": 3,
     "metadata": {},
     "output_type": "execute_result"
    }
   ],
   "source": [
    "df = pd.read_csv(\"data.csv\")\n",
    "# To display the top 5 rows \n",
    "df.head()               "
   ]
  },
  {
   "cell_type": "markdown",
   "metadata": {},
   "source": [
    "## Удаление классов из данных"
   ]
  },
  {
   "cell_type": "code",
   "execution_count": 4,
   "metadata": {},
   "outputs": [
    {
     "data": {
      "text/plain": [
       "4    75443\n",
       "1    23452\n",
       "5    10631\n",
       "6     4998\n",
       "3     2247\n",
       "2      700\n",
       "0       20\n",
       "Name: Assessment_Results, dtype: int64"
      ]
     },
     "execution_count": 4,
     "metadata": {},
     "output_type": "execute_result"
    }
   ],
   "source": [
    "df.Assessment_Results.value_counts()"
   ]
  },
  {
   "cell_type": "markdown",
   "metadata": {},
   "source": [
    "Значения каждого из классов:<br>\n",
    "0 : ОБЪЕКТ ИЗМЕНЕН<br>\n",
    "1 : НЕ ПРОШЕЛ<br>\n",
    "2 : ТРЕБУЕТСЯ ДОПОЛНИТЕЛЬНАЯ ПРОВЕРКА<br>\n",
    "3 : ПРОВЕРКА ОТМЕНЕНА<br>\n",
    "4 : ПРОШЕЛ<br>\n",
    "5 : ПРОЙДЕНО С НЕКОТОРЫМИ УСЛОВИЯМИ<br>\n",
    "6 : ВЫКЛЮЧЕНИЕ"
   ]
  },
  {
   "cell_type": "markdown",
   "metadata": {},
   "source": [
    "Можем обратить внимание на то, что категории 0, 2, 3 слишком редко встречаемые. Учитывая цель, которую мы хотим достичь - эти классы можно отбросить. "
   ]
  },
  {
   "cell_type": "code",
   "execution_count": 5,
   "metadata": {},
   "outputs": [
    {
     "data": {
      "text/plain": [
       "<bound method NDFrame.head of             ID        Date  LicenseNo  Assessment_ID  Assessment_Name  \\\n",
       "0            0  07/08/2017      35576          27170            25928   \n",
       "1            1  28/06/2016      33490           9159             8683   \n",
       "3            3  03/06/2015      11101          12030            11446   \n",
       "5            5  09/05/2017      28148          21824            20855   \n",
       "7            7  03/05/2017      33924          18109            17307   \n",
       "...        ...         ...        ...            ...              ...   \n",
       "117475  117475  10/03/2009       8630          22897            21868   \n",
       "117482  117482  22/03/2009      36033          26595            25365   \n",
       "117483  117483  26/01/2010      10528          10703            10154   \n",
       "117488  117488  04/03/2015      19374          22408            21426   \n",
       "117490  117490  20/04/2009      12316          18813            17982   \n",
       "\n",
       "       Restaurent Type  Street ID      City ID    State ID  LocationID  \\\n",
       "0           RESTAURANT      14291  id-11235901  id_1890134     81874.0   \n",
       "1               BAKERY      15266  id-11235901  id_1890134     81876.0   \n",
       "3           RESTAURANT        274  id-11235901  id_1890134     81873.0   \n",
       "5           RESTAURANT      17307  id-11235901  id_1890134     81897.0   \n",
       "7               SCHOOL       5609  id-11235901  id_1890134     81857.0   \n",
       "...                ...        ...          ...         ...         ...   \n",
       "117475      RESTAURANT       4529  id-11235901  id_1890134     81894.0   \n",
       "117482             NaN      17727  id-11235901  id_1890134     81867.0   \n",
       "117483      RESTAURANT       4240  id-11235901  id_1890134     81881.0   \n",
       "117488          SCHOOL      11481  id-11235901  id_1890134     81897.0   \n",
       "117490   GROCERY STORE      16332  id-11235901  id_1890134     81881.0   \n",
       "\n",
       "                       Reason  SectionViolations Risk_level  \\\n",
       "0                   COMPLAINT                3.0       High   \n",
       "1                     CANVASS               18.0       High   \n",
       "3                   COMPLAINT               18.0       High   \n",
       "5                     CANVASS               33.0       High   \n",
       "7                     CANVASS                3.0        Low   \n",
       "...                       ...                ...        ...   \n",
       "117475              COMPLAINT               34.0       High   \n",
       "117482   SHORT FORM COMPLAINT                NaN       High   \n",
       "117483                CANVASS               21.0       High   \n",
       "117488                CANVASS               26.0       High   \n",
       "117490  LICENSE RE-INSPECTION               38.0     Medium   \n",
       "\n",
       "       Geographical_Location  Assessment_Results  \n",
       "0                  locid3070                   1  \n",
       "1                 locid16348                   1  \n",
       "3                   locid656                   1  \n",
       "5                  locid1162                   4  \n",
       "7                  locid6560                   1  \n",
       "...                      ...                 ...  \n",
       "117475             locid2313                   4  \n",
       "117482             locid9114                   4  \n",
       "117483             locid2876                   5  \n",
       "117488             locid1341                   1  \n",
       "117490             locid2055                   1  \n",
       "\n",
       "[59526 rows x 15 columns]>"
      ]
     },
     "execution_count": 5,
     "metadata": {},
     "output_type": "execute_result"
    }
   ],
   "source": [
    "df = df.drop(df[df.Assessment_Results == 4].sample(n=50000).index)\n",
    "df = df.loc[df['Assessment_Results'].isin([1, 4, 5])]\n",
    "df.Assessment_Results.value_counts()\n",
    "df.head"
   ]
  },
  {
   "cell_type": "code",
   "execution_count": 6,
   "metadata": {
    "colab": {
     "base_uri": "https://localhost:8080/",
     "height": 455
    },
    "execution": {
     "iopub.execute_input": "2020-11-27T11:52:30.487251Z",
     "iopub.status.busy": "2020-11-27T11:52:30.486184Z",
     "iopub.status.idle": "2020-11-27T11:52:30.490767Z",
     "shell.execute_reply": "2020-11-27T11:52:30.490289Z"
    },
    "id": "Fm-9dzdTRKpe",
    "outputId": "3cddf5f8-a594-4b40-d2c6-edbe81b69723",
    "papermill": {
     "duration": 0.052534,
     "end_time": "2020-11-27T11:52:30.490899",
     "exception": false,
     "start_time": "2020-11-27T11:52:30.438365",
     "status": "completed"
    },
    "tags": []
   },
   "outputs": [
    {
     "data": {
      "text/html": [
       "<div>\n",
       "<style scoped>\n",
       "    .dataframe tbody tr th:only-of-type {\n",
       "        vertical-align: middle;\n",
       "    }\n",
       "\n",
       "    .dataframe tbody tr th {\n",
       "        vertical-align: top;\n",
       "    }\n",
       "\n",
       "    .dataframe thead th {\n",
       "        text-align: right;\n",
       "    }\n",
       "</style>\n",
       "<table border=\"1\" class=\"dataframe\">\n",
       "  <thead>\n",
       "    <tr style=\"text-align: right;\">\n",
       "      <th></th>\n",
       "      <th>ID</th>\n",
       "      <th>Date</th>\n",
       "      <th>LicenseNo</th>\n",
       "      <th>Assessment_ID</th>\n",
       "      <th>Assessment_Name</th>\n",
       "      <th>Restaurent Type</th>\n",
       "      <th>Street ID</th>\n",
       "      <th>City ID</th>\n",
       "      <th>State ID</th>\n",
       "      <th>LocationID</th>\n",
       "      <th>Reason</th>\n",
       "      <th>SectionViolations</th>\n",
       "      <th>Risk_level</th>\n",
       "      <th>Geographical_Location</th>\n",
       "      <th>Assessment_Results</th>\n",
       "    </tr>\n",
       "  </thead>\n",
       "  <tbody>\n",
       "    <tr>\n",
       "      <th>117475</th>\n",
       "      <td>117475</td>\n",
       "      <td>10/03/2009</td>\n",
       "      <td>8630</td>\n",
       "      <td>22897</td>\n",
       "      <td>21868</td>\n",
       "      <td>RESTAURANT</td>\n",
       "      <td>4529</td>\n",
       "      <td>id-11235901</td>\n",
       "      <td>id_1890134</td>\n",
       "      <td>81894.0</td>\n",
       "      <td>COMPLAINT</td>\n",
       "      <td>34.0</td>\n",
       "      <td>High</td>\n",
       "      <td>locid2313</td>\n",
       "      <td>4</td>\n",
       "    </tr>\n",
       "    <tr>\n",
       "      <th>117482</th>\n",
       "      <td>117482</td>\n",
       "      <td>22/03/2009</td>\n",
       "      <td>36033</td>\n",
       "      <td>26595</td>\n",
       "      <td>25365</td>\n",
       "      <td>NaN</td>\n",
       "      <td>17727</td>\n",
       "      <td>id-11235901</td>\n",
       "      <td>id_1890134</td>\n",
       "      <td>81867.0</td>\n",
       "      <td>SHORT FORM COMPLAINT</td>\n",
       "      <td>NaN</td>\n",
       "      <td>High</td>\n",
       "      <td>locid9114</td>\n",
       "      <td>4</td>\n",
       "    </tr>\n",
       "    <tr>\n",
       "      <th>117483</th>\n",
       "      <td>117483</td>\n",
       "      <td>26/01/2010</td>\n",
       "      <td>10528</td>\n",
       "      <td>10703</td>\n",
       "      <td>10154</td>\n",
       "      <td>RESTAURANT</td>\n",
       "      <td>4240</td>\n",
       "      <td>id-11235901</td>\n",
       "      <td>id_1890134</td>\n",
       "      <td>81881.0</td>\n",
       "      <td>CANVASS</td>\n",
       "      <td>21.0</td>\n",
       "      <td>High</td>\n",
       "      <td>locid2876</td>\n",
       "      <td>5</td>\n",
       "    </tr>\n",
       "    <tr>\n",
       "      <th>117488</th>\n",
       "      <td>117488</td>\n",
       "      <td>04/03/2015</td>\n",
       "      <td>19374</td>\n",
       "      <td>22408</td>\n",
       "      <td>21426</td>\n",
       "      <td>SCHOOL</td>\n",
       "      <td>11481</td>\n",
       "      <td>id-11235901</td>\n",
       "      <td>id_1890134</td>\n",
       "      <td>81897.0</td>\n",
       "      <td>CANVASS</td>\n",
       "      <td>26.0</td>\n",
       "      <td>High</td>\n",
       "      <td>locid1341</td>\n",
       "      <td>1</td>\n",
       "    </tr>\n",
       "    <tr>\n",
       "      <th>117490</th>\n",
       "      <td>117490</td>\n",
       "      <td>20/04/2009</td>\n",
       "      <td>12316</td>\n",
       "      <td>18813</td>\n",
       "      <td>17982</td>\n",
       "      <td>GROCERY STORE</td>\n",
       "      <td>16332</td>\n",
       "      <td>id-11235901</td>\n",
       "      <td>id_1890134</td>\n",
       "      <td>81881.0</td>\n",
       "      <td>LICENSE RE-INSPECTION</td>\n",
       "      <td>38.0</td>\n",
       "      <td>Medium</td>\n",
       "      <td>locid2055</td>\n",
       "      <td>1</td>\n",
       "    </tr>\n",
       "  </tbody>\n",
       "</table>\n",
       "</div>"
      ],
      "text/plain": [
       "            ID        Date  LicenseNo  Assessment_ID  Assessment_Name  \\\n",
       "117475  117475  10/03/2009       8630          22897            21868   \n",
       "117482  117482  22/03/2009      36033          26595            25365   \n",
       "117483  117483  26/01/2010      10528          10703            10154   \n",
       "117488  117488  04/03/2015      19374          22408            21426   \n",
       "117490  117490  20/04/2009      12316          18813            17982   \n",
       "\n",
       "       Restaurent Type  Street ID      City ID    State ID  LocationID  \\\n",
       "117475      RESTAURANT       4529  id-11235901  id_1890134     81894.0   \n",
       "117482             NaN      17727  id-11235901  id_1890134     81867.0   \n",
       "117483      RESTAURANT       4240  id-11235901  id_1890134     81881.0   \n",
       "117488          SCHOOL      11481  id-11235901  id_1890134     81897.0   \n",
       "117490   GROCERY STORE      16332  id-11235901  id_1890134     81881.0   \n",
       "\n",
       "                       Reason  SectionViolations Risk_level  \\\n",
       "117475              COMPLAINT               34.0       High   \n",
       "117482   SHORT FORM COMPLAINT                NaN       High   \n",
       "117483                CANVASS               21.0       High   \n",
       "117488                CANVASS               26.0       High   \n",
       "117490  LICENSE RE-INSPECTION               38.0     Medium   \n",
       "\n",
       "       Geographical_Location  Assessment_Results  \n",
       "117475             locid2313                   4  \n",
       "117482             locid9114                   4  \n",
       "117483             locid2876                   5  \n",
       "117488             locid1341                   1  \n",
       "117490             locid2055                   1  "
      ]
     },
     "execution_count": 6,
     "metadata": {},
     "output_type": "execute_result"
    }
   ],
   "source": [
    "df.tail(5)                        # To display the botton 5 rows"
   ]
  },
  {
   "cell_type": "markdown",
   "metadata": {
    "id": "JjQnr4SPzaL5",
    "papermill": {
     "duration": 0.029003,
     "end_time": "2020-11-27T11:52:30.549371",
     "exception": false,
     "start_time": "2020-11-27T11:52:30.520368",
     "status": "completed"
    },
    "tags": []
   },
   "source": [
    "\n",
    "\n",
    "---\n",
    "\n"
   ]
  },
  {
   "cell_type": "markdown",
   "metadata": {
    "id": "vAmC369yTpMF",
    "papermill": {
     "duration": 0.029103,
     "end_time": "2020-11-27T11:52:30.608838",
     "exception": false,
     "start_time": "2020-11-27T11:52:30.579735",
     "status": "completed"
    },
    "tags": []
   },
   "source": [
    "## Проверка типов данных"
   ]
  },
  {
   "cell_type": "markdown",
   "metadata": {
    "id": "9ESKxikIzA1d",
    "papermill": {
     "duration": 0.029261,
     "end_time": "2020-11-27T11:52:30.667608",
     "exception": false,
     "start_time": "2020-11-27T11:52:30.638347",
     "status": "completed"
    },
    "tags": []
   },
   "source": [
    "Здесь мы проверяем типы данных, потому что иногда цена автомобиля хранится в виде строки, поэтому следует преобразовать эту строку в целочисленные данные, только тогда возможно отобразить данные на графике. В данном случае данные уже представлены в целочисленном формате, поэтому беспокоиться не о чем."
   ]
  },
  {
   "cell_type": "code",
   "execution_count": 7,
   "metadata": {
    "colab": {
     "base_uri": "https://localhost:8080/"
    },
    "execution": {
     "iopub.execute_input": "2020-11-27T11:52:30.734838Z",
     "iopub.status.busy": "2020-11-27T11:52:30.733833Z",
     "iopub.status.idle": "2020-11-27T11:52:30.737879Z",
     "shell.execute_reply": "2020-11-27T11:52:30.737377Z"
    },
    "id": "qPbKQ0noRptD",
    "outputId": "e99b3ead-d931-4681-affa-d73c63545b10",
    "papermill": {
     "duration": 0.040549,
     "end_time": "2020-11-27T11:52:30.738002",
     "exception": false,
     "start_time": "2020-11-27T11:52:30.697453",
     "status": "completed"
    },
    "tags": []
   },
   "outputs": [
    {
     "data": {
      "text/plain": [
       "ID                         int64\n",
       "Date                      object\n",
       "LicenseNo                  int64\n",
       "Assessment_ID              int64\n",
       "Assessment_Name            int64\n",
       "Restaurent Type           object\n",
       "Street ID                  int64\n",
       "City ID                   object\n",
       "State ID                  object\n",
       "LocationID               float64\n",
       "Reason                    object\n",
       "SectionViolations        float64\n",
       "Risk_level                object\n",
       "Geographical_Location     object\n",
       "Assessment_Results         int64\n",
       "dtype: object"
      ]
     },
     "execution_count": 7,
     "metadata": {},
     "output_type": "execute_result"
    }
   ],
   "source": [
    "df.dtypes"
   ]
  },
  {
   "cell_type": "markdown",
   "metadata": {
    "id": "beRJyQAezdX8",
    "papermill": {
     "duration": 0.029309,
     "end_time": "2020-11-27T11:52:30.797064",
     "exception": false,
     "start_time": "2020-11-27T11:52:30.767755",
     "status": "completed"
    },
    "tags": []
   },
   "source": [
    "\n",
    "\n",
    "---\n",
    "\n"
   ]
  },
  {
   "cell_type": "markdown",
   "metadata": {
    "id": "QoHuBhXxT5E9",
    "papermill": {
     "duration": 0.029086,
     "end_time": "2020-11-27T11:52:30.855758",
     "exception": false,
     "start_time": "2020-11-27T11:52:30.826672",
     "status": "completed"
    },
    "tags": []
   },
   "source": [
    "## Удаление нерелевантных колонок"
   ]
  },
  {
   "cell_type": "markdown",
   "metadata": {
    "id": "_3cy877Mze4H",
    "papermill": {
     "duration": 0.029217,
     "end_time": "2020-11-27T11:52:30.914753",
     "exception": false,
     "start_time": "2020-11-27T11:52:30.885536",
     "status": "completed"
    },
    "tags": []
   },
   "source": [
    "Этот шаг, в каждом анализе данных, потому что иногда в наборе данных представлены неиспользуемые столбцы, которые следует отбросить. "
   ]
  },
  {
   "cell_type": "code",
   "execution_count": 8,
   "metadata": {},
   "outputs": [
    {
     "name": "stdout",
     "output_type": "stream",
     "text": [
      "id-11235901    59440\n",
      "id-11275913       86\n",
      "Name: City ID, dtype: int64\n"
     ]
    },
    {
     "data": {
      "text/plain": [
       "id_1890134    59510\n",
       "id_1890135       16\n",
       "Name: State ID, dtype: int64"
      ]
     },
     "execution_count": 8,
     "metadata": {},
     "output_type": "execute_result"
    }
   ],
   "source": [
    "print(df['City ID'].value_counts())\n",
    "df['State ID'].value_counts()"
   ]
  },
  {
   "cell_type": "code",
   "execution_count": 9,
   "metadata": {
    "colab": {
     "base_uri": "https://localhost:8080/",
     "height": 204
    },
    "execution": {
     "iopub.execute_input": "2020-11-27T11:52:30.994216Z",
     "iopub.status.busy": "2020-11-27T11:52:30.993162Z",
     "iopub.status.idle": "2020-11-27T11:52:30.997526Z",
     "shell.execute_reply": "2020-11-27T11:52:30.997034Z"
    },
    "id": "uvSkK8swTr9H",
    "outputId": "04cdd64c-4e9a-47e8-c79d-969527001a79",
    "papermill": {
     "duration": 0.053265,
     "end_time": "2020-11-27T11:52:30.997635",
     "exception": false,
     "start_time": "2020-11-27T11:52:30.944370",
     "status": "completed"
    },
    "tags": []
   },
   "outputs": [
    {
     "data": {
      "text/html": [
       "<div>\n",
       "<style scoped>\n",
       "    .dataframe tbody tr th:only-of-type {\n",
       "        vertical-align: middle;\n",
       "    }\n",
       "\n",
       "    .dataframe tbody tr th {\n",
       "        vertical-align: top;\n",
       "    }\n",
       "\n",
       "    .dataframe thead th {\n",
       "        text-align: right;\n",
       "    }\n",
       "</style>\n",
       "<table border=\"1\" class=\"dataframe\">\n",
       "  <thead>\n",
       "    <tr style=\"text-align: right;\">\n",
       "      <th></th>\n",
       "      <th>Assessment_Name</th>\n",
       "      <th>Restaurent Type</th>\n",
       "      <th>Street ID</th>\n",
       "      <th>LocationID</th>\n",
       "      <th>Reason</th>\n",
       "      <th>SectionViolations</th>\n",
       "      <th>Risk_level</th>\n",
       "      <th>Geographical_Location</th>\n",
       "      <th>Assessment_Results</th>\n",
       "    </tr>\n",
       "  </thead>\n",
       "  <tbody>\n",
       "    <tr>\n",
       "      <th>0</th>\n",
       "      <td>25928</td>\n",
       "      <td>RESTAURANT</td>\n",
       "      <td>14291</td>\n",
       "      <td>81874.0</td>\n",
       "      <td>COMPLAINT</td>\n",
       "      <td>3.0</td>\n",
       "      <td>High</td>\n",
       "      <td>locid3070</td>\n",
       "      <td>1</td>\n",
       "    </tr>\n",
       "    <tr>\n",
       "      <th>1</th>\n",
       "      <td>8683</td>\n",
       "      <td>BAKERY</td>\n",
       "      <td>15266</td>\n",
       "      <td>81876.0</td>\n",
       "      <td>CANVASS</td>\n",
       "      <td>18.0</td>\n",
       "      <td>High</td>\n",
       "      <td>locid16348</td>\n",
       "      <td>1</td>\n",
       "    </tr>\n",
       "    <tr>\n",
       "      <th>3</th>\n",
       "      <td>11446</td>\n",
       "      <td>RESTAURANT</td>\n",
       "      <td>274</td>\n",
       "      <td>81873.0</td>\n",
       "      <td>COMPLAINT</td>\n",
       "      <td>18.0</td>\n",
       "      <td>High</td>\n",
       "      <td>locid656</td>\n",
       "      <td>1</td>\n",
       "    </tr>\n",
       "    <tr>\n",
       "      <th>5</th>\n",
       "      <td>20855</td>\n",
       "      <td>RESTAURANT</td>\n",
       "      <td>17307</td>\n",
       "      <td>81897.0</td>\n",
       "      <td>CANVASS</td>\n",
       "      <td>33.0</td>\n",
       "      <td>High</td>\n",
       "      <td>locid1162</td>\n",
       "      <td>4</td>\n",
       "    </tr>\n",
       "    <tr>\n",
       "      <th>7</th>\n",
       "      <td>17307</td>\n",
       "      <td>SCHOOL</td>\n",
       "      <td>5609</td>\n",
       "      <td>81857.0</td>\n",
       "      <td>CANVASS</td>\n",
       "      <td>3.0</td>\n",
       "      <td>Low</td>\n",
       "      <td>locid6560</td>\n",
       "      <td>1</td>\n",
       "    </tr>\n",
       "  </tbody>\n",
       "</table>\n",
       "</div>"
      ],
      "text/plain": [
       "   Assessment_Name Restaurent Type  Street ID  LocationID     Reason  \\\n",
       "0            25928      RESTAURANT      14291     81874.0  COMPLAINT   \n",
       "1             8683          BAKERY      15266     81876.0    CANVASS   \n",
       "3            11446      RESTAURANT        274     81873.0  COMPLAINT   \n",
       "5            20855      RESTAURANT      17307     81897.0    CANVASS   \n",
       "7            17307          SCHOOL       5609     81857.0    CANVASS   \n",
       "\n",
       "   SectionViolations Risk_level Geographical_Location  Assessment_Results  \n",
       "0                3.0       High             locid3070                   1  \n",
       "1               18.0       High            locid16348                   1  \n",
       "3               18.0       High              locid656                   1  \n",
       "5               33.0       High             locid1162                   4  \n",
       "7                3.0        Low             locid6560                   1  "
      ]
     },
     "execution_count": 9,
     "metadata": {},
     "output_type": "execute_result"
    }
   ],
   "source": [
    "df = df.drop(['ID', 'Assessment_ID', 'LicenseNo', 'City ID', 'State ID', 'Date'], axis=1)\n",
    "df.head(5)"
   ]
  },
  {
   "cell_type": "markdown",
   "metadata": {
    "id": "20OeQBpWz89v",
    "papermill": {
     "duration": 0.029929,
     "end_time": "2020-11-27T11:52:31.057925",
     "exception": false,
     "start_time": "2020-11-27T11:52:31.027996",
     "status": "completed"
    },
    "tags": []
   },
   "source": [
    "\n",
    "\n",
    "---\n",
    "\n"
   ]
  },
  {
   "cell_type": "markdown",
   "metadata": {
    "id": "caAownWdUZso",
    "papermill": {
     "duration": 0.030223,
     "end_time": "2020-11-27T11:52:31.118132",
     "exception": false,
     "start_time": "2020-11-27T11:52:31.087909",
     "status": "completed"
    },
    "tags": []
   },
   "source": [
    "## Переименование столбцов"
   ]
  },
  {
   "cell_type": "markdown",
   "metadata": {
    "id": "UABLiEcyz-2G",
    "papermill": {
     "duration": 0.030318,
     "end_time": "2020-11-27T11:52:31.178829",
     "exception": false,
     "start_time": "2020-11-27T11:52:31.148511",
     "status": "completed"
    },
    "tags": []
   },
   "source": [
    "В данном случае большинство названий столбцов нечитаемы, поэтому переименуем их."
   ]
  },
  {
   "cell_type": "code",
   "execution_count": 10,
   "metadata": {
    "colab": {
     "base_uri": "https://localhost:8080/",
     "height": 204
    },
    "execution": {
     "iopub.execute_input": "2020-11-27T11:52:31.245798Z",
     "iopub.status.busy": "2020-11-27T11:52:31.245033Z",
     "iopub.status.idle": "2020-11-27T11:52:31.260466Z",
     "shell.execute_reply": "2020-11-27T11:52:31.259923Z"
    },
    "id": "1wHW41whURub",
    "outputId": "d40cff21-f575-49a7-d12a-191e4a1fa6d0",
    "papermill": {
     "duration": 0.05128,
     "end_time": "2020-11-27T11:52:31.260584",
     "exception": false,
     "start_time": "2020-11-27T11:52:31.209304",
     "status": "completed"
    },
    "tags": []
   },
   "outputs": [
    {
     "data": {
      "text/html": [
       "<div>\n",
       "<style scoped>\n",
       "    .dataframe tbody tr th:only-of-type {\n",
       "        vertical-align: middle;\n",
       "    }\n",
       "\n",
       "    .dataframe tbody tr th {\n",
       "        vertical-align: top;\n",
       "    }\n",
       "\n",
       "    .dataframe thead th {\n",
       "        text-align: right;\n",
       "    }\n",
       "</style>\n",
       "<table border=\"1\" class=\"dataframe\">\n",
       "  <thead>\n",
       "    <tr style=\"text-align: right;\">\n",
       "      <th></th>\n",
       "      <th>Assessment_Name</th>\n",
       "      <th>RestaurentType</th>\n",
       "      <th>Street ID</th>\n",
       "      <th>LocationID</th>\n",
       "      <th>Reason</th>\n",
       "      <th>SectionViolations</th>\n",
       "      <th>Risk_level</th>\n",
       "      <th>Geographical_Location</th>\n",
       "      <th>Assessment_Results</th>\n",
       "    </tr>\n",
       "  </thead>\n",
       "  <tbody>\n",
       "    <tr>\n",
       "      <th>0</th>\n",
       "      <td>25928</td>\n",
       "      <td>RESTAURANT</td>\n",
       "      <td>14291</td>\n",
       "      <td>81874.0</td>\n",
       "      <td>COMPLAINT</td>\n",
       "      <td>3.0</td>\n",
       "      <td>High</td>\n",
       "      <td>locid3070</td>\n",
       "      <td>1</td>\n",
       "    </tr>\n",
       "    <tr>\n",
       "      <th>1</th>\n",
       "      <td>8683</td>\n",
       "      <td>BAKERY</td>\n",
       "      <td>15266</td>\n",
       "      <td>81876.0</td>\n",
       "      <td>CANVASS</td>\n",
       "      <td>18.0</td>\n",
       "      <td>High</td>\n",
       "      <td>locid16348</td>\n",
       "      <td>1</td>\n",
       "    </tr>\n",
       "    <tr>\n",
       "      <th>3</th>\n",
       "      <td>11446</td>\n",
       "      <td>RESTAURANT</td>\n",
       "      <td>274</td>\n",
       "      <td>81873.0</td>\n",
       "      <td>COMPLAINT</td>\n",
       "      <td>18.0</td>\n",
       "      <td>High</td>\n",
       "      <td>locid656</td>\n",
       "      <td>1</td>\n",
       "    </tr>\n",
       "    <tr>\n",
       "      <th>5</th>\n",
       "      <td>20855</td>\n",
       "      <td>RESTAURANT</td>\n",
       "      <td>17307</td>\n",
       "      <td>81897.0</td>\n",
       "      <td>CANVASS</td>\n",
       "      <td>33.0</td>\n",
       "      <td>High</td>\n",
       "      <td>locid1162</td>\n",
       "      <td>4</td>\n",
       "    </tr>\n",
       "    <tr>\n",
       "      <th>7</th>\n",
       "      <td>17307</td>\n",
       "      <td>SCHOOL</td>\n",
       "      <td>5609</td>\n",
       "      <td>81857.0</td>\n",
       "      <td>CANVASS</td>\n",
       "      <td>3.0</td>\n",
       "      <td>Low</td>\n",
       "      <td>locid6560</td>\n",
       "      <td>1</td>\n",
       "    </tr>\n",
       "  </tbody>\n",
       "</table>\n",
       "</div>"
      ],
      "text/plain": [
       "   Assessment_Name RestaurentType  Street ID  LocationID     Reason  \\\n",
       "0            25928     RESTAURANT      14291     81874.0  COMPLAINT   \n",
       "1             8683         BAKERY      15266     81876.0    CANVASS   \n",
       "3            11446     RESTAURANT        274     81873.0  COMPLAINT   \n",
       "5            20855     RESTAURANT      17307     81897.0    CANVASS   \n",
       "7            17307         SCHOOL       5609     81857.0    CANVASS   \n",
       "\n",
       "   SectionViolations Risk_level Geographical_Location  Assessment_Results  \n",
       "0                3.0       High             locid3070                   1  \n",
       "1               18.0       High            locid16348                   1  \n",
       "3               18.0       High              locid656                   1  \n",
       "5               33.0       High             locid1162                   4  \n",
       "7                3.0        Low             locid6560                   1  "
      ]
     },
     "execution_count": 10,
     "metadata": {},
     "output_type": "execute_result"
    }
   ],
   "source": [
    "df = df.rename(columns={\"Restaurent Type\": \"RestaurentType\"})\n",
    "df.head(5)"
   ]
  },
  {
   "cell_type": "markdown",
   "metadata": {
    "id": "5tcGiOmV0afN",
    "papermill": {
     "duration": 0.030645,
     "end_time": "2020-11-27T11:52:31.323355",
     "exception": false,
     "start_time": "2020-11-27T11:52:31.292710",
     "status": "completed"
    },
    "tags": []
   },
   "source": [
    "\n",
    "\n",
    "---\n",
    "\n"
   ]
  },
  {
   "cell_type": "markdown",
   "metadata": {
    "id": "uiW7x_O4WIDX",
    "papermill": {
     "duration": 0.030638,
     "end_time": "2020-11-27T11:52:31.385353",
     "exception": false,
     "start_time": "2020-11-27T11:52:31.354715",
     "status": "completed"
    },
    "tags": []
   },
   "source": [
    "## Удаление дубликатов"
   ]
  },
  {
   "cell_type": "markdown",
   "metadata": {
    "id": "9LpR5NW70hXm",
    "papermill": {
     "duration": 0.030478,
     "end_time": "2020-11-27T11:52:31.446542",
     "exception": false,
     "start_time": "2020-11-27T11:52:31.416064",
     "status": "completed"
    },
    "tags": []
   },
   "source": [
    "Большой набор данных (более 10 000 строк), часто может содержать в себе дубликаты. Например, до удаления в данном наборе было 11914 строк данных, а после удаления дубликатов 10925, таким образом набор данных содержал 989 строк дубликатов."
   ]
  },
  {
   "cell_type": "code",
   "execution_count": 11,
   "metadata": {
    "colab": {
     "base_uri": "https://localhost:8080/"
    },
    "execution": {
     "iopub.execute_input": "2020-11-27T11:52:31.512940Z",
     "iopub.status.busy": "2020-11-27T11:52:31.512151Z",
     "iopub.status.idle": "2020-11-27T11:52:31.516507Z",
     "shell.execute_reply": "2020-11-27T11:52:31.515912Z"
    },
    "id": "1nBN_BCDWSmv",
    "outputId": "cc0d2d1e-6838-4d7d-853e-e9690358b98e",
    "papermill": {
     "duration": 0.039307,
     "end_time": "2020-11-27T11:52:31.516612",
     "exception": false,
     "start_time": "2020-11-27T11:52:31.477305",
     "status": "completed"
    },
    "tags": []
   },
   "outputs": [
    {
     "data": {
      "text/plain": [
       "(59526, 9)"
      ]
     },
     "execution_count": 11,
     "metadata": {},
     "output_type": "execute_result"
    }
   ],
   "source": [
    "df.shape"
   ]
  },
  {
   "cell_type": "code",
   "execution_count": 12,
   "metadata": {
    "colab": {
     "base_uri": "https://localhost:8080/"
    },
    "execution": {
     "iopub.execute_input": "2020-11-27T11:52:31.587137Z",
     "iopub.status.busy": "2020-11-27T11:52:31.586114Z",
     "iopub.status.idle": "2020-11-27T11:52:31.602151Z",
     "shell.execute_reply": "2020-11-27T11:52:31.601648Z"
    },
    "id": "yB8t6o0wH7If",
    "outputId": "d429baf1-ab57-404c-f5e8-f2f2ef310dd4",
    "papermill": {
     "duration": 0.053706,
     "end_time": "2020-11-27T11:52:31.602271",
     "exception": false,
     "start_time": "2020-11-27T11:52:31.548565",
     "status": "completed"
    },
    "tags": []
   },
   "outputs": [
    {
     "name": "stdout",
     "output_type": "stream",
     "text": [
      "number of duplicate rows:  (3284, 9)\n"
     ]
    }
   ],
   "source": [
    "duplicate_rows_df = df[df.duplicated()]\n",
    "print(\"number of duplicate rows: \", duplicate_rows_df.shape)"
   ]
  },
  {
   "cell_type": "code",
   "execution_count": 13,
   "metadata": {
    "colab": {
     "base_uri": "https://localhost:8080/"
    },
    "execution": {
     "iopub.execute_input": "2020-11-27T11:52:31.735456Z",
     "iopub.status.busy": "2020-11-27T11:52:31.734753Z",
     "iopub.status.idle": "2020-11-27T11:52:31.741387Z",
     "shell.execute_reply": "2020-11-27T11:52:31.740842Z"
    },
    "id": "kuobmetTV820",
    "outputId": "31c4c2e5-61d1-4fd8-8aae-02b698f7fde5",
    "papermill": {
     "duration": 0.045289,
     "end_time": "2020-11-27T11:52:31.741503",
     "exception": false,
     "start_time": "2020-11-27T11:52:31.696214",
     "status": "completed"
    },
    "tags": []
   },
   "outputs": [
    {
     "data": {
      "text/plain": [
       "Assessment_Name          59526\n",
       "RestaurentType           59236\n",
       "Street ID                59526\n",
       "LocationID               59516\n",
       "Reason                   59526\n",
       "SectionViolations        51825\n",
       "Risk_level               59526\n",
       "Geographical_Location    59526\n",
       "Assessment_Results       59526\n",
       "dtype: int64"
      ]
     },
     "execution_count": 13,
     "metadata": {},
     "output_type": "execute_result"
    }
   ],
   "source": [
    "df.count()      # Used to count the number of rows"
   ]
  },
  {
   "cell_type": "markdown",
   "metadata": {
    "id": "_MJKjbzHI40K",
    "papermill": {
     "duration": 0.032123,
     "end_time": "2020-11-27T11:52:31.806242",
     "exception": false,
     "start_time": "2020-11-27T11:52:31.774119",
     "status": "completed"
    },
    "tags": []
   },
   "source": [
    "В датафрейме представлено 11914 строк, удалим 989 строк, содержащих дубликаты."
   ]
  },
  {
   "cell_type": "code",
   "execution_count": 14,
   "metadata": {
    "colab": {
     "base_uri": "https://localhost:8080/",
     "height": 204
    },
    "execution": {
     "iopub.execute_input": "2020-11-27T11:52:31.876439Z",
     "iopub.status.busy": "2020-11-27T11:52:31.875501Z",
     "iopub.status.idle": "2020-11-27T11:52:31.896377Z",
     "shell.execute_reply": "2020-11-27T11:52:31.895850Z"
    },
    "id": "OiOsEF6WVTSj",
    "outputId": "0328490c-c378-4959-b1d2-0f75cc6b5f42",
    "papermill": {
     "duration": 0.058104,
     "end_time": "2020-11-27T11:52:31.896493",
     "exception": false,
     "start_time": "2020-11-27T11:52:31.838389",
     "status": "completed"
    },
    "tags": []
   },
   "outputs": [
    {
     "data": {
      "text/html": [
       "<div>\n",
       "<style scoped>\n",
       "    .dataframe tbody tr th:only-of-type {\n",
       "        vertical-align: middle;\n",
       "    }\n",
       "\n",
       "    .dataframe tbody tr th {\n",
       "        vertical-align: top;\n",
       "    }\n",
       "\n",
       "    .dataframe thead th {\n",
       "        text-align: right;\n",
       "    }\n",
       "</style>\n",
       "<table border=\"1\" class=\"dataframe\">\n",
       "  <thead>\n",
       "    <tr style=\"text-align: right;\">\n",
       "      <th></th>\n",
       "      <th>Assessment_Name</th>\n",
       "      <th>RestaurentType</th>\n",
       "      <th>Street ID</th>\n",
       "      <th>LocationID</th>\n",
       "      <th>Reason</th>\n",
       "      <th>SectionViolations</th>\n",
       "      <th>Risk_level</th>\n",
       "      <th>Geographical_Location</th>\n",
       "      <th>Assessment_Results</th>\n",
       "    </tr>\n",
       "  </thead>\n",
       "  <tbody>\n",
       "    <tr>\n",
       "      <th>0</th>\n",
       "      <td>25928</td>\n",
       "      <td>RESTAURANT</td>\n",
       "      <td>14291</td>\n",
       "      <td>81874.0</td>\n",
       "      <td>COMPLAINT</td>\n",
       "      <td>3.0</td>\n",
       "      <td>High</td>\n",
       "      <td>locid3070</td>\n",
       "      <td>1</td>\n",
       "    </tr>\n",
       "    <tr>\n",
       "      <th>1</th>\n",
       "      <td>8683</td>\n",
       "      <td>BAKERY</td>\n",
       "      <td>15266</td>\n",
       "      <td>81876.0</td>\n",
       "      <td>CANVASS</td>\n",
       "      <td>18.0</td>\n",
       "      <td>High</td>\n",
       "      <td>locid16348</td>\n",
       "      <td>1</td>\n",
       "    </tr>\n",
       "    <tr>\n",
       "      <th>3</th>\n",
       "      <td>11446</td>\n",
       "      <td>RESTAURANT</td>\n",
       "      <td>274</td>\n",
       "      <td>81873.0</td>\n",
       "      <td>COMPLAINT</td>\n",
       "      <td>18.0</td>\n",
       "      <td>High</td>\n",
       "      <td>locid656</td>\n",
       "      <td>1</td>\n",
       "    </tr>\n",
       "    <tr>\n",
       "      <th>5</th>\n",
       "      <td>20855</td>\n",
       "      <td>RESTAURANT</td>\n",
       "      <td>17307</td>\n",
       "      <td>81897.0</td>\n",
       "      <td>CANVASS</td>\n",
       "      <td>33.0</td>\n",
       "      <td>High</td>\n",
       "      <td>locid1162</td>\n",
       "      <td>4</td>\n",
       "    </tr>\n",
       "    <tr>\n",
       "      <th>7</th>\n",
       "      <td>17307</td>\n",
       "      <td>SCHOOL</td>\n",
       "      <td>5609</td>\n",
       "      <td>81857.0</td>\n",
       "      <td>CANVASS</td>\n",
       "      <td>3.0</td>\n",
       "      <td>Low</td>\n",
       "      <td>locid6560</td>\n",
       "      <td>1</td>\n",
       "    </tr>\n",
       "  </tbody>\n",
       "</table>\n",
       "</div>"
      ],
      "text/plain": [
       "   Assessment_Name RestaurentType  Street ID  LocationID     Reason  \\\n",
       "0            25928     RESTAURANT      14291     81874.0  COMPLAINT   \n",
       "1             8683         BAKERY      15266     81876.0    CANVASS   \n",
       "3            11446     RESTAURANT        274     81873.0  COMPLAINT   \n",
       "5            20855     RESTAURANT      17307     81897.0    CANVASS   \n",
       "7            17307         SCHOOL       5609     81857.0    CANVASS   \n",
       "\n",
       "   SectionViolations Risk_level Geographical_Location  Assessment_Results  \n",
       "0                3.0       High             locid3070                   1  \n",
       "1               18.0       High            locid16348                   1  \n",
       "3               18.0       High              locid656                   1  \n",
       "5               33.0       High             locid1162                   4  \n",
       "7                3.0        Low             locid6560                   1  "
      ]
     },
     "execution_count": 14,
     "metadata": {},
     "output_type": "execute_result"
    }
   ],
   "source": [
    "df = df.drop_duplicates()\n",
    "df.head(5)"
   ]
  },
  {
   "cell_type": "code",
   "execution_count": 15,
   "metadata": {
    "colab": {
     "base_uri": "https://localhost:8080/"
    },
    "execution": {
     "iopub.execute_input": "2020-11-27T11:52:31.968742Z",
     "iopub.status.busy": "2020-11-27T11:52:31.968146Z",
     "iopub.status.idle": "2020-11-27T11:52:31.974209Z",
     "shell.execute_reply": "2020-11-27T11:52:31.973613Z"
    },
    "id": "2gMM4lb0Vzor",
    "outputId": "9952cb02-db73-4424-928c-dd70cb0bfb29",
    "papermill": {
     "duration": 0.045247,
     "end_time": "2020-11-27T11:52:31.974315",
     "exception": false,
     "start_time": "2020-11-27T11:52:31.929068",
     "status": "completed"
    },
    "tags": []
   },
   "outputs": [
    {
     "data": {
      "text/plain": [
       "Assessment_Name          56242\n",
       "RestaurentType           55957\n",
       "Street ID                56242\n",
       "LocationID               56232\n",
       "Reason                   56242\n",
       "SectionViolations        48980\n",
       "Risk_level               56242\n",
       "Geographical_Location    56242\n",
       "Assessment_Results       56242\n",
       "dtype: int64"
      ]
     },
     "execution_count": 15,
     "metadata": {},
     "output_type": "execute_result"
    }
   ],
   "source": [
    "df.count()"
   ]
  },
  {
   "cell_type": "markdown",
   "metadata": {
    "id": "JkXUQtyQW3Dy",
    "papermill": {
     "duration": 0.033049,
     "end_time": "2020-11-27T11:52:32.106118",
     "exception": false,
     "start_time": "2020-11-27T11:52:32.073069",
     "status": "completed"
    },
    "tags": []
   },
   "source": [
    "## Удаление пропусков"
   ]
  },
  {
   "cell_type": "markdown",
   "metadata": {
    "id": "K5pKvJi41YCp",
    "papermill": {
     "duration": 0.033171,
     "end_time": "2020-11-27T11:52:32.173467",
     "exception": false,
     "start_time": "2020-11-27T11:52:32.140296",
     "status": "completed"
    },
    "tags": []
   },
   "source": [
    "Этот шаг в основном похож на предыдущий, но здесь все отсутствующие значения определяются и отбрасываются. Также применяются тактики замены отсутствующих значений средним значением или средним значением этого столбца. В данном случае пропущено 99 значений - достаточная низкая доля всего набора данных из 10000 значений, поэтому удаление строк с пропущенными значениями не критично. "
   ]
  },
  {
   "cell_type": "code",
   "execution_count": 16,
   "metadata": {
    "colab": {
     "base_uri": "https://localhost:8080/"
    },
    "execution": {
     "iopub.execute_input": "2020-11-27T11:52:32.247260Z",
     "iopub.status.busy": "2020-11-27T11:52:32.246296Z",
     "iopub.status.idle": "2020-11-27T11:52:32.251941Z",
     "shell.execute_reply": "2020-11-27T11:52:32.251446Z"
    },
    "id": "Tzdlg-1OWjMz",
    "outputId": "ffb119ea-e0c1-4bd4-cfa9-10419e6acf1f",
    "papermill": {
     "duration": 0.045703,
     "end_time": "2020-11-27T11:52:32.252054",
     "exception": false,
     "start_time": "2020-11-27T11:52:32.206351",
     "status": "completed"
    },
    "tags": []
   },
   "outputs": [
    {
     "name": "stdout",
     "output_type": "stream",
     "text": [
      "Assessment_Name             0\n",
      "RestaurentType            285\n",
      "Street ID                   0\n",
      "LocationID                 10\n",
      "Reason                      0\n",
      "SectionViolations        7262\n",
      "Risk_level                  0\n",
      "Geographical_Location       0\n",
      "Assessment_Results          0\n",
      "dtype: int64\n"
     ]
    }
   ],
   "source": [
    "print(df.isnull().sum())"
   ]
  },
  {
   "cell_type": "code",
   "execution_count": 17,
   "metadata": {
    "colab": {
     "base_uri": "https://localhost:8080/"
    },
    "execution": {
     "iopub.execute_input": "2020-11-27T11:52:32.393563Z",
     "iopub.status.busy": "2020-11-27T11:52:32.392780Z",
     "iopub.status.idle": "2020-11-27T11:52:32.424245Z",
     "shell.execute_reply": "2020-11-27T11:52:32.423583Z"
    },
    "id": "KbbV0xHPWoad",
    "outputId": "e4c46092-4e82-4bb2-bcc2-a653f49a01eb",
    "papermill": {
     "duration": 0.071586,
     "end_time": "2020-11-27T11:52:32.424366",
     "exception": false,
     "start_time": "2020-11-27T11:52:32.352780",
     "status": "completed"
    },
    "tags": []
   },
   "outputs": [
    {
     "data": {
      "text/plain": [
       "Assessment_Name          48932\n",
       "RestaurentType           48932\n",
       "Street ID                48932\n",
       "LocationID               48932\n",
       "Reason                   48932\n",
       "SectionViolations        48932\n",
       "Risk_level               48932\n",
       "Geographical_Location    48932\n",
       "Assessment_Results       48932\n",
       "dtype: int64"
      ]
     },
     "execution_count": 17,
     "metadata": {},
     "output_type": "execute_result"
    }
   ],
   "source": [
    "df = df.dropna()    # Dropping the missing values.\n",
    "df.count()"
   ]
  },
  {
   "cell_type": "markdown",
   "metadata": {
    "id": "2t7L9l2mJSoX",
    "papermill": {
     "duration": 0.033726,
     "end_time": "2020-11-27T11:52:32.496715",
     "exception": false,
     "start_time": "2020-11-27T11:52:32.462989",
     "status": "completed"
    },
    "tags": []
   },
   "source": [
    "Удалили все строки с пропущенными значениями (Restaurent Type и SectionViolations)."
   ]
  },
  {
   "cell_type": "code",
   "execution_count": 18,
   "metadata": {
    "colab": {
     "base_uri": "https://localhost:8080/"
    },
    "execution": {
     "iopub.execute_input": "2020-11-27T11:52:32.571710Z",
     "iopub.status.busy": "2020-11-27T11:52:32.571093Z",
     "iopub.status.idle": "2020-11-27T11:52:32.575569Z",
     "shell.execute_reply": "2020-11-27T11:52:32.576056Z"
    },
    "id": "V-DmX1O4Wtox",
    "outputId": "7e983b85-f680-487e-daed-b61726ff3427",
    "papermill": {
     "duration": 0.045646,
     "end_time": "2020-11-27T11:52:32.576197",
     "exception": false,
     "start_time": "2020-11-27T11:52:32.530551",
     "status": "completed"
    },
    "tags": []
   },
   "outputs": [
    {
     "name": "stdout",
     "output_type": "stream",
     "text": [
      "Assessment_Name          0\n",
      "RestaurentType           0\n",
      "Street ID                0\n",
      "LocationID               0\n",
      "Reason                   0\n",
      "SectionViolations        0\n",
      "Risk_level               0\n",
      "Geographical_Location    0\n",
      "Assessment_Results       0\n",
      "dtype: int64\n"
     ]
    }
   ],
   "source": [
    "print(df.isnull().sum())   # After dropping the values"
   ]
  },
  {
   "cell_type": "markdown",
   "metadata": {},
   "source": [
    "## Замена категориальных переменных"
   ]
  },
  {
   "cell_type": "code",
   "execution_count": 19,
   "metadata": {},
   "outputs": [
    {
     "data": {
      "text/plain": [
       "High      36416\n",
       "Medium     9463\n",
       "Low        3053\n",
       "Name: Risk_level, dtype: int64"
      ]
     },
     "execution_count": 19,
     "metadata": {},
     "output_type": "execute_result"
    }
   ],
   "source": [
    "df['Risk_level'].value_counts()"
   ]
  },
  {
   "cell_type": "code",
   "execution_count": 20,
   "metadata": {},
   "outputs": [
    {
     "data": {
      "text/html": [
       "<div>\n",
       "<style scoped>\n",
       "    .dataframe tbody tr th:only-of-type {\n",
       "        vertical-align: middle;\n",
       "    }\n",
       "\n",
       "    .dataframe tbody tr th {\n",
       "        vertical-align: top;\n",
       "    }\n",
       "\n",
       "    .dataframe thead th {\n",
       "        text-align: right;\n",
       "    }\n",
       "</style>\n",
       "<table border=\"1\" class=\"dataframe\">\n",
       "  <thead>\n",
       "    <tr style=\"text-align: right;\">\n",
       "      <th></th>\n",
       "      <th>Assessment_Name</th>\n",
       "      <th>RestaurentType</th>\n",
       "      <th>Street ID</th>\n",
       "      <th>LocationID</th>\n",
       "      <th>Reason</th>\n",
       "      <th>SectionViolations</th>\n",
       "      <th>Risk_level</th>\n",
       "      <th>Geographical_Location</th>\n",
       "      <th>Assessment_Results</th>\n",
       "    </tr>\n",
       "  </thead>\n",
       "  <tbody>\n",
       "    <tr>\n",
       "      <th>0</th>\n",
       "      <td>25928</td>\n",
       "      <td>33469</td>\n",
       "      <td>14291</td>\n",
       "      <td>81874.0</td>\n",
       "      <td>6546</td>\n",
       "      <td>3.0</td>\n",
       "      <td>3</td>\n",
       "      <td>locid3070</td>\n",
       "      <td>1</td>\n",
       "    </tr>\n",
       "    <tr>\n",
       "      <th>1</th>\n",
       "      <td>8683</td>\n",
       "      <td>766</td>\n",
       "      <td>15266</td>\n",
       "      <td>81876.0</td>\n",
       "      <td>25833</td>\n",
       "      <td>18.0</td>\n",
       "      <td>3</td>\n",
       "      <td>locid16348</td>\n",
       "      <td>1</td>\n",
       "    </tr>\n",
       "    <tr>\n",
       "      <th>3</th>\n",
       "      <td>11446</td>\n",
       "      <td>33469</td>\n",
       "      <td>274</td>\n",
       "      <td>81873.0</td>\n",
       "      <td>6546</td>\n",
       "      <td>18.0</td>\n",
       "      <td>3</td>\n",
       "      <td>locid656</td>\n",
       "      <td>1</td>\n",
       "    </tr>\n",
       "    <tr>\n",
       "      <th>5</th>\n",
       "      <td>20855</td>\n",
       "      <td>33469</td>\n",
       "      <td>17307</td>\n",
       "      <td>81897.0</td>\n",
       "      <td>25833</td>\n",
       "      <td>33.0</td>\n",
       "      <td>3</td>\n",
       "      <td>locid1162</td>\n",
       "      <td>4</td>\n",
       "    </tr>\n",
       "    <tr>\n",
       "      <th>7</th>\n",
       "      <td>17307</td>\n",
       "      <td>3254</td>\n",
       "      <td>5609</td>\n",
       "      <td>81857.0</td>\n",
       "      <td>25833</td>\n",
       "      <td>3.0</td>\n",
       "      <td>1</td>\n",
       "      <td>locid6560</td>\n",
       "      <td>1</td>\n",
       "    </tr>\n",
       "  </tbody>\n",
       "</table>\n",
       "</div>"
      ],
      "text/plain": [
       "   Assessment_Name  RestaurentType  Street ID  LocationID  Reason  \\\n",
       "0            25928           33469      14291     81874.0    6546   \n",
       "1             8683             766      15266     81876.0   25833   \n",
       "3            11446           33469        274     81873.0    6546   \n",
       "5            20855           33469      17307     81897.0   25833   \n",
       "7            17307            3254       5609     81857.0   25833   \n",
       "\n",
       "   SectionViolations  Risk_level Geographical_Location  Assessment_Results  \n",
       "0                3.0           3             locid3070                   1  \n",
       "1               18.0           3            locid16348                   1  \n",
       "3               18.0           3              locid656                   1  \n",
       "5               33.0           3             locid1162                   4  \n",
       "7                3.0           1             locid6560                   1  "
      ]
     },
     "execution_count": 20,
     "metadata": {},
     "output_type": "execute_result"
    }
   ],
   "source": [
    "num_replace = {'Risk_level': {'High': 3, 'Medium': 2, 'Low': 1}, 'Reason': {}, 'RestaurentType': {}}\n",
    "\n",
    "freq = df['Reason'].value_counts()\n",
    "for index in freq.index:\n",
    "    num_replace['Reason'][index] = freq[index]\n",
    "    \n",
    "freq = df['RestaurentType'].value_counts()\n",
    "for index in freq.index:\n",
    "    num_replace['RestaurentType'][index] = freq[index]\n",
    "\n",
    "df = df.replace(num_replace)\n",
    "\n",
    "df.head()"
   ]
  },
  {
   "cell_type": "code",
   "execution_count": 21,
   "metadata": {},
   "outputs": [
    {
     "data": {
      "text/plain": [
       "Assessment_Name            int64\n",
       "RestaurentType             int64\n",
       "Street ID                  int64\n",
       "LocationID               float64\n",
       "Reason                     int64\n",
       "SectionViolations        float64\n",
       "Risk_level                 int64\n",
       "Geographical_Location     object\n",
       "Assessment_Results         int64\n",
       "dtype: object"
      ]
     },
     "execution_count": 21,
     "metadata": {},
     "output_type": "execute_result"
    }
   ],
   "source": [
    "# df[\"City ID\"] = df[\"City ID\"].str.replace(r\"[^\\d\\.]\", \"\", regex=True)\n",
    "# df[\"State ID\"] = df[\"State ID\"].str.replace(r\"[^\\d\\.]\", \"\", regex=True)\n",
    "df[\"Geographical_Location\"] = df[\"Geographical_Location\"].str.replace(r\"[^\\d\\.]\", \"\", regex=True)\n",
    "df.dtypes"
   ]
  },
  {
   "cell_type": "markdown",
   "metadata": {
    "id": "bk8RAHqQJVJK",
    "papermill": {
     "duration": 0.033656,
     "end_time": "2020-11-27T11:52:32.644093",
     "exception": false,
     "start_time": "2020-11-27T11:52:32.610437",
     "status": "completed"
    },
    "tags": []
   },
   "source": [
    "\n",
    "\n",
    "---\n",
    "\n"
   ]
  },
  {
   "cell_type": "markdown",
   "metadata": {
    "id": "8Py3sQc_ZxyU",
    "papermill": {
     "duration": 0.034018,
     "end_time": "2020-11-27T11:52:32.712147",
     "exception": false,
     "start_time": "2020-11-27T11:52:32.678129",
     "status": "completed"
    },
    "tags": []
   },
   "source": [
    "## Определение выбросов"
   ]
  },
  {
   "cell_type": "markdown",
   "metadata": {
    "id": "1g6CJPofZzHN",
    "papermill": {
     "duration": 0.033631,
     "end_time": "2020-11-27T11:52:32.779927",
     "exception": false,
     "start_time": "2020-11-27T11:52:32.746296",
     "status": "completed"
    },
    "tags": []
   },
   "source": [
    "Выброс - это точка или набор точек, которые отличаются от других точек. Характеризуются очень высокими или очень низкими. Часто бывает полезно обнаружить и удалить выбросы. Выбросы являются одной из основных причин, приводящих к созданию менее точной модели. Метод обнаружения и удаления выбросов, примененный здесь - IQR. Часто выбросы можно увидеть с помощью визуализации, используя т.н. \"ящик с усами\". Ниже показаны графики MSRP, Cylinders, Horsepower и EngineSize. На всех графиках можно увидеть, что некоторые точки выходят за пределы коробки - это не что иное, как выбросы. "
   ]
  },
  {
   "cell_type": "code",
   "execution_count": 22,
   "metadata": {},
   "outputs": [
    {
     "data": {
      "text/html": [
       "<div>\n",
       "<style scoped>\n",
       "    .dataframe tbody tr th:only-of-type {\n",
       "        vertical-align: middle;\n",
       "    }\n",
       "\n",
       "    .dataframe tbody tr th {\n",
       "        vertical-align: top;\n",
       "    }\n",
       "\n",
       "    .dataframe thead th {\n",
       "        text-align: right;\n",
       "    }\n",
       "</style>\n",
       "<table border=\"1\" class=\"dataframe\">\n",
       "  <thead>\n",
       "    <tr style=\"text-align: right;\">\n",
       "      <th></th>\n",
       "      <th>Assessment_Name</th>\n",
       "      <th>RestaurentType</th>\n",
       "      <th>Street ID</th>\n",
       "      <th>LocationID</th>\n",
       "      <th>Reason</th>\n",
       "      <th>SectionViolations</th>\n",
       "      <th>Risk_level</th>\n",
       "      <th>Geographical_Location</th>\n",
       "      <th>Assessment_Results</th>\n",
       "    </tr>\n",
       "  </thead>\n",
       "  <tbody>\n",
       "    <tr>\n",
       "      <th>0</th>\n",
       "      <td>25928</td>\n",
       "      <td>33469</td>\n",
       "      <td>14291</td>\n",
       "      <td>81874.0</td>\n",
       "      <td>6546</td>\n",
       "      <td>3.0</td>\n",
       "      <td>3</td>\n",
       "      <td>3070</td>\n",
       "      <td>1</td>\n",
       "    </tr>\n",
       "    <tr>\n",
       "      <th>1</th>\n",
       "      <td>8683</td>\n",
       "      <td>766</td>\n",
       "      <td>15266</td>\n",
       "      <td>81876.0</td>\n",
       "      <td>25833</td>\n",
       "      <td>18.0</td>\n",
       "      <td>3</td>\n",
       "      <td>16348</td>\n",
       "      <td>1</td>\n",
       "    </tr>\n",
       "    <tr>\n",
       "      <th>3</th>\n",
       "      <td>11446</td>\n",
       "      <td>33469</td>\n",
       "      <td>274</td>\n",
       "      <td>81873.0</td>\n",
       "      <td>6546</td>\n",
       "      <td>18.0</td>\n",
       "      <td>3</td>\n",
       "      <td>656</td>\n",
       "      <td>1</td>\n",
       "    </tr>\n",
       "    <tr>\n",
       "      <th>5</th>\n",
       "      <td>20855</td>\n",
       "      <td>33469</td>\n",
       "      <td>17307</td>\n",
       "      <td>81897.0</td>\n",
       "      <td>25833</td>\n",
       "      <td>33.0</td>\n",
       "      <td>3</td>\n",
       "      <td>1162</td>\n",
       "      <td>4</td>\n",
       "    </tr>\n",
       "    <tr>\n",
       "      <th>7</th>\n",
       "      <td>17307</td>\n",
       "      <td>3254</td>\n",
       "      <td>5609</td>\n",
       "      <td>81857.0</td>\n",
       "      <td>25833</td>\n",
       "      <td>3.0</td>\n",
       "      <td>1</td>\n",
       "      <td>6560</td>\n",
       "      <td>1</td>\n",
       "    </tr>\n",
       "  </tbody>\n",
       "</table>\n",
       "</div>"
      ],
      "text/plain": [
       "   Assessment_Name  RestaurentType  Street ID  LocationID  Reason  \\\n",
       "0            25928           33469      14291     81874.0    6546   \n",
       "1             8683             766      15266     81876.0   25833   \n",
       "3            11446           33469        274     81873.0    6546   \n",
       "5            20855           33469      17307     81897.0   25833   \n",
       "7            17307            3254       5609     81857.0   25833   \n",
       "\n",
       "   SectionViolations  Risk_level Geographical_Location  Assessment_Results  \n",
       "0                3.0           3                  3070                   1  \n",
       "1               18.0           3                 16348                   1  \n",
       "3               18.0           3                   656                   1  \n",
       "5               33.0           3                  1162                   4  \n",
       "7                3.0           1                  6560                   1  "
      ]
     },
     "execution_count": 22,
     "metadata": {},
     "output_type": "execute_result"
    }
   ],
   "source": [
    "df.head()"
   ]
  },
  {
   "cell_type": "code",
   "execution_count": 23,
   "metadata": {
    "colab": {
     "base_uri": "https://localhost:8080/",
     "height": 296
    },
    "execution": {
     "iopub.execute_input": "2020-11-27T11:52:32.853465Z",
     "iopub.status.busy": "2020-11-27T11:52:32.852781Z",
     "iopub.status.idle": "2020-11-27T11:52:33.096979Z",
     "shell.execute_reply": "2020-11-27T11:52:33.096361Z"
    },
    "id": "vtxX_y6zZ2ri",
    "outputId": "b992f6d7-e230-417f-c608-14c01f01997a",
    "papermill": {
     "duration": 0.283132,
     "end_time": "2020-11-27T11:52:33.097091",
     "exception": false,
     "start_time": "2020-11-27T11:52:32.813959",
     "status": "completed"
    },
    "tags": []
   },
   "outputs": [
    {
     "name": "stdout",
     "output_type": "stream",
     "text": [
      "19.0\n"
     ]
    },
    {
     "data": {
      "text/plain": [
       "<AxesSubplot: xlabel='SectionViolations'>"
      ]
     },
     "execution_count": 23,
     "metadata": {},
     "output_type": "execute_result"
    },
    {
     "data": {
      "image/png": "[encoded data removed]",
      "text/plain": [
       "<Figure size 640x480 with 1 Axes>"
      ]
     },
     "metadata": {},
     "output_type": "display_data"
    }
   ],
   "source": [
    "print(df.SectionViolations.median())\n",
    "sns.boxplot(x=df['SectionViolations'])"
   ]
  },
  {
   "cell_type": "code",
   "execution_count": 24,
   "metadata": {},
   "outputs": [],
   "source": [
    "columns_int = df.select_dtypes(include=[\"int64\", \"float64\"])"
   ]
  },
  {
   "cell_type": "code",
   "execution_count": 25,
   "metadata": {},
   "outputs": [],
   "source": [
    "for x in columns_int:\n",
    "    q75,q25 = np.percentile(df.loc[:,x],[75,25])\n",
    "    intr_qr = q75-q25\n",
    "\n",
    "    max = q75+(1.5*intr_qr)\n",
    "    min = q25-(1.5*intr_qr)\n",
    "\n",
    "    df.loc[df[x] < min,x] = np.nan\n",
    "    df.loc[df[x] > max,x] = np.nan"
   ]
  },
  {
   "cell_type": "code",
   "execution_count": 26,
   "metadata": {},
   "outputs": [
    {
     "data": {
      "text/plain": [
       "Assessment_Name            0\n",
       "RestaurentType             0\n",
       "Street ID                  0\n",
       "LocationID               359\n",
       "Reason                     0\n",
       "SectionViolations          2\n",
       "Risk_level                 0\n",
       "Geographical_Location      0\n",
       "Assessment_Results         0\n",
       "dtype: int64"
      ]
     },
     "execution_count": 26,
     "metadata": {},
     "output_type": "execute_result"
    }
   ],
   "source": [
    "df.isnull().sum()"
   ]
  },
  {
   "cell_type": "code",
   "execution_count": 27,
   "metadata": {
    "colab": {
     "base_uri": "https://localhost:8080/"
    },
    "execution": {
     "iopub.execute_input": "2020-11-27T11:52:33.751510Z",
     "iopub.status.busy": "2020-11-27T11:52:33.750825Z",
     "iopub.status.idle": "2020-11-27T11:52:33.759278Z",
     "shell.execute_reply": "2020-11-27T11:52:33.758677Z"
    },
    "id": "cFG9hck7aHUx",
    "outputId": "d3e47539-e2ef-497e-baf6-c9197436017a",
    "papermill": {
     "duration": 0.051549,
     "end_time": "2020-11-27T11:52:33.759385",
     "exception": false,
     "start_time": "2020-11-27T11:52:33.707836",
     "status": "completed"
    },
    "tags": []
   },
   "outputs": [
    {
     "data": {
      "text/plain": [
       "Assessment_Name          0\n",
       "RestaurentType           0\n",
       "Street ID                0\n",
       "LocationID               0\n",
       "Reason                   0\n",
       "SectionViolations        0\n",
       "Risk_level               0\n",
       "Geographical_Location    0\n",
       "Assessment_Results       0\n",
       "dtype: int64"
      ]
     },
     "execution_count": 27,
     "metadata": {},
     "output_type": "execute_result"
    }
   ],
   "source": [
    "df = df.dropna()\n",
    "df.isnull().sum()"
   ]
  },
  {
   "cell_type": "markdown",
   "metadata": {
    "id": "9Nh93DCGJkqT",
    "papermill": {
     "duration": 0.037923,
     "end_time": "2020-11-27T11:52:34.017297",
     "exception": false,
     "start_time": "2020-11-27T11:52:33.979374",
     "status": "completed"
    },
    "tags": []
   },
   "source": [
    "Как видно из вышеприведенного, около 1600 строк были пропущены. Но не получится полностью удалить выбросы, потому что даже после использования вышеописанной техники, возможно, 1-2 выброса останутся не удаленными, тем не менее, выбросов было более 100. "
   ]
  },
  {
   "cell_type": "markdown",
   "metadata": {
    "id": "Z87kHbgvaQbb",
    "papermill": {
     "duration": 0.037301,
     "end_time": "2020-11-27T11:52:34.092399",
     "exception": false,
     "start_time": "2020-11-27T11:52:34.055098",
     "status": "completed"
    },
    "tags": []
   },
   "source": [
    "\n",
    "\n",
    "---\n",
    "\n"
   ]
  },
  {
   "cell_type": "markdown",
   "metadata": {
    "id": "WqFPRda8eEp_",
    "papermill": {
     "duration": 0.038833,
     "end_time": "2020-11-27T11:52:34.169033",
     "exception": false,
     "start_time": "2020-11-27T11:52:34.130200",
     "status": "completed"
    },
    "tags": []
   },
   "source": [
    "## Нормализация данных"
   ]
  },
  {
   "cell_type": "code",
   "execution_count": 28,
   "metadata": {},
   "outputs": [
    {
     "data": {
      "text/plain": [
       "Assessment_Name          float64\n",
       "RestaurentType           float64\n",
       "Street ID                float64\n",
       "LocationID               float64\n",
       "Reason                   float64\n",
       "SectionViolations        float64\n",
       "Risk_level               float64\n",
       "Geographical_Location    float64\n",
       "Assessment_Results       float64\n",
       "dtype: object"
      ]
     },
     "execution_count": 28,
     "metadata": {},
     "output_type": "execute_result"
    }
   ],
   "source": [
    "# df.loc[:, df.columns != 'Assessment_Results']\n",
    "df['Geographical_Location'] = df['Geographical_Location'].astype(float)\n",
    "df.dtypes"
   ]
  },
  {
   "cell_type": "code",
   "execution_count": 29,
   "metadata": {},
   "outputs": [],
   "source": [
    "cdf = df\n",
    "cdf = (df-df.min ())/(df.max ()-df.min ())\n",
    "scaled_df = cdf"
   ]
  },
  {
   "cell_type": "markdown",
   "metadata": {
    "id": "c37WtYYWJuAQ",
    "papermill": {
     "duration": 0.04046,
     "end_time": "2020-11-27T11:52:35.081261",
     "exception": false,
     "start_time": "2020-11-27T11:52:35.040801",
     "status": "completed"
    },
    "tags": []
   },
   "source": [
    "## Тепловые карты\n",
    "\n",
    "Тепловые карты - это тип графика, который необходим для поиска зависимых переменных. Один из лучших способов найти взаимосвязь между характеристиками: тепловые карты. На приведенной ниже тепловой карте видно. что ценовая характеристика в основном зависит от мощности и года выпуска"
   ]
  },
  {
   "cell_type": "code",
   "execution_count": 30,
   "metadata": {
    "colab": {
     "base_uri": "https://localhost:8080/",
     "height": 542
    },
    "execution": {
     "iopub.execute_input": "2020-11-27T11:52:35.171817Z",
     "iopub.status.busy": "2020-11-27T11:52:35.170966Z",
     "iopub.status.idle": "2020-11-27T11:52:35.541204Z",
     "shell.execute_reply": "2020-11-27T11:52:35.540448Z"
    },
    "id": "yhHfLVTj6nmy",
    "outputId": "4211320b-90bf-43eb-8530-47590f29b585",
    "papermill": {
     "duration": 0.419422,
     "end_time": "2020-11-27T11:52:35.541316",
     "exception": false,
     "start_time": "2020-11-27T11:52:35.121894",
     "status": "completed"
    },
    "tags": []
   },
   "outputs": [
    {
     "data": {
      "text/plain": [
       "<AxesSubplot: >"
      ]
     },
     "execution_count": 30,
     "metadata": {},
     "output_type": "execute_result"
    },
    {
     "data": {
      "image/png": "[encoded data removed]",
      "text/plain": [
       "<Figure size 640x480 with 2 Axes>"
      ]
     },
     "metadata": {},
     "output_type": "display_data"
    }
   ],
   "source": [
    "sns.heatmap(scaled_df.corr(),cmap=\"BrBG\",annot=True)"
   ]
  },
  {
   "cell_type": "markdown",
   "metadata": {
    "id": "hQXy8o_gKFS5",
    "papermill": {
     "duration": 0.043811,
     "end_time": "2020-11-27T11:52:36.075327",
     "exception": false,
     "start_time": "2020-11-27T11:52:36.031516",
     "status": "completed"
    },
    "tags": []
   },
   "source": [
    "## Построение моделей"
   ]
  },
  {
   "cell_type": "markdown",
   "metadata": {},
   "source": [
    "## PCA"
   ]
  },
  {
   "cell_type": "code",
   "execution_count": 31,
   "metadata": {
    "id": "fcCWRcmJmWbm"
   },
   "outputs": [],
   "source": [
    "from sklearn.metrics import confusion_matrix, classification_report, accuracy_score\n",
    "from sklearn.model_selection import train_test_split, GridSearchCV, cross_val_score\n",
    "\n",
    "import matplotlib.pyplot as plt\n",
    "import numpy as np\n",
    "\n",
    "import seaborn as sns\n",
    "import pandas as pd \n",
    "sns.set(style=\"white\")\n",
    "%matplotlib inline\n",
    "from mpl_toolkits.mplot3d import Axes3D\n",
    "from sklearn import datasets, decomposition\n",
    "from imblearn.over_sampling import SMOTE\n"
   ]
  },
  {
   "cell_type": "code",
   "execution_count": 32,
   "metadata": {
    "colab": {
     "base_uri": "https://localhost:8080/",
     "height": 419
    },
    "id": "CdaLnojiqkAf",
    "outputId": "1640d33b-eed1-4185-9ce7-bffec2f698a2"
   },
   "outputs": [],
   "source": [
    "data_final = scaled_df\n",
    "\n",
    "X = data_final.loc[:, data_final.columns != 'Assessment_Results']\n",
    "y = df.loc[:, df.columns == 'Assessment_Results']\n"
   ]
  },
  {
   "cell_type": "code",
   "execution_count": 33,
   "metadata": {},
   "outputs": [],
   "source": [
    "sm=SMOTE()\n",
    "X,y=sm.fit_resample(X,y)"
   ]
  },
  {
   "cell_type": "code",
   "execution_count": 34,
   "metadata": {},
   "outputs": [
    {
     "data": {
      "text/html": [
       "<div>\n",
       "<style scoped>\n",
       "    .dataframe tbody tr th:only-of-type {\n",
       "        vertical-align: middle;\n",
       "    }\n",
       "\n",
       "    .dataframe tbody tr th {\n",
       "        vertical-align: top;\n",
       "    }\n",
       "\n",
       "    .dataframe thead th {\n",
       "        text-align: right;\n",
       "    }\n",
       "</style>\n",
       "<table border=\"1\" class=\"dataframe\">\n",
       "  <thead>\n",
       "    <tr style=\"text-align: right;\">\n",
       "      <th></th>\n",
       "      <th>Assessment_Results</th>\n",
       "    </tr>\n",
       "  </thead>\n",
       "  <tbody>\n",
       "    <tr>\n",
       "      <th>0</th>\n",
       "      <td>1.0</td>\n",
       "    </tr>\n",
       "    <tr>\n",
       "      <th>1</th>\n",
       "      <td>1.0</td>\n",
       "    </tr>\n",
       "    <tr>\n",
       "      <th>2</th>\n",
       "      <td>1.0</td>\n",
       "    </tr>\n",
       "    <tr>\n",
       "      <th>3</th>\n",
       "      <td>4.0</td>\n",
       "    </tr>\n",
       "    <tr>\n",
       "      <th>4</th>\n",
       "      <td>1.0</td>\n",
       "    </tr>\n",
       "    <tr>\n",
       "      <th>...</th>\n",
       "      <td>...</td>\n",
       "    </tr>\n",
       "    <tr>\n",
       "      <th>60367</th>\n",
       "      <td>5.0</td>\n",
       "    </tr>\n",
       "    <tr>\n",
       "      <th>60368</th>\n",
       "      <td>5.0</td>\n",
       "    </tr>\n",
       "    <tr>\n",
       "      <th>60369</th>\n",
       "      <td>5.0</td>\n",
       "    </tr>\n",
       "    <tr>\n",
       "      <th>60370</th>\n",
       "      <td>5.0</td>\n",
       "    </tr>\n",
       "    <tr>\n",
       "      <th>60371</th>\n",
       "      <td>5.0</td>\n",
       "    </tr>\n",
       "  </tbody>\n",
       "</table>\n",
       "<p>60372 rows × 1 columns</p>\n",
       "</div>"
      ],
      "text/plain": [
       "       Assessment_Results\n",
       "0                     1.0\n",
       "1                     1.0\n",
       "2                     1.0\n",
       "3                     4.0\n",
       "4                     1.0\n",
       "...                   ...\n",
       "60367                 5.0\n",
       "60368                 5.0\n",
       "60369                 5.0\n",
       "60370                 5.0\n",
       "60371                 5.0\n",
       "\n",
       "[60372 rows x 1 columns]"
      ]
     },
     "execution_count": 34,
     "metadata": {},
     "output_type": "execute_result"
    }
   ],
   "source": [
    "y"
   ]
  },
  {
   "cell_type": "code",
   "execution_count": 35,
   "metadata": {},
   "outputs": [
    {
     "data": {
      "text/html": [
       "<div>\n",
       "<style scoped>\n",
       "    .dataframe tbody tr th:only-of-type {\n",
       "        vertical-align: middle;\n",
       "    }\n",
       "\n",
       "    .dataframe tbody tr th {\n",
       "        vertical-align: top;\n",
       "    }\n",
       "\n",
       "    .dataframe thead th {\n",
       "        text-align: right;\n",
       "    }\n",
       "</style>\n",
       "<table border=\"1\" class=\"dataframe\">\n",
       "  <thead>\n",
       "    <tr style=\"text-align: right;\">\n",
       "      <th></th>\n",
       "      <th>Assessment_Name</th>\n",
       "      <th>RestaurentType</th>\n",
       "      <th>Street ID</th>\n",
       "      <th>LocationID</th>\n",
       "      <th>Reason</th>\n",
       "      <th>SectionViolations</th>\n",
       "      <th>Risk_level</th>\n",
       "      <th>Geographical_Location</th>\n",
       "    </tr>\n",
       "  </thead>\n",
       "  <tbody>\n",
       "    <tr>\n",
       "      <th>0</th>\n",
       "      <td>0.996120</td>\n",
       "      <td>1.000000</td>\n",
       "      <td>0.798815</td>\n",
       "      <td>0.430769</td>\n",
       "      <td>0.252963</td>\n",
       "      <td>0.032258</td>\n",
       "      <td>1.0</td>\n",
       "      <td>0.182619</td>\n",
       "    </tr>\n",
       "    <tr>\n",
       "      <th>1</th>\n",
       "      <td>0.333564</td>\n",
       "      <td>0.022858</td>\n",
       "      <td>0.853318</td>\n",
       "      <td>0.461538</td>\n",
       "      <td>1.000000</td>\n",
       "      <td>0.274194</td>\n",
       "      <td>1.0</td>\n",
       "      <td>0.972459</td>\n",
       "    </tr>\n",
       "    <tr>\n",
       "      <th>2</th>\n",
       "      <td>0.439719</td>\n",
       "      <td>1.000000</td>\n",
       "      <td>0.015261</td>\n",
       "      <td>0.415385</td>\n",
       "      <td>0.252963</td>\n",
       "      <td>0.274194</td>\n",
       "      <td>1.0</td>\n",
       "      <td>0.039022</td>\n",
       "    </tr>\n",
       "    <tr>\n",
       "      <th>3</th>\n",
       "      <td>0.801214</td>\n",
       "      <td>1.000000</td>\n",
       "      <td>0.967410</td>\n",
       "      <td>0.784615</td>\n",
       "      <td>1.000000</td>\n",
       "      <td>0.516129</td>\n",
       "      <td>1.0</td>\n",
       "      <td>0.069121</td>\n",
       "    </tr>\n",
       "    <tr>\n",
       "      <th>4</th>\n",
       "      <td>0.664899</td>\n",
       "      <td>0.097197</td>\n",
       "      <td>0.313489</td>\n",
       "      <td>0.169231</td>\n",
       "      <td>1.000000</td>\n",
       "      <td>0.032258</td>\n",
       "      <td>0.0</td>\n",
       "      <td>0.390221</td>\n",
       "    </tr>\n",
       "    <tr>\n",
       "      <th>...</th>\n",
       "      <td>...</td>\n",
       "      <td>...</td>\n",
       "      <td>...</td>\n",
       "      <td>...</td>\n",
       "      <td>...</td>\n",
       "      <td>...</td>\n",
       "      <td>...</td>\n",
       "      <td>...</td>\n",
       "    </tr>\n",
       "    <tr>\n",
       "      <th>60367</th>\n",
       "      <td>0.913831</td>\n",
       "      <td>0.175273</td>\n",
       "      <td>0.370765</td>\n",
       "      <td>0.273779</td>\n",
       "      <td>0.253218</td>\n",
       "      <td>0.035925</td>\n",
       "      <td>1.0</td>\n",
       "      <td>0.848575</td>\n",
       "    </tr>\n",
       "    <tr>\n",
       "      <th>60368</th>\n",
       "      <td>0.741961</td>\n",
       "      <td>0.170290</td>\n",
       "      <td>0.286933</td>\n",
       "      <td>0.251945</td>\n",
       "      <td>0.252963</td>\n",
       "      <td>0.018153</td>\n",
       "      <td>0.5</td>\n",
       "      <td>0.082401</td>\n",
       "    </tr>\n",
       "    <tr>\n",
       "      <th>60369</th>\n",
       "      <td>0.335917</td>\n",
       "      <td>1.000000</td>\n",
       "      <td>0.355258</td>\n",
       "      <td>0.707692</td>\n",
       "      <td>1.000000</td>\n",
       "      <td>0.028630</td>\n",
       "      <td>1.0</td>\n",
       "      <td>0.685424</td>\n",
       "    </tr>\n",
       "    <tr>\n",
       "      <th>60370</th>\n",
       "      <td>0.737847</td>\n",
       "      <td>1.000000</td>\n",
       "      <td>0.886256</td>\n",
       "      <td>0.384615</td>\n",
       "      <td>0.253873</td>\n",
       "      <td>0.022662</td>\n",
       "      <td>1.0</td>\n",
       "      <td>0.986195</td>\n",
       "    </tr>\n",
       "    <tr>\n",
       "      <th>60371</th>\n",
       "      <td>0.287140</td>\n",
       "      <td>1.000000</td>\n",
       "      <td>0.568027</td>\n",
       "      <td>0.338462</td>\n",
       "      <td>1.000000</td>\n",
       "      <td>0.008741</td>\n",
       "      <td>1.0</td>\n",
       "      <td>0.284923</td>\n",
       "    </tr>\n",
       "  </tbody>\n",
       "</table>\n",
       "<p>60372 rows × 8 columns</p>\n",
       "</div>"
      ],
      "text/plain": [
       "       Assessment_Name  RestaurentType  Street ID  LocationID    Reason  \\\n",
       "0             0.996120        1.000000   0.798815    0.430769  0.252963   \n",
       "1             0.333564        0.022858   0.853318    0.461538  1.000000   \n",
       "2             0.439719        1.000000   0.015261    0.415385  0.252963   \n",
       "3             0.801214        1.000000   0.967410    0.784615  1.000000   \n",
       "4             0.664899        0.097197   0.313489    0.169231  1.000000   \n",
       "...                ...             ...        ...         ...       ...   \n",
       "60367         0.913831        0.175273   0.370765    0.273779  0.253218   \n",
       "60368         0.741961        0.170290   0.286933    0.251945  0.252963   \n",
       "60369         0.335917        1.000000   0.355258    0.707692  1.000000   \n",
       "60370         0.737847        1.000000   0.886256    0.384615  0.253873   \n",
       "60371         0.287140        1.000000   0.568027    0.338462  1.000000   \n",
       "\n",
       "       SectionViolations  Risk_level  Geographical_Location  \n",
       "0               0.032258         1.0               0.182619  \n",
       "1               0.274194         1.0               0.972459  \n",
       "2               0.274194         1.0               0.039022  \n",
       "3               0.516129         1.0               0.069121  \n",
       "4               0.032258         0.0               0.390221  \n",
       "...                  ...         ...                    ...  \n",
       "60367           0.035925         1.0               0.848575  \n",
       "60368           0.018153         0.5               0.082401  \n",
       "60369           0.028630         1.0               0.685424  \n",
       "60370           0.022662         1.0               0.986195  \n",
       "60371           0.008741         1.0               0.284923  \n",
       "\n",
       "[60372 rows x 8 columns]"
      ]
     },
     "execution_count": 35,
     "metadata": {},
     "output_type": "execute_result"
    }
   ],
   "source": [
    "pd.DataFrame(X)"
   ]
  },
  {
   "cell_type": "code",
   "execution_count": 36,
   "metadata": {},
   "outputs": [
    {
     "name": "stdout",
     "output_type": "stream",
     "text": [
      "              precision    recall  f1-score   support\n",
      "\n",
      "         1.0       0.81      0.72      0.77      6037\n",
      "         4.0       0.95      0.98      0.96      6037\n",
      "         5.0       0.77      0.83      0.80      6038\n",
      "\n",
      "    accuracy                           0.84     18112\n",
      "   macro avg       0.84      0.84      0.84     18112\n",
      "weighted avg       0.84      0.84      0.84     18112\n",
      "\n"
     ]
    }
   ],
   "source": [
    "from sklearn.metrics import accuracy_score, roc_auc_score\n",
    "from sklearn.model_selection import train_test_split\n",
    "from sklearn.tree import DecisionTreeClassifier\n",
    "\n",
    "# Выделим из наших данных валидационную выборку\n",
    "X_train, X_test, y_train, y_test = train_test_split(\n",
    "    X, y, test_size=0.3, stratify=y, random_state=42\n",
    ")\n",
    "\n",
    "# Для примера возьмём неглубокое дерево решений\n",
    "clf = DecisionTreeClassifier(max_depth=10, random_state=42)\n",
    "clf.fit(X_train, y_train)\n",
    "y_pred = clf.predict(X_test)\n",
    "print(classification_report(y_test, y_pred.round(0)))"
   ]
  },
  {
   "cell_type": "code",
   "execution_count": 37,
   "metadata": {},
   "outputs": [],
   "source": [
    "pca = decomposition.PCA(n_components=8)\n",
    "X_centered = X - X.mean(axis=0)\n",
    "pca.fit(X_centered)\n",
    "X_pca = pca.transform(X_centered)"
   ]
  },
  {
   "cell_type": "code",
   "execution_count": 38,
   "metadata": {},
   "outputs": [
    {
     "name": "stdout",
     "output_type": "stream",
     "text": [
      "1 component: 24.57% of initial variance\n",
      "2 component: 20.86% of initial variance\n",
      "3 component: 13.22% of initial variance\n",
      "4 component: 10.33% of initial variance\n",
      "5 component: 10.29% of initial variance\n",
      "6 component: 8.51% of initial variance\n",
      "7 component: 6.59% of initial variance\n",
      "8 component: 5.62% of initial variance\n"
     ]
    }
   ],
   "source": [
    "for i, component in enumerate(pca.components_):\n",
    "    print(\n",
    "        \"{} component: {}% of initial variance\".format(\n",
    "            i + 1, round(100 * pca.explained_variance_ratio_[i], 2)\n",
    "        )\n",
    "    )"
   ]
  },
  {
   "cell_type": "markdown",
   "metadata": {},
   "source": [
    "Можем заметить, что каждый столбец важный (относительно дисперсии)"
   ]
  },
  {
   "cell_type": "code",
   "execution_count": 39,
   "metadata": {},
   "outputs": [],
   "source": [
    "pca = decomposition.PCA(n_components=7)\n",
    "X_centered = X - X.mean(axis=0)\n",
    "pca.fit(X_centered)\n",
    "X_pca = pca.transform(X_centered)"
   ]
  },
  {
   "cell_type": "code",
   "execution_count": 40,
   "metadata": {},
   "outputs": [
    {
     "name": "stdout",
     "output_type": "stream",
     "text": [
      "              precision    recall  f1-score   support\n",
      "\n",
      "         1.0       0.48      0.47      0.47      6037\n",
      "         4.0       0.48      0.51      0.50      6037\n",
      "         5.0       0.48      0.46      0.47      6038\n",
      "\n",
      "    accuracy                           0.48     18112\n",
      "   macro avg       0.48      0.48      0.48     18112\n",
      "weighted avg       0.48      0.48      0.48     18112\n",
      "\n"
     ]
    }
   ],
   "source": [
    "# Выделим из наших данных валидационную выборку\n",
    "X_train, X_test, y_train, y_test = train_test_split(\n",
    "    X_pca, y, test_size=0.3, stratify=y, random_state=42\n",
    ")\n",
    "\n",
    "# Для примера возьмём неглубокое дерево решений\n",
    "clf = DecisionTreeClassifier(max_depth=10, random_state=42)\n",
    "clf.fit(X_train, y_train)\n",
    "y_pred = clf.predict(X_test)\n",
    "print(classification_report(y_test, y_pred.round(0)))"
   ]
  },
  {
   "cell_type": "markdown",
   "metadata": {},
   "source": [
    "Видим заметное ухудшение работы алгоритма"
   ]
  },
  {
   "cell_type": "markdown",
   "metadata": {},
   "source": [
    "## K-means"
   ]
  },
  {
   "cell_type": "code",
   "execution_count": 41,
   "metadata": {},
   "outputs": [],
   "source": [
    "data_final = scaled_df\n",
    "\n",
    "X = data_final.loc[:, data_final.columns != 'Assessment_Results']\n",
    "y = df.loc[:, df.columns == 'Assessment_Results']"
   ]
  },
  {
   "cell_type": "code",
   "execution_count": 42,
   "metadata": {},
   "outputs": [],
   "source": [
    "sm=SMOTE()\n",
    "X,y=sm.fit_resample(X,y)"
   ]
  },
  {
   "cell_type": "code",
   "execution_count": 44,
   "metadata": {},
   "outputs": [
    {
     "data": {
      "text/plain": [
       "array([1, 2, 1, ..., 0, 1, 2])"
      ]
     },
     "execution_count": 44,
     "metadata": {},
     "output_type": "execute_result"
    }
   ],
   "source": [
    "kmeans.labels_"
   ]
  },
  {
   "cell_type": "code",
   "execution_count": 45,
   "metadata": {},
   "outputs": [
    {
     "data": {
      "text/plain": [
       "array([-0.04494419,  0.26394054, -0.02203433, ..., -0.41825192,\n",
       "        0.04695814,  0.65749678])"
      ]
     },
     "execution_count": 45,
     "metadata": {},
     "output_type": "execute_result"
    }
   ],
   "source": [
    "res[:,0]\n"
   ]
  },
  {
   "cell_type": "code",
   "execution_count": 49,
   "metadata": {},
   "outputs": [
    {
     "data": {
      "text/plain": [
       "array([0.99611956, 0.33356385, 0.43971876, ..., 0.351958  , 0.15811868,\n",
       "       0.90150405])"
      ]
     },
     "execution_count": 49,
     "metadata": {},
     "output_type": "execute_result"
    }
   ],
   "source": [
    "X['Assessment_Name'].to_numpy()"
   ]
  },
  {
   "cell_type": "code",
   "execution_count": 43,
   "metadata": {},
   "outputs": [
    {
     "data": {
      "text/plain": [
       "Text(0.5, 1.0, 'PCA')"
      ]
     },
     "execution_count": 43,
     "metadata": {},
     "output_type": "execute_result"
    },
    {
     "data": {
      "image/png": "[encoded data removed]",
      "text/plain": [
       "<Figure size 1200x800 with 1 Axes>"
      ]
     },
     "metadata": {},
     "output_type": "display_data"
    }
   ],
   "source": [
    "from sklearn.cluster import KMeans\n",
    "from sklearn.decomposition import PCA\n",
    "\n",
    "kmeans = KMeans(n_clusters=3, random_state=1)\n",
    "\n",
    "kmeans.fit(X)\n",
    "\n",
    "\n",
    "# Visualizing using PCA\n",
    "pca = PCA(n_components=8)\n",
    "res = pca.fit_transform(X)\n",
    "plt.figure(figsize=(12,8))\n",
    "plt.scatter(res[:,0], res[:,1], c=kmeans.labels_, s=50, cmap='viridis')\n",
    "plt.title('PCA')"
   ]
  },
  {
   "cell_type": "code",
   "execution_count": 44,
   "metadata": {},
   "outputs": [
    {
     "name": "stdout",
     "output_type": "stream",
     "text": [
      "Assessment_Results\n",
      " 0.0                  17667\n",
      "-4.0                   8882\n",
      "-3.0                   7466\n",
      " 4.0                   7028\n",
      " 3.0                   6457\n",
      " 1.0                   6448\n",
      "-1.0                   6424\n",
      "dtype: int64\n",
      "Assessment_Results\n",
      " 0.0                  19511\n",
      "-4.0                   8882\n",
      "-3.0                   7466\n",
      " 3.0                   7028\n",
      " 4.0                   6457\n",
      " 1.0                   6210\n",
      "-1.0                   4818\n",
      "dtype: int64\n",
      "Assessment_Results\n",
      " 0.0                  18741\n",
      "-1.0                   8882\n",
      " 4.0                   7028\n",
      " 3.0                   6639\n",
      " 1.0                   6448\n",
      "-4.0                   6424\n",
      "-3.0                   6210\n",
      "dtype: int64\n",
      "Assessment_Results\n",
      " 0.0                  20918\n",
      "-1.0                   8882\n",
      " 3.0                   6639\n",
      " 4.0                   6457\n",
      "-3.0                   6448\n",
      " 1.0                   6210\n",
      "-4.0                   4818\n",
      "dtype: int64\n",
      "Assessment_Results\n",
      " 0.0                  21787\n",
      " 1.0                   7466\n",
      " 3.0                   7028\n",
      " 4.0                   6639\n",
      "-4.0                   6424\n",
      "-3.0                   6210\n",
      "-1.0                   4818\n",
      "dtype: int64\n",
      "Assessment_Results\n",
      " 0.0                  22120\n",
      " 1.0                   7466\n",
      " 4.0                   6639\n",
      " 3.0                   6457\n",
      "-3.0                   6448\n",
      "-1.0                   6424\n",
      "-4.0                   4818\n",
      "dtype: int64\n"
     ]
    }
   ],
   "source": [
    "from itertools import combinations_with_replacement\n",
    "\n",
    "labels = pd.DataFrame(kmeans.labels_)\n",
    "labels = labels.rename(columns = {0: 'Assessment_Results'})\n",
    "combinations = [[1, 4, 5], [1, 5, 4], [4, 1, 5], [4, 5, 1], [5, 1, 4], [5, 4, 1]]\n",
    "for i in combinations:\n",
    "    num_replace = {'Assessment_Results': {0: i[0], 1: i[1], 2: i[2]}}\n",
    "    print((labels.replace(num_replace) - y).value_counts())"
   ]
  },
  {
   "cell_type": "code",
   "execution_count": 45,
   "metadata": {},
   "outputs": [
    {
     "data": {
      "text/plain": [
       "Text(0.5, 1.0, 'PCA')"
      ]
     },
     "execution_count": 45,
     "metadata": {},
     "output_type": "execute_result"
    },
    {
     "data": {
      "image/png": "[encoded data removed]",
      "text/plain": [
       "<Figure size 1200x800 with 1 Axes>"
      ]
     },
     "metadata": {},
     "output_type": "display_data"
    }
   ],
   "source": [
    "# Visualizing using PCA\n",
    "pca = PCA(n_components=8)\n",
    "res = pca.fit_transform(X)\n",
    "plt.figure(figsize=(12,8))\n",
    "plt.scatter(res[:,0], res[:,1], c=y.to_numpy(), s=50, cmap='viridis')\n",
    "plt.title('PCA')"
   ]
  },
  {
   "cell_type": "markdown",
   "metadata": {},
   "source": [
    "K-means разделяет формы (набор точек в нашей гиперплоскости, причем не произвольной формы), отсюда понимаем, что для наших данных, где выделить конкретные формы для целевого класса затруднительно K-means справляется плохо. Чтобы понять каких форм наши данные применим DBSCAN"
   ]
  },
  {
   "cell_type": "markdown",
   "metadata": {},
   "source": [
    "## DBSCAN"
   ]
  },
  {
   "cell_type": "code",
   "execution_count": 46,
   "metadata": {},
   "outputs": [],
   "source": [
    "from sklearn.cluster import DBSCAN"
   ]
  },
  {
   "cell_type": "code",
   "execution_count": 47,
   "metadata": {},
   "outputs": [],
   "source": [
    "dbscan = DBSCAN(eps=0.0036, min_samples=4).fit(X)"
   ]
  },
  {
   "cell_type": "code",
   "execution_count": 48,
   "metadata": {},
   "outputs": [
    {
     "data": {
      "text/plain": [
       "Text(0.5, 1.0, 'PCA')"
      ]
     },
     "execution_count": 48,
     "metadata": {},
     "output_type": "execute_result"
    },
    {
     "data": {
      "image/png": "[encoded data removed]",
      "text/plain": [
       "<Figure size 1200x800 with 1 Axes>"
      ]
     },
     "metadata": {},
     "output_type": "display_data"
    }
   ],
   "source": [
    "# Visualizing using PCA\n",
    "pca = PCA(n_components=2)\n",
    "res = pca.fit_transform(X)\n",
    "plt.figure(figsize=(12,8))\n",
    "plt.scatter(res[:,0], res[:,1], c=dbscan.labels_, s=50, cmap='viridis')\n",
    "plt.title('PCA')"
   ]
  },
  {
   "cell_type": "code",
   "execution_count": 49,
   "metadata": {},
   "outputs": [
    {
     "data": {
      "text/plain": [
       "-1     60217\n",
       " 6        23\n",
       " 16       12\n",
       " 15       11\n",
       " 1         9\n",
       " 4         6\n",
       " 7         6\n",
       " 11        5\n",
       " 23        5\n",
       " 22        5\n",
       " 13        5\n",
       " 10        4\n",
       " 19        4\n",
       " 25        4\n",
       " 24        4\n",
       " 2         4\n",
       " 3         4\n",
       " 21        4\n",
       " 20        4\n",
       " 18        4\n",
       " 9         4\n",
       " 17        4\n",
       " 5         4\n",
       " 8         4\n",
       " 14        4\n",
       " 0         4\n",
       " 12        4\n",
       " 26        4\n",
       "dtype: int64"
      ]
     },
     "execution_count": 49,
     "metadata": {},
     "output_type": "execute_result"
    }
   ],
   "source": [
    "labels = pd.DataFrame(dbscan.labels_)\n",
    "labels.value_counts()"
   ]
  },
  {
   "cell_type": "markdown",
   "metadata": {},
   "source": [
    "Можем сделать вывод, что большинство точек находятся рядом с друг другом"
   ]
  },
  {
   "cell_type": "code",
   "execution_count": 52,
   "metadata": {},
   "outputs": [
    {
     "name": "stdout",
     "output_type": "stream",
     "text": [
      "Assessment_Results\n",
      "-2.0                  20108\n",
      "-5.0                  20087\n",
      "-6.0                  20025\n",
      " 1.0                     27\n",
      " 11.0                    22\n",
      " 0.0                     14\n",
      " 3.0                     12\n",
      " 13.0                     9\n",
      " 19.0                     5\n",
      " 18.0                     5\n",
      " 17.0                     5\n",
      " 24.0                     4\n",
      " 16.0                     4\n",
      " 15.0                     4\n",
      " 9.0                      4\n",
      " 8.0                      4\n",
      " 7.0                      4\n",
      " 4.0                      4\n",
      "-1.0                      4\n",
      " 10.0                     3\n",
      " 14.0                     3\n",
      " 5.0                      3\n",
      " 21.0                     3\n",
      "-3.0                      3\n",
      " 6.0                      2\n",
      " 12.0                     1\n",
      " 2.0                      1\n",
      " 22.0                     1\n",
      " 25.0                     1\n",
      "dtype: int64\n",
      "Assessment_Results\n",
      "-2.0                  20108\n",
      "-5.0                  20087\n",
      "-6.0                  20025\n",
      " 1.0                     32\n",
      " 11.0                    22\n",
      " 3.0                     12\n",
      " 0.0                      9\n",
      " 13.0                     9\n",
      " 19.0                     5\n",
      " 18.0                     5\n",
      " 17.0                     5\n",
      " 24.0                     4\n",
      " 16.0                     4\n",
      " 15.0                     4\n",
      " 9.0                      4\n",
      " 8.0                      4\n",
      " 7.0                      4\n",
      " 4.0                      4\n",
      "-1.0                      4\n",
      " 10.0                     3\n",
      " 14.0                     3\n",
      " 5.0                      3\n",
      " 21.0                     3\n",
      "-3.0                      3\n",
      " 6.0                      2\n",
      " 12.0                     1\n",
      " 2.0                      1\n",
      " 22.0                     1\n",
      " 25.0                     1\n",
      "dtype: int64\n",
      "Assessment_Results\n",
      "-2.0                  20108\n",
      "-5.0                  20087\n",
      "-6.0                  20025\n",
      " 1.0                     27\n",
      " 11.0                    22\n",
      " 3.0                     13\n",
      "-3.0                      9\n",
      " 13.0                     9\n",
      " 0.0                      7\n",
      " 19.0                     5\n",
      " 18.0                     5\n",
      " 17.0                     5\n",
      " 24.0                     4\n",
      " 16.0                     4\n",
      " 15.0                     4\n",
      " 9.0                      4\n",
      " 8.0                      4\n",
      " 7.0                      4\n",
      " 4.0                      4\n",
      "-1.0                      4\n",
      " 10.0                     3\n",
      " 14.0                     3\n",
      " 5.0                      3\n",
      " 21.0                     3\n",
      " 6.0                      2\n",
      " 12.0                     1\n",
      " 2.0                      1\n",
      " 22.0                     1\n",
      " 25.0                     1\n",
      "dtype: int64\n",
      "Assessment_Results\n",
      "-2.0                  20108\n",
      "-5.0                  20087\n",
      "-6.0                  20025\n",
      " 1.0                     32\n",
      " 11.0                    22\n",
      " 3.0                     13\n",
      " 13.0                     9\n",
      " 0.0                      7\n",
      " 19.0                     5\n",
      " 18.0                     5\n",
      " 17.0                     5\n",
      " 24.0                     4\n",
      " 16.0                     4\n",
      " 15.0                     4\n",
      " 9.0                      4\n",
      " 8.0                      4\n",
      " 7.0                      4\n",
      " 4.0                      4\n",
      "-1.0                      4\n",
      "-3.0                      4\n",
      " 10.0                     3\n",
      " 14.0                     3\n",
      " 5.0                      3\n",
      " 21.0                     3\n",
      " 6.0                      2\n",
      " 12.0                     1\n",
      " 2.0                      1\n",
      " 22.0                     1\n",
      " 25.0                     1\n",
      "dtype: int64\n",
      "Assessment_Results\n",
      "-2.0                  20108\n",
      "-5.0                  20087\n",
      "-6.0                  20025\n",
      " 1.0                     26\n",
      " 11.0                    22\n",
      " 3.0                     12\n",
      "-3.0                      9\n",
      " 13.0                     9\n",
      " 0.0                      8\n",
      " 19.0                     5\n",
      " 4.0                      5\n",
      " 18.0                     5\n",
      " 17.0                     5\n",
      " 24.0                     4\n",
      " 16.0                     4\n",
      " 15.0                     4\n",
      " 9.0                      4\n",
      " 8.0                      4\n",
      " 7.0                      4\n",
      "-1.0                      4\n",
      " 10.0                     3\n",
      " 14.0                     3\n",
      " 5.0                      3\n",
      " 21.0                     3\n",
      " 6.0                      2\n",
      " 12.0                     1\n",
      " 2.0                      1\n",
      " 22.0                     1\n",
      " 25.0                     1\n",
      "dtype: int64\n",
      "Assessment_Results\n",
      "-2.0                  20108\n",
      "-5.0                  20087\n",
      "-6.0                  20025\n",
      " 1.0                     26\n",
      " 11.0                    22\n",
      " 0.0                     13\n",
      " 3.0                     12\n",
      " 13.0                     9\n",
      " 19.0                     5\n",
      " 18.0                     5\n",
      " 4.0                      5\n",
      " 17.0                     5\n",
      " 24.0                     4\n",
      " 16.0                     4\n",
      " 15.0                     4\n",
      " 9.0                      4\n",
      " 8.0                      4\n",
      " 7.0                      4\n",
      "-1.0                      4\n",
      "-3.0                      4\n",
      " 10.0                     3\n",
      " 14.0                     3\n",
      " 5.0                      3\n",
      " 21.0                     3\n",
      " 6.0                      2\n",
      " 12.0                     1\n",
      " 2.0                      1\n",
      " 22.0                     1\n",
      " 25.0                     1\n",
      "dtype: int64\n"
     ]
    }
   ],
   "source": [
    "labels = pd.DataFrame(dbscan.labels_)\n",
    "labels = labels.rename(columns = {0: 'Assessment_Results'})\n",
    "combinations = [[1, 4, 5], [1, 5, 4], [4, 1, 5], [4, 5, 1], [5, 1, 4], [5, 4, 1]]\n",
    "for i in combinations:\n",
    "    num_replace = {'Assessment_Results': {0: i[0], 1: i[1], 2: i[2]}}\n",
    "    print((labels.replace(num_replace) - y).value_counts())"
   ]
  },
  {
   "cell_type": "markdown",
   "metadata": {},
   "source": [
    "## Agglomerative clustering"
   ]
  },
  {
   "cell_type": "code",
   "execution_count": 53,
   "metadata": {},
   "outputs": [],
   "source": [
    "from sklearn.cluster import AgglomerativeClustering"
   ]
  },
  {
   "cell_type": "code",
   "execution_count": 54,
   "metadata": {},
   "outputs": [],
   "source": [
    "data_final = scaled_df\n",
    "data_final['Assessment_Results'] = df.loc[:, df.columns == 'Assessment_Results']\n",
    "data_final = data_final.sample(frac = 0.1)\n",
    "X = data_final.loc[:, data_final.columns != 'Assessment_Results']\n",
    "y = data_final.loc[:, df.columns == 'Assessment_Results']"
   ]
  },
  {
   "cell_type": "code",
   "execution_count": 58,
   "metadata": {},
   "outputs": [],
   "source": [
    "agglomerative = AgglomerativeClustering(n_clusters = 3).fit(X)"
   ]
  },
  {
   "cell_type": "code",
   "execution_count": 59,
   "metadata": {},
   "outputs": [
    {
     "data": {
      "text/plain": [
       "Text(0.5, 1.0, 'PCA')"
      ]
     },
     "execution_count": 59,
     "metadata": {},
     "output_type": "execute_result"
    },
    {
     "data": {
      "image/png": "[encoded data removed]",
      "text/plain": [
       "<Figure size 1200x800 with 1 Axes>"
      ]
     },
     "metadata": {},
     "output_type": "display_data"
    }
   ],
   "source": [
    "pca = PCA(n_components=2)\n",
    "res = pca.fit_transform(X)\n",
    "plt.figure(figsize=(12,8))\n",
    "plt.scatter(res[:,0], res[:,1], c=agglomerative.labels_, s=50, cmap='viridis')\n",
    "plt.title('PCA')"
   ]
  },
  {
   "cell_type": "code",
   "execution_count": 60,
   "metadata": {},
   "outputs": [
    {
     "name": "stdout",
     "output_type": "stream",
     "text": [
      "Assessment_Results\n",
      " 0.0                  70\n",
      " 3.0                  33\n",
      " 4.0                  33\n",
      " 1.0                  27\n",
      "-3.0                  25\n",
      "-4.0                  12\n",
      "-1.0                  11\n",
      "dtype: int64\n",
      "Assessment_Results\n",
      " 0.0                  64\n",
      " 3.0                  33\n",
      " 4.0                  33\n",
      " 1.0                  28\n",
      "-3.0                  25\n",
      "-1.0                  16\n",
      "-4.0                  12\n",
      "dtype: int64\n",
      "Assessment_Results\n",
      " 0.0                  74\n",
      " 4.0                  33\n",
      "-3.0                  28\n",
      " 1.0                  27\n",
      " 3.0                  26\n",
      "-1.0                  12\n",
      "-4.0                  11\n",
      "dtype: int64\n",
      "Assessment_Results\n",
      " 0.0                  69\n",
      " 4.0                  33\n",
      " 1.0                  28\n",
      "-3.0                  27\n",
      " 3.0                  26\n",
      "-4.0                  16\n",
      "-1.0                  12\n",
      "dtype: int64\n",
      "Assessment_Results\n",
      " 0.0                  72\n",
      " 3.0                  33\n",
      "-3.0                  28\n",
      " 4.0                  26\n",
      " 1.0                  25\n",
      "-1.0                  16\n",
      "-4.0                  11\n",
      "dtype: int64\n",
      "Assessment_Results\n",
      " 0.0                  73\n",
      " 3.0                  33\n",
      "-3.0                  27\n",
      " 4.0                  26\n",
      " 1.0                  25\n",
      "-4.0                  16\n",
      "-1.0                  11\n",
      "dtype: int64\n"
     ]
    }
   ],
   "source": [
    "labels = pd.DataFrame(agglomerative.labels_)\n",
    "labels = labels.rename(columns = {0: 'Assessment_Results'})\n",
    "combinations = [[1, 4, 5], [1, 5, 4], [4, 1, 5], [4, 5, 1], [5, 1, 4], [5, 4, 1]]\n",
    "for i in combinations:\n",
    "    num_replace = {'Assessment_Results': {0: i[0], 1: i[1], 2: i[2]}}\n",
    "    print((labels.replace(num_replace) - y).value_counts())"
   ]
  },
  {
   "cell_type": "markdown",
   "metadata": {},
   "source": [
    "## Mean-shift"
   ]
  },
  {
   "cell_type": "code",
   "execution_count": 61,
   "metadata": {},
   "outputs": [],
   "source": [
    "from sklearn.cluster import MeanShift"
   ]
  },
  {
   "cell_type": "code",
   "execution_count": 63,
   "metadata": {},
   "outputs": [],
   "source": [
    "data_final = scaled_df\n",
    "data_final['Assessment_Results'] = df.loc[:, df.columns == 'Assessment_Results']\n",
    "data_final = data_final.sample(frac = 0.1)\n",
    "X = data_final.loc[:, data_final.columns != 'Assessment_Results']\n",
    "y = data_final.loc[:, df.columns == 'Assessment_Results']"
   ]
  },
  {
   "cell_type": "code",
   "execution_count": 64,
   "metadata": {},
   "outputs": [],
   "source": [
    "shift = MeanShift(bandwidth=0.9).fit(X)"
   ]
  },
  {
   "cell_type": "code",
   "execution_count": 65,
   "metadata": {},
   "outputs": [
    {
     "data": {
      "text/plain": [
       "0    3338\n",
       "1    1515\n",
       "dtype: int64"
      ]
     },
     "execution_count": 65,
     "metadata": {},
     "output_type": "execute_result"
    }
   ],
   "source": [
    "pd.DataFrame(shift.labels_).value_counts()"
   ]
  },
  {
   "cell_type": "code",
   "execution_count": 66,
   "metadata": {},
   "outputs": [
    {
     "data": {
      "text/plain": [
       "Text(0.5, 1.0, 'PCA')"
      ]
     },
     "execution_count": 66,
     "metadata": {},
     "output_type": "execute_result"
    },
    {
     "data": {
      "image/png": "[encoded data removed]",
      "text/plain": [
       "<Figure size 1200x800 with 1 Axes>"
      ]
     },
     "metadata": {},
     "output_type": "display_data"
    }
   ],
   "source": [
    "pca = PCA(n_components=2)\n",
    "res = pca.fit_transform(X)\n",
    "plt.figure(figsize=(12,8))\n",
    "plt.scatter(res[:,0], res[:,1], c=shift.labels_, s=50, cmap='viridis')\n",
    "plt.title('PCA')"
   ]
  },
  {
   "cell_type": "code",
   "execution_count": 67,
   "metadata": {},
   "outputs": [
    {
     "name": "stdout",
     "output_type": "stream",
     "text": [
      "Assessment_Results\n",
      " 0.0                  90\n",
      "-3.0                  59\n",
      "-4.0                  33\n",
      " 3.0                  24\n",
      "-1.0                  15\n",
      "dtype: int64\n",
      "Assessment_Results\n",
      " 0.0                  79\n",
      "-3.0                  59\n",
      "-4.0                  33\n",
      " 1.0                  26\n",
      " 4.0                  24\n",
      "dtype: int64\n",
      "Assessment_Results\n",
      " 0.0                  83\n",
      " 3.0                  64\n",
      "-1.0                  33\n",
      "-3.0                  26\n",
      "-4.0                  15\n",
      "dtype: int64\n",
      "Assessment_Results\n",
      " 0.0                  74\n",
      " 3.0                  64\n",
      "-1.0                  33\n",
      " 1.0                  26\n",
      " 4.0                  24\n",
      "dtype: int64\n",
      "Assessment_Results\n",
      " 4.0                  64\n",
      " 1.0                  59\n",
      " 0.0                  57\n",
      "-3.0                  26\n",
      "-4.0                  15\n",
      "dtype: int64\n",
      "Assessment_Results\n",
      " 4.0                  64\n",
      " 0.0                  59\n",
      " 1.0                  59\n",
      " 3.0                  24\n",
      "-1.0                  15\n",
      "dtype: int64\n"
     ]
    }
   ],
   "source": [
    "labels = pd.DataFrame(shift.labels_)\n",
    "labels = labels.rename(columns = {0: 'Assessment_Results'})\n",
    "combinations = [[1, 4, 5], [1, 5, 4], [4, 1, 5], [4, 5, 1], [5, 1, 4], [5, 4, 1]]\n",
    "for i in combinations:\n",
    "    num_replace = {'Assessment_Results': {0: i[0], 1: i[1], 2: i[2]}}\n",
    "    print((labels.replace(num_replace) - y).value_counts())"
   ]
  },
  {
   "cell_type": "markdown",
   "metadata": {},
   "source": [
    "## EM"
   ]
  },
  {
   "cell_type": "code",
   "execution_count": 74,
   "metadata": {},
   "outputs": [],
   "source": [
    "from sklearn.mixture import GaussianMixture"
   ]
  },
  {
   "cell_type": "code",
   "execution_count": 80,
   "metadata": {},
   "outputs": [],
   "source": [
    "data_final = scaled_df\n",
    "data_final['Assessment_Results'] = df.loc[:, df.columns == 'Assessment_Results']\n",
    "X = data_final.loc[:, data_final.columns != 'Assessment_Results']\n",
    "y = data_final.loc[:, df.columns == 'Assessment_Results']"
   ]
  },
  {
   "cell_type": "code",
   "execution_count": 85,
   "metadata": {},
   "outputs": [
    {
     "data": {
      "text/html": [
       "<div>\n",
       "<style scoped>\n",
       "    .dataframe tbody tr th:only-of-type {\n",
       "        vertical-align: middle;\n",
       "    }\n",
       "\n",
       "    .dataframe tbody tr th {\n",
       "        vertical-align: top;\n",
       "    }\n",
       "\n",
       "    .dataframe thead th {\n",
       "        text-align: right;\n",
       "    }\n",
       "</style>\n",
       "<table border=\"1\" class=\"dataframe\">\n",
       "  <thead>\n",
       "    <tr style=\"text-align: right;\">\n",
       "      <th></th>\n",
       "      <th>Assessment_Results</th>\n",
       "    </tr>\n",
       "  </thead>\n",
       "  <tbody>\n",
       "    <tr>\n",
       "      <th>0</th>\n",
       "      <td>1.0</td>\n",
       "    </tr>\n",
       "    <tr>\n",
       "      <th>1</th>\n",
       "      <td>1.0</td>\n",
       "    </tr>\n",
       "    <tr>\n",
       "      <th>3</th>\n",
       "      <td>1.0</td>\n",
       "    </tr>\n",
       "    <tr>\n",
       "      <th>7</th>\n",
       "      <td>1.0</td>\n",
       "    </tr>\n",
       "    <tr>\n",
       "      <th>12</th>\n",
       "      <td>1.0</td>\n",
       "    </tr>\n",
       "    <tr>\n",
       "      <th>...</th>\n",
       "      <td>...</td>\n",
       "    </tr>\n",
       "    <tr>\n",
       "      <th>117483</th>\n",
       "      <td>5.0</td>\n",
       "    </tr>\n",
       "    <tr>\n",
       "      <th>117484</th>\n",
       "      <td>4.0</td>\n",
       "    </tr>\n",
       "    <tr>\n",
       "      <th>117486</th>\n",
       "      <td>4.0</td>\n",
       "    </tr>\n",
       "    <tr>\n",
       "      <th>117488</th>\n",
       "      <td>1.0</td>\n",
       "    </tr>\n",
       "    <tr>\n",
       "      <th>117490</th>\n",
       "      <td>1.0</td>\n",
       "    </tr>\n",
       "  </tbody>\n",
       "</table>\n",
       "<p>48532 rows × 1 columns</p>\n",
       "</div>"
      ],
      "text/plain": [
       "        Assessment_Results\n",
       "0                      1.0\n",
       "1                      1.0\n",
       "3                      1.0\n",
       "7                      1.0\n",
       "12                     1.0\n",
       "...                    ...\n",
       "117483                 5.0\n",
       "117484                 4.0\n",
       "117486                 4.0\n",
       "117488                 1.0\n",
       "117490                 1.0\n",
       "\n",
       "[48532 rows x 1 columns]"
      ]
     },
     "execution_count": 85,
     "metadata": {},
     "output_type": "execute_result"
    }
   ],
   "source": [
    "y"
   ]
  },
  {
   "cell_type": "code",
   "execution_count": 81,
   "metadata": {},
   "outputs": [],
   "source": [
    "gm = GaussianMixture(n_components=3, random_state=0).fit(X)"
   ]
  },
  {
   "cell_type": "code",
   "execution_count": 82,
   "metadata": {},
   "outputs": [
    {
     "data": {
      "text/plain": [
       "1    17887\n",
       "2    15366\n",
       "0    15279\n",
       "dtype: int64"
      ]
     },
     "execution_count": 82,
     "metadata": {},
     "output_type": "execute_result"
    }
   ],
   "source": [
    "pd.DataFrame(gm.predict(X)).value_counts()"
   ]
  },
  {
   "cell_type": "code",
   "execution_count": 83,
   "metadata": {},
   "outputs": [
    {
     "data": {
      "text/plain": [
       "Text(0.5, 1.0, 'PCA')"
      ]
     },
     "execution_count": 83,
     "metadata": {},
     "output_type": "execute_result"
    },
    {
     "data": {
      "image/png": "[encoded data removed]",
      "text/plain": [
       "<Figure size 1200x800 with 1 Axes>"
      ]
     },
     "metadata": {},
     "output_type": "display_data"
    }
   ],
   "source": [
    "pca = PCA(n_components=2)\n",
    "res = pca.fit_transform(X)\n",
    "plt.figure(figsize=(12,8))\n",
    "plt.scatter(res[:,0], res[:,1], c=gm.predict(X), s=50, cmap='viridis')\n",
    "plt.title('PCA')"
   ]
  },
  {
   "cell_type": "code",
   "execution_count": 84,
   "metadata": {},
   "outputs": [
    {
     "name": "stdout",
     "output_type": "stream",
     "text": [
      "Assessment_Results\n",
      " 0.0                  7023\n",
      " 3.0                  3147\n",
      " 4.0                  2835\n",
      " 1.0                  2528\n",
      "-3.0                  2498\n",
      "-1.0                  1547\n",
      "-4.0                  1350\n",
      "dtype: int64\n",
      "Assessment_Results\n",
      " 0.0                  6829\n",
      " 4.0                  3147\n",
      " 1.0                  2957\n",
      " 3.0                  2835\n",
      "-3.0                  2498\n",
      "-4.0                  1350\n",
      "-1.0                  1312\n",
      "dtype: int64\n",
      "Assessment_Results\n",
      " 0.0                  6957\n",
      "-3.0                  2957\n",
      " 4.0                  2835\n",
      " 3.0                  2754\n",
      " 1.0                  2528\n",
      "-4.0                  1547\n",
      "-1.0                  1350\n",
      "dtype: int64\n",
      "Assessment_Results\n",
      " 0.0                  6880\n",
      " 4.0                  3147\n",
      " 1.0                  2957\n",
      " 3.0                  2754\n",
      "-3.0                  2528\n",
      "-1.0                  1350\n",
      "-4.0                  1312\n",
      "dtype: int64\n",
      "Assessment_Results\n",
      " 0.0                  7025\n",
      "-3.0                  2957\n",
      " 3.0                  2835\n",
      " 4.0                  2754\n",
      " 1.0                  2498\n",
      "-4.0                  1547\n",
      "-1.0                  1312\n",
      "dtype: int64\n",
      "Assessment_Results\n",
      " 0.0                  7142\n",
      " 3.0                  3147\n",
      " 4.0                  2754\n",
      "-3.0                  2528\n",
      " 1.0                  2498\n",
      "-1.0                  1547\n",
      "-4.0                  1312\n",
      "dtype: int64\n"
     ]
    }
   ],
   "source": [
    "labels = pd.DataFrame(gm.predict(X))\n",
    "labels = labels.rename(columns = {0: 'Assessment_Results'})\n",
    "combinations = [[1, 4, 5], [1, 5, 4], [4, 1, 5], [4, 5, 1], [5, 1, 4], [5, 4, 1]]\n",
    "for i in combinations:\n",
    "    num_replace = {'Assessment_Results': {0: i[0], 1: i[1], 2: i[2]}}\n",
    "    print((labels.replace(num_replace) - y).value_counts())"
   ]
  },
  {
   "cell_type": "code",
   "execution_count": null,
   "metadata": {},
   "outputs": [],
   "source": []
  }
 ],
 "metadata": {
  "colab": {
   "collapsed_sections": [],
   "provenance": []
  },
  "kernelspec": {
   "display_name": "Python 3 (ipykernel)",
   "language": "python",
   "name": "python3"
  },
  "language_info": {
   "codemirror_mode": {
    "name": "ipython",
    "version": 3
   },
   "file_extension": ".py",
   "mimetype": "text/x-python",
   "name": "python",
   "nbconvert_exporter": "python",
   "pygments_lexer": "ipython3",
   "version": "3.10.7"
  },
  "papermill": {
   "duration": 12.885345,
   "end_time": "2020-11-27T11:52:37.154623",
   "environment_variables": {},
   "exception": null,
   "input_path": "__notebook__.ipynb",
   "output_path": "__notebook__.ipynb",
   "parameters": {},
   "start_time": "2020-11-27T11:52:24.269278",
   "version": "2.1.0"
  }
 },
 "nbformat": 4,
 "nbformat_minor": 1
}
