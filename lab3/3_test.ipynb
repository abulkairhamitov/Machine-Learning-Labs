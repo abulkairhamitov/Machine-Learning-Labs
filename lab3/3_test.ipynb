{
 "cells": [
  {
   "cell_type": "markdown",
   "metadata": {
    "id": "TOvht7vqQGdR",
    "papermill": {
     "duration": 0.030335,
     "end_time": "2020-11-27T11:52:28.446538",
     "exception": false,
     "start_time": "2020-11-27T11:52:28.416203",
     "status": "completed"
    },
    "tags": []
   },
   "source": [
    "# Предварительный анализ данных"
   ]
  },
  {
   "cell_type": "markdown",
   "metadata": {
    "id": "dB_j6LtTTO5j",
    "papermill": {
     "duration": 0.02728,
     "end_time": "2020-11-27T11:52:28.666647",
     "exception": false,
     "start_time": "2020-11-27T11:52:28.639367",
     "status": "completed"
    },
    "tags": []
   },
   "source": [
    "## Введение\n"
   ]
  },
  {
   "cell_type": "markdown",
   "metadata": {
    "id": "8hg00soETQ3z",
    "papermill": {
     "duration": 0.027462,
     "end_time": "2020-11-27T11:52:28.721524",
     "exception": false,
     "start_time": "2020-11-27T11:52:28.694062",
     "status": "completed"
    },
    "tags": []
   },
   "source": [
    "**Что такое предварительный анализ данных?**\n",
    "\n",
    "Предварительный анализ данных (EDA - Exploratory Data Analysis) - это получение представления о наборе данных путем обобщения его основных характеристик и их визуального отображения. Этот шаг очень важен, особенно когда речь идет о подготовке данных для применения методов машинного обучения. Визуализация в EDA включает в себя гистограммы, графики, диаграммы рассеяния и многое другое."
   ]
  },
  {
   "cell_type": "markdown",
   "metadata": {
    "id": "n3VfNkBBw15s",
    "papermill": {
     "duration": 0.027082,
     "end_time": "2020-11-27T11:52:28.830620",
     "exception": false,
     "start_time": "2020-11-27T11:52:28.803538",
     "status": "completed"
    },
    "tags": []
   },
   "source": [
    "**Какие данные мы исследуем?**\n",
    "\n",
    "\n",
    "\n",
    "Набор данных о людях и их ЗП. Данные содержат более 10 000 строк и более 10 столбцов. Далее мы изучим данные и подготовим их к моделированию."
   ]
  },
  {
   "cell_type": "markdown",
   "metadata": {
    "id": "CQDO4JCqTThV",
    "papermill": {
     "duration": 0.027108,
     "end_time": "2020-11-27T11:52:28.885282",
     "exception": false,
     "start_time": "2020-11-27T11:52:28.858174",
     "status": "completed"
    },
    "tags": []
   },
   "source": [
    "\n",
    "\n",
    "---\n",
    "\n"
   ]
  },
  {
   "cell_type": "markdown",
   "metadata": {
    "id": "OCVfxzdGhs99"
   },
   "source": []
  },
  {
   "cell_type": "markdown",
   "metadata": {
    "id": "FPSqz1wzTXvz",
    "papermill": {
     "duration": 0.027001,
     "end_time": "2020-11-27T11:52:28.939572",
     "exception": false,
     "start_time": "2020-11-27T11:52:28.912571",
     "status": "completed"
    },
    "tags": []
   },
   "source": [
    "## 1. Импорт необходимых библиотек"
   ]
  },
  {
   "cell_type": "code",
   "execution_count": 1,
   "metadata": {
    "execution": {
     "iopub.execute_input": "2020-11-27T11:52:29.055248Z",
     "iopub.status.busy": "2020-11-27T11:52:29.054583Z",
     "iopub.status.idle": "2020-11-27T11:52:30.054016Z",
     "shell.execute_reply": "2020-11-27T11:52:30.053317Z"
    },
    "id": "GGyDovL2QDLa",
    "papermill": {
     "duration": 1.032787,
     "end_time": "2020-11-27T11:52:30.054137",
     "exception": false,
     "start_time": "2020-11-27T11:52:29.021350",
     "status": "completed"
    },
    "tags": []
   },
   "outputs": [],
   "source": [
    "import pandas as pd\n",
    "import numpy as np\n",
    "import seaborn as sns                       #visualisation\n",
    "import matplotlib.pyplot as plt             #visualisation\n",
    "%matplotlib inline   \n",
    "from sklearn import preprocessing"
   ]
  },
  {
   "cell_type": "markdown",
   "metadata": {
    "id": "Ye6eXuohTd5Q",
    "papermill": {
     "duration": 0.028147,
     "end_time": "2020-11-27T11:52:30.110492",
     "exception": false,
     "start_time": "2020-11-27T11:52:30.082345",
     "status": "completed"
    },
    "tags": []
   },
   "source": [
    "\n",
    "\n",
    "---\n",
    "\n"
   ]
  },
  {
   "cell_type": "markdown",
   "metadata": {
    "id": "8Y3Z2DbKTfJt",
    "papermill": {
     "duration": 0.027409,
     "end_time": "2020-11-27T11:52:30.165749",
     "exception": false,
     "start_time": "2020-11-27T11:52:30.138340",
     "status": "completed"
    },
    "tags": []
   },
   "source": [
    "## 2. Загрузка данных в датафрейм"
   ]
  },
  {
   "cell_type": "markdown",
   "metadata": {
    "id": "ko5zGJFCySaz",
    "papermill": {
     "duration": 0.027623,
     "end_time": "2020-11-27T11:52:30.221200",
     "exception": false,
     "start_time": "2020-11-27T11:52:30.193577",
     "status": "completed"
    },
    "tags": []
   },
   "source": [
    "Так как наш набор данных в формате csv, прочитаем его следующей функцией в pandas (опционально можно подключить гугл диск, чтобы брать датасеты из него)"
   ]
  },
  {
   "cell_type": "code",
   "execution_count": 2,
   "metadata": {
    "colab": {
     "base_uri": "https://localhost:8080/",
     "height": 472
    },
    "execution": {
     "iopub.execute_input": "2020-11-27T11:52:30.341297Z",
     "iopub.status.busy": "2020-11-27T11:52:30.340585Z",
     "iopub.status.idle": "2020-11-27T11:52:30.408536Z",
     "shell.execute_reply": "2020-11-27T11:52:30.409040Z"
    },
    "id": "0oVZnezwQ159",
    "outputId": "b9659e87-2533-4610-d8dd-6f5dbec49a98",
    "papermill": {
     "duration": 0.104836,
     "end_time": "2020-11-27T11:52:30.409177",
     "exception": false,
     "start_time": "2020-11-27T11:52:30.304341",
     "status": "completed"
    },
    "tags": []
   },
   "outputs": [
    {
     "data": {
      "text/html": [
       "<div>\n",
       "<style scoped>\n",
       "    .dataframe tbody tr th:only-of-type {\n",
       "        vertical-align: middle;\n",
       "    }\n",
       "\n",
       "    .dataframe tbody tr th {\n",
       "        vertical-align: top;\n",
       "    }\n",
       "\n",
       "    .dataframe thead th {\n",
       "        text-align: right;\n",
       "    }\n",
       "</style>\n",
       "<table border=\"1\" class=\"dataframe\">\n",
       "  <thead>\n",
       "    <tr style=\"text-align: right;\">\n",
       "      <th></th>\n",
       "      <th>age</th>\n",
       "      <th>workclass</th>\n",
       "      <th>fnlwgt</th>\n",
       "      <th>education</th>\n",
       "      <th>education-num</th>\n",
       "      <th>marital-status</th>\n",
       "      <th>occupation</th>\n",
       "      <th>relationship</th>\n",
       "      <th>race</th>\n",
       "      <th>sex</th>\n",
       "      <th>capital-gain</th>\n",
       "      <th>capital-loss</th>\n",
       "      <th>hours-per-week</th>\n",
       "      <th>native-country</th>\n",
       "      <th>salary</th>\n",
       "    </tr>\n",
       "  </thead>\n",
       "  <tbody>\n",
       "    <tr>\n",
       "      <th>0</th>\n",
       "      <td>39</td>\n",
       "      <td>State-gov</td>\n",
       "      <td>77516</td>\n",
       "      <td>Bachelors</td>\n",
       "      <td>13</td>\n",
       "      <td>Never-married</td>\n",
       "      <td>Adm-clerical</td>\n",
       "      <td>Not-in-family</td>\n",
       "      <td>White</td>\n",
       "      <td>Male</td>\n",
       "      <td>2174</td>\n",
       "      <td>0</td>\n",
       "      <td>40</td>\n",
       "      <td>United-States</td>\n",
       "      <td>1</td>\n",
       "    </tr>\n",
       "    <tr>\n",
       "      <th>1</th>\n",
       "      <td>50</td>\n",
       "      <td>Self-emp-not-inc</td>\n",
       "      <td>83311</td>\n",
       "      <td>Bachelors</td>\n",
       "      <td>13</td>\n",
       "      <td>Married-civ-spouse</td>\n",
       "      <td>Exec-managerial</td>\n",
       "      <td>Husband</td>\n",
       "      <td>White</td>\n",
       "      <td>Male</td>\n",
       "      <td>0</td>\n",
       "      <td>0</td>\n",
       "      <td>13</td>\n",
       "      <td>United-States</td>\n",
       "      <td>1</td>\n",
       "    </tr>\n",
       "    <tr>\n",
       "      <th>2</th>\n",
       "      <td>38</td>\n",
       "      <td>Private</td>\n",
       "      <td>215646</td>\n",
       "      <td>HS-grad</td>\n",
       "      <td>9</td>\n",
       "      <td>Divorced</td>\n",
       "      <td>Handlers-cleaners</td>\n",
       "      <td>Not-in-family</td>\n",
       "      <td>White</td>\n",
       "      <td>Male</td>\n",
       "      <td>0</td>\n",
       "      <td>0</td>\n",
       "      <td>40</td>\n",
       "      <td>United-States</td>\n",
       "      <td>1</td>\n",
       "    </tr>\n",
       "    <tr>\n",
       "      <th>3</th>\n",
       "      <td>53</td>\n",
       "      <td>Private</td>\n",
       "      <td>234721</td>\n",
       "      <td>11th</td>\n",
       "      <td>7</td>\n",
       "      <td>Married-civ-spouse</td>\n",
       "      <td>Handlers-cleaners</td>\n",
       "      <td>Husband</td>\n",
       "      <td>Black</td>\n",
       "      <td>Male</td>\n",
       "      <td>0</td>\n",
       "      <td>0</td>\n",
       "      <td>40</td>\n",
       "      <td>United-States</td>\n",
       "      <td>1</td>\n",
       "    </tr>\n",
       "    <tr>\n",
       "      <th>4</th>\n",
       "      <td>28</td>\n",
       "      <td>Private</td>\n",
       "      <td>338409</td>\n",
       "      <td>Bachelors</td>\n",
       "      <td>13</td>\n",
       "      <td>Married-civ-spouse</td>\n",
       "      <td>Prof-specialty</td>\n",
       "      <td>Wife</td>\n",
       "      <td>Black</td>\n",
       "      <td>Female</td>\n",
       "      <td>0</td>\n",
       "      <td>0</td>\n",
       "      <td>40</td>\n",
       "      <td>Cuba</td>\n",
       "      <td>1</td>\n",
       "    </tr>\n",
       "  </tbody>\n",
       "</table>\n",
       "</div>"
      ],
      "text/plain": [
       "   age          workclass  fnlwgt   education  education-num  \\\n",
       "0   39          State-gov   77516   Bachelors             13   \n",
       "1   50   Self-emp-not-inc   83311   Bachelors             13   \n",
       "2   38            Private  215646     HS-grad              9   \n",
       "3   53            Private  234721        11th              7   \n",
       "4   28            Private  338409   Bachelors             13   \n",
       "\n",
       "        marital-status          occupation    relationship    race      sex  \\\n",
       "0        Never-married        Adm-clerical   Not-in-family   White     Male   \n",
       "1   Married-civ-spouse     Exec-managerial         Husband   White     Male   \n",
       "2             Divorced   Handlers-cleaners   Not-in-family   White     Male   \n",
       "3   Married-civ-spouse   Handlers-cleaners         Husband   Black     Male   \n",
       "4   Married-civ-spouse      Prof-specialty            Wife   Black   Female   \n",
       "\n",
       "   capital-gain  capital-loss  hours-per-week  native-country  salary  \n",
       "0          2174             0              40   United-States       1  \n",
       "1             0             0              13   United-States       1  \n",
       "2             0             0              40   United-States       1  \n",
       "3             0             0              40   United-States       1  \n",
       "4             0             0              40            Cuba       1  "
      ]
     },
     "execution_count": 2,
     "metadata": {},
     "output_type": "execute_result"
    }
   ],
   "source": [
    "df = pd.read_csv(\"data.csv\")\n",
    "# To display the top 5 rows \n",
    "df.head(5)               "
   ]
  },
  {
   "cell_type": "code",
   "execution_count": 3,
   "metadata": {
    "colab": {
     "base_uri": "https://localhost:8080/",
     "height": 455
    },
    "execution": {
     "iopub.execute_input": "2020-11-27T11:52:30.487251Z",
     "iopub.status.busy": "2020-11-27T11:52:30.486184Z",
     "iopub.status.idle": "2020-11-27T11:52:30.490767Z",
     "shell.execute_reply": "2020-11-27T11:52:30.490289Z"
    },
    "id": "Fm-9dzdTRKpe",
    "outputId": "3cddf5f8-a594-4b40-d2c6-edbe81b69723",
    "papermill": {
     "duration": 0.052534,
     "end_time": "2020-11-27T11:52:30.490899",
     "exception": false,
     "start_time": "2020-11-27T11:52:30.438365",
     "status": "completed"
    },
    "tags": []
   },
   "outputs": [
    {
     "data": {
      "text/html": [
       "<div>\n",
       "<style scoped>\n",
       "    .dataframe tbody tr th:only-of-type {\n",
       "        vertical-align: middle;\n",
       "    }\n",
       "\n",
       "    .dataframe tbody tr th {\n",
       "        vertical-align: top;\n",
       "    }\n",
       "\n",
       "    .dataframe thead th {\n",
       "        text-align: right;\n",
       "    }\n",
       "</style>\n",
       "<table border=\"1\" class=\"dataframe\">\n",
       "  <thead>\n",
       "    <tr style=\"text-align: right;\">\n",
       "      <th></th>\n",
       "      <th>age</th>\n",
       "      <th>workclass</th>\n",
       "      <th>fnlwgt</th>\n",
       "      <th>education</th>\n",
       "      <th>education-num</th>\n",
       "      <th>marital-status</th>\n",
       "      <th>occupation</th>\n",
       "      <th>relationship</th>\n",
       "      <th>race</th>\n",
       "      <th>sex</th>\n",
       "      <th>capital-gain</th>\n",
       "      <th>capital-loss</th>\n",
       "      <th>hours-per-week</th>\n",
       "      <th>native-country</th>\n",
       "      <th>salary</th>\n",
       "    </tr>\n",
       "  </thead>\n",
       "  <tbody>\n",
       "    <tr>\n",
       "      <th>32556</th>\n",
       "      <td>27</td>\n",
       "      <td>Private</td>\n",
       "      <td>257302</td>\n",
       "      <td>Assoc-acdm</td>\n",
       "      <td>12</td>\n",
       "      <td>Married-civ-spouse</td>\n",
       "      <td>Tech-support</td>\n",
       "      <td>Wife</td>\n",
       "      <td>White</td>\n",
       "      <td>Female</td>\n",
       "      <td>0</td>\n",
       "      <td>0</td>\n",
       "      <td>38</td>\n",
       "      <td>United-States</td>\n",
       "      <td>1</td>\n",
       "    </tr>\n",
       "    <tr>\n",
       "      <th>32557</th>\n",
       "      <td>40</td>\n",
       "      <td>Private</td>\n",
       "      <td>154374</td>\n",
       "      <td>HS-grad</td>\n",
       "      <td>9</td>\n",
       "      <td>Married-civ-spouse</td>\n",
       "      <td>Machine-op-inspct</td>\n",
       "      <td>Husband</td>\n",
       "      <td>White</td>\n",
       "      <td>Male</td>\n",
       "      <td>0</td>\n",
       "      <td>0</td>\n",
       "      <td>40</td>\n",
       "      <td>United-States</td>\n",
       "      <td>0</td>\n",
       "    </tr>\n",
       "    <tr>\n",
       "      <th>32558</th>\n",
       "      <td>58</td>\n",
       "      <td>Private</td>\n",
       "      <td>151910</td>\n",
       "      <td>HS-grad</td>\n",
       "      <td>9</td>\n",
       "      <td>Widowed</td>\n",
       "      <td>Adm-clerical</td>\n",
       "      <td>Unmarried</td>\n",
       "      <td>White</td>\n",
       "      <td>Female</td>\n",
       "      <td>0</td>\n",
       "      <td>0</td>\n",
       "      <td>40</td>\n",
       "      <td>United-States</td>\n",
       "      <td>1</td>\n",
       "    </tr>\n",
       "    <tr>\n",
       "      <th>32559</th>\n",
       "      <td>22</td>\n",
       "      <td>Private</td>\n",
       "      <td>201490</td>\n",
       "      <td>HS-grad</td>\n",
       "      <td>9</td>\n",
       "      <td>Never-married</td>\n",
       "      <td>Adm-clerical</td>\n",
       "      <td>Own-child</td>\n",
       "      <td>White</td>\n",
       "      <td>Male</td>\n",
       "      <td>0</td>\n",
       "      <td>0</td>\n",
       "      <td>20</td>\n",
       "      <td>United-States</td>\n",
       "      <td>1</td>\n",
       "    </tr>\n",
       "    <tr>\n",
       "      <th>32560</th>\n",
       "      <td>52</td>\n",
       "      <td>Self-emp-inc</td>\n",
       "      <td>287927</td>\n",
       "      <td>HS-grad</td>\n",
       "      <td>9</td>\n",
       "      <td>Married-civ-spouse</td>\n",
       "      <td>Exec-managerial</td>\n",
       "      <td>Wife</td>\n",
       "      <td>White</td>\n",
       "      <td>Female</td>\n",
       "      <td>15024</td>\n",
       "      <td>0</td>\n",
       "      <td>40</td>\n",
       "      <td>United-States</td>\n",
       "      <td>0</td>\n",
       "    </tr>\n",
       "  </tbody>\n",
       "</table>\n",
       "</div>"
      ],
      "text/plain": [
       "       age      workclass  fnlwgt    education  education-num  \\\n",
       "32556   27        Private  257302   Assoc-acdm             12   \n",
       "32557   40        Private  154374      HS-grad              9   \n",
       "32558   58        Private  151910      HS-grad              9   \n",
       "32559   22        Private  201490      HS-grad              9   \n",
       "32560   52   Self-emp-inc  287927      HS-grad              9   \n",
       "\n",
       "            marital-status          occupation relationship    race      sex  \\\n",
       "32556   Married-civ-spouse        Tech-support         Wife   White   Female   \n",
       "32557   Married-civ-spouse   Machine-op-inspct      Husband   White     Male   \n",
       "32558              Widowed        Adm-clerical    Unmarried   White   Female   \n",
       "32559        Never-married        Adm-clerical    Own-child   White     Male   \n",
       "32560   Married-civ-spouse     Exec-managerial         Wife   White   Female   \n",
       "\n",
       "       capital-gain  capital-loss  hours-per-week  native-country  salary  \n",
       "32556             0             0              38   United-States       1  \n",
       "32557             0             0              40   United-States       0  \n",
       "32558             0             0              40   United-States       1  \n",
       "32559             0             0              20   United-States       1  \n",
       "32560         15024             0              40   United-States       0  "
      ]
     },
     "execution_count": 3,
     "metadata": {},
     "output_type": "execute_result"
    }
   ],
   "source": [
    "df.tail(5)                        # To display the botton 5 rows"
   ]
  },
  {
   "cell_type": "code",
   "execution_count": 4,
   "metadata": {},
   "outputs": [
    {
     "data": {
      "text/plain": [
       " Married-civ-spouse       14976\n",
       " Never-married            10683\n",
       " Divorced                  4443\n",
       " Separated                 1025\n",
       " Widowed                    993\n",
       " Married-spouse-absent      418\n",
       " Married-AF-spouse           23\n",
       "Name: marital-status, dtype: int64"
      ]
     },
     "execution_count": 4,
     "metadata": {},
     "output_type": "execute_result"
    }
   ],
   "source": [
    "df['marital-status'].value_counts()"
   ]
  },
  {
   "cell_type": "markdown",
   "metadata": {
    "id": "JjQnr4SPzaL5",
    "papermill": {
     "duration": 0.029003,
     "end_time": "2020-11-27T11:52:30.549371",
     "exception": false,
     "start_time": "2020-11-27T11:52:30.520368",
     "status": "completed"
    },
    "tags": []
   },
   "source": [
    "\n",
    "\n",
    "---\n",
    "\n"
   ]
  },
  {
   "cell_type": "markdown",
   "metadata": {
    "id": "vAmC369yTpMF",
    "papermill": {
     "duration": 0.029103,
     "end_time": "2020-11-27T11:52:30.608838",
     "exception": false,
     "start_time": "2020-11-27T11:52:30.579735",
     "status": "completed"
    },
    "tags": []
   },
   "source": [
    "## 3. Проверка типов данных"
   ]
  },
  {
   "cell_type": "markdown",
   "metadata": {
    "id": "9ESKxikIzA1d",
    "papermill": {
     "duration": 0.029261,
     "end_time": "2020-11-27T11:52:30.667608",
     "exception": false,
     "start_time": "2020-11-27T11:52:30.638347",
     "status": "completed"
    },
    "tags": []
   },
   "source": [
    "Здесь мы проверяем типы данных, потому что иногда цена автомобиля хранится в виде строки, поэтому следует преобразовать эту строку в целочисленные данные, только тогда возможно отобразить данные на графике. В данном случае данные уже представлены в целочисленном формате, поэтому беспокоиться не о чем."
   ]
  },
  {
   "cell_type": "code",
   "execution_count": 5,
   "metadata": {
    "colab": {
     "base_uri": "https://localhost:8080/"
    },
    "execution": {
     "iopub.execute_input": "2020-11-27T11:52:30.734838Z",
     "iopub.status.busy": "2020-11-27T11:52:30.733833Z",
     "iopub.status.idle": "2020-11-27T11:52:30.737879Z",
     "shell.execute_reply": "2020-11-27T11:52:30.737377Z"
    },
    "id": "qPbKQ0noRptD",
    "outputId": "e99b3ead-d931-4681-affa-d73c63545b10",
    "papermill": {
     "duration": 0.040549,
     "end_time": "2020-11-27T11:52:30.738002",
     "exception": false,
     "start_time": "2020-11-27T11:52:30.697453",
     "status": "completed"
    },
    "tags": []
   },
   "outputs": [
    {
     "data": {
      "text/plain": [
       "age                int64\n",
       "workclass         object\n",
       "fnlwgt             int64\n",
       "education         object\n",
       "education-num      int64\n",
       "marital-status    object\n",
       "occupation        object\n",
       "relationship      object\n",
       "race              object\n",
       "sex               object\n",
       "capital-gain       int64\n",
       "capital-loss       int64\n",
       "hours-per-week     int64\n",
       "native-country    object\n",
       "salary             int64\n",
       "dtype: object"
      ]
     },
     "execution_count": 5,
     "metadata": {},
     "output_type": "execute_result"
    }
   ],
   "source": [
    "df.dtypes"
   ]
  },
  {
   "cell_type": "markdown",
   "metadata": {
    "id": "beRJyQAezdX8",
    "papermill": {
     "duration": 0.029309,
     "end_time": "2020-11-27T11:52:30.797064",
     "exception": false,
     "start_time": "2020-11-27T11:52:30.767755",
     "status": "completed"
    },
    "tags": []
   },
   "source": [
    "\n",
    "\n",
    "---\n",
    "\n"
   ]
  },
  {
   "cell_type": "markdown",
   "metadata": {
    "id": "QoHuBhXxT5E9",
    "papermill": {
     "duration": 0.029086,
     "end_time": "2020-11-27T11:52:30.855758",
     "exception": false,
     "start_time": "2020-11-27T11:52:30.826672",
     "status": "completed"
    },
    "tags": []
   },
   "source": [
    "## 4. Удаление нерелевантных колонок"
   ]
  },
  {
   "cell_type": "markdown",
   "metadata": {
    "id": "_3cy877Mze4H",
    "papermill": {
     "duration": 0.029217,
     "end_time": "2020-11-27T11:52:30.914753",
     "exception": false,
     "start_time": "2020-11-27T11:52:30.885536",
     "status": "completed"
    },
    "tags": []
   },
   "source": [
    "Этот шаг, в каждом анализе данных, потому что иногда в наборе данных представлены неиспользуемые столбцы, которые следует отбросить. "
   ]
  },
  {
   "cell_type": "code",
   "execution_count": 6,
   "metadata": {
    "colab": {
     "base_uri": "https://localhost:8080/",
     "height": 204
    },
    "execution": {
     "iopub.execute_input": "2020-11-27T11:52:30.994216Z",
     "iopub.status.busy": "2020-11-27T11:52:30.993162Z",
     "iopub.status.idle": "2020-11-27T11:52:30.997526Z",
     "shell.execute_reply": "2020-11-27T11:52:30.997034Z"
    },
    "id": "uvSkK8swTr9H",
    "outputId": "04cdd64c-4e9a-47e8-c79d-969527001a79",
    "papermill": {
     "duration": 0.053265,
     "end_time": "2020-11-27T11:52:30.997635",
     "exception": false,
     "start_time": "2020-11-27T11:52:30.944370",
     "status": "completed"
    },
    "tags": []
   },
   "outputs": [
    {
     "data": {
      "text/html": [
       "<div>\n",
       "<style scoped>\n",
       "    .dataframe tbody tr th:only-of-type {\n",
       "        vertical-align: middle;\n",
       "    }\n",
       "\n",
       "    .dataframe tbody tr th {\n",
       "        vertical-align: top;\n",
       "    }\n",
       "\n",
       "    .dataframe thead th {\n",
       "        text-align: right;\n",
       "    }\n",
       "</style>\n",
       "<table border=\"1\" class=\"dataframe\">\n",
       "  <thead>\n",
       "    <tr style=\"text-align: right;\">\n",
       "      <th></th>\n",
       "      <th>age</th>\n",
       "      <th>workclass</th>\n",
       "      <th>education</th>\n",
       "      <th>education-num</th>\n",
       "      <th>marital-status</th>\n",
       "      <th>occupation</th>\n",
       "      <th>relationship</th>\n",
       "      <th>race</th>\n",
       "      <th>sex</th>\n",
       "      <th>capital-gain</th>\n",
       "      <th>capital-loss</th>\n",
       "      <th>hours-per-week</th>\n",
       "      <th>native-country</th>\n",
       "      <th>salary</th>\n",
       "    </tr>\n",
       "  </thead>\n",
       "  <tbody>\n",
       "    <tr>\n",
       "      <th>0</th>\n",
       "      <td>39</td>\n",
       "      <td>State-gov</td>\n",
       "      <td>Bachelors</td>\n",
       "      <td>13</td>\n",
       "      <td>Never-married</td>\n",
       "      <td>Adm-clerical</td>\n",
       "      <td>Not-in-family</td>\n",
       "      <td>White</td>\n",
       "      <td>Male</td>\n",
       "      <td>2174</td>\n",
       "      <td>0</td>\n",
       "      <td>40</td>\n",
       "      <td>United-States</td>\n",
       "      <td>1</td>\n",
       "    </tr>\n",
       "    <tr>\n",
       "      <th>1</th>\n",
       "      <td>50</td>\n",
       "      <td>Self-emp-not-inc</td>\n",
       "      <td>Bachelors</td>\n",
       "      <td>13</td>\n",
       "      <td>Married-civ-spouse</td>\n",
       "      <td>Exec-managerial</td>\n",
       "      <td>Husband</td>\n",
       "      <td>White</td>\n",
       "      <td>Male</td>\n",
       "      <td>0</td>\n",
       "      <td>0</td>\n",
       "      <td>13</td>\n",
       "      <td>United-States</td>\n",
       "      <td>1</td>\n",
       "    </tr>\n",
       "    <tr>\n",
       "      <th>2</th>\n",
       "      <td>38</td>\n",
       "      <td>Private</td>\n",
       "      <td>HS-grad</td>\n",
       "      <td>9</td>\n",
       "      <td>Divorced</td>\n",
       "      <td>Handlers-cleaners</td>\n",
       "      <td>Not-in-family</td>\n",
       "      <td>White</td>\n",
       "      <td>Male</td>\n",
       "      <td>0</td>\n",
       "      <td>0</td>\n",
       "      <td>40</td>\n",
       "      <td>United-States</td>\n",
       "      <td>1</td>\n",
       "    </tr>\n",
       "    <tr>\n",
       "      <th>3</th>\n",
       "      <td>53</td>\n",
       "      <td>Private</td>\n",
       "      <td>11th</td>\n",
       "      <td>7</td>\n",
       "      <td>Married-civ-spouse</td>\n",
       "      <td>Handlers-cleaners</td>\n",
       "      <td>Husband</td>\n",
       "      <td>Black</td>\n",
       "      <td>Male</td>\n",
       "      <td>0</td>\n",
       "      <td>0</td>\n",
       "      <td>40</td>\n",
       "      <td>United-States</td>\n",
       "      <td>1</td>\n",
       "    </tr>\n",
       "    <tr>\n",
       "      <th>4</th>\n",
       "      <td>28</td>\n",
       "      <td>Private</td>\n",
       "      <td>Bachelors</td>\n",
       "      <td>13</td>\n",
       "      <td>Married-civ-spouse</td>\n",
       "      <td>Prof-specialty</td>\n",
       "      <td>Wife</td>\n",
       "      <td>Black</td>\n",
       "      <td>Female</td>\n",
       "      <td>0</td>\n",
       "      <td>0</td>\n",
       "      <td>40</td>\n",
       "      <td>Cuba</td>\n",
       "      <td>1</td>\n",
       "    </tr>\n",
       "  </tbody>\n",
       "</table>\n",
       "</div>"
      ],
      "text/plain": [
       "   age          workclass   education  education-num       marital-status  \\\n",
       "0   39          State-gov   Bachelors             13        Never-married   \n",
       "1   50   Self-emp-not-inc   Bachelors             13   Married-civ-spouse   \n",
       "2   38            Private     HS-grad              9             Divorced   \n",
       "3   53            Private        11th              7   Married-civ-spouse   \n",
       "4   28            Private   Bachelors             13   Married-civ-spouse   \n",
       "\n",
       "           occupation    relationship    race      sex  capital-gain  \\\n",
       "0        Adm-clerical   Not-in-family   White     Male          2174   \n",
       "1     Exec-managerial         Husband   White     Male             0   \n",
       "2   Handlers-cleaners   Not-in-family   White     Male             0   \n",
       "3   Handlers-cleaners         Husband   Black     Male             0   \n",
       "4      Prof-specialty            Wife   Black   Female             0   \n",
       "\n",
       "   capital-loss  hours-per-week  native-country  salary  \n",
       "0             0              40   United-States       1  \n",
       "1             0              13   United-States       1  \n",
       "2             0              40   United-States       1  \n",
       "3             0              40   United-States       1  \n",
       "4             0              40            Cuba       1  "
      ]
     },
     "execution_count": 6,
     "metadata": {},
     "output_type": "execute_result"
    }
   ],
   "source": [
    "df = df.drop(['fnlwgt'], axis=1)\n",
    "df.head(5)"
   ]
  },
  {
   "cell_type": "markdown",
   "metadata": {
    "id": "20OeQBpWz89v",
    "papermill": {
     "duration": 0.029929,
     "end_time": "2020-11-27T11:52:31.057925",
     "exception": false,
     "start_time": "2020-11-27T11:52:31.027996",
     "status": "completed"
    },
    "tags": []
   },
   "source": [
    "\n",
    "\n",
    "---\n",
    "\n"
   ]
  },
  {
   "cell_type": "markdown",
   "metadata": {
    "id": "caAownWdUZso",
    "papermill": {
     "duration": 0.030223,
     "end_time": "2020-11-27T11:52:31.118132",
     "exception": false,
     "start_time": "2020-11-27T11:52:31.087909",
     "status": "completed"
    },
    "tags": []
   },
   "source": [
    "## 5. Переименование столбцов"
   ]
  },
  {
   "cell_type": "markdown",
   "metadata": {
    "id": "UABLiEcyz-2G",
    "papermill": {
     "duration": 0.030318,
     "end_time": "2020-11-27T11:52:31.178829",
     "exception": false,
     "start_time": "2020-11-27T11:52:31.148511",
     "status": "completed"
    },
    "tags": []
   },
   "source": [
    "В данном случае большинство названий столбцов нечитаемы, поэтому переименуем их."
   ]
  },
  {
   "cell_type": "code",
   "execution_count": 7,
   "metadata": {
    "colab": {
     "base_uri": "https://localhost:8080/",
     "height": 204
    },
    "execution": {
     "iopub.execute_input": "2020-11-27T11:52:31.245798Z",
     "iopub.status.busy": "2020-11-27T11:52:31.245033Z",
     "iopub.status.idle": "2020-11-27T11:52:31.260466Z",
     "shell.execute_reply": "2020-11-27T11:52:31.259923Z"
    },
    "id": "1wHW41whURub",
    "outputId": "d40cff21-f575-49a7-d12a-191e4a1fa6d0",
    "papermill": {
     "duration": 0.05128,
     "end_time": "2020-11-27T11:52:31.260584",
     "exception": false,
     "start_time": "2020-11-27T11:52:31.209304",
     "status": "completed"
    },
    "tags": []
   },
   "outputs": [
    {
     "data": {
      "text/html": [
       "<div>\n",
       "<style scoped>\n",
       "    .dataframe tbody tr th:only-of-type {\n",
       "        vertical-align: middle;\n",
       "    }\n",
       "\n",
       "    .dataframe tbody tr th {\n",
       "        vertical-align: top;\n",
       "    }\n",
       "\n",
       "    .dataframe thead th {\n",
       "        text-align: right;\n",
       "    }\n",
       "</style>\n",
       "<table border=\"1\" class=\"dataframe\">\n",
       "  <thead>\n",
       "    <tr style=\"text-align: right;\">\n",
       "      <th></th>\n",
       "      <th>age</th>\n",
       "      <th>workclass</th>\n",
       "      <th>education</th>\n",
       "      <th>education-num</th>\n",
       "      <th>marital-status</th>\n",
       "      <th>occupation</th>\n",
       "      <th>relationship</th>\n",
       "      <th>race</th>\n",
       "      <th>sex</th>\n",
       "      <th>capital-gain</th>\n",
       "      <th>capital-loss</th>\n",
       "      <th>hpw</th>\n",
       "      <th>native-country</th>\n",
       "      <th>salary</th>\n",
       "    </tr>\n",
       "  </thead>\n",
       "  <tbody>\n",
       "    <tr>\n",
       "      <th>0</th>\n",
       "      <td>39</td>\n",
       "      <td>State-gov</td>\n",
       "      <td>Bachelors</td>\n",
       "      <td>13</td>\n",
       "      <td>Never-married</td>\n",
       "      <td>Adm-clerical</td>\n",
       "      <td>Not-in-family</td>\n",
       "      <td>White</td>\n",
       "      <td>Male</td>\n",
       "      <td>2174</td>\n",
       "      <td>0</td>\n",
       "      <td>40</td>\n",
       "      <td>United-States</td>\n",
       "      <td>1</td>\n",
       "    </tr>\n",
       "    <tr>\n",
       "      <th>1</th>\n",
       "      <td>50</td>\n",
       "      <td>Self-emp-not-inc</td>\n",
       "      <td>Bachelors</td>\n",
       "      <td>13</td>\n",
       "      <td>Married-civ-spouse</td>\n",
       "      <td>Exec-managerial</td>\n",
       "      <td>Husband</td>\n",
       "      <td>White</td>\n",
       "      <td>Male</td>\n",
       "      <td>0</td>\n",
       "      <td>0</td>\n",
       "      <td>13</td>\n",
       "      <td>United-States</td>\n",
       "      <td>1</td>\n",
       "    </tr>\n",
       "    <tr>\n",
       "      <th>2</th>\n",
       "      <td>38</td>\n",
       "      <td>Private</td>\n",
       "      <td>HS-grad</td>\n",
       "      <td>9</td>\n",
       "      <td>Divorced</td>\n",
       "      <td>Handlers-cleaners</td>\n",
       "      <td>Not-in-family</td>\n",
       "      <td>White</td>\n",
       "      <td>Male</td>\n",
       "      <td>0</td>\n",
       "      <td>0</td>\n",
       "      <td>40</td>\n",
       "      <td>United-States</td>\n",
       "      <td>1</td>\n",
       "    </tr>\n",
       "    <tr>\n",
       "      <th>3</th>\n",
       "      <td>53</td>\n",
       "      <td>Private</td>\n",
       "      <td>11th</td>\n",
       "      <td>7</td>\n",
       "      <td>Married-civ-spouse</td>\n",
       "      <td>Handlers-cleaners</td>\n",
       "      <td>Husband</td>\n",
       "      <td>Black</td>\n",
       "      <td>Male</td>\n",
       "      <td>0</td>\n",
       "      <td>0</td>\n",
       "      <td>40</td>\n",
       "      <td>United-States</td>\n",
       "      <td>1</td>\n",
       "    </tr>\n",
       "    <tr>\n",
       "      <th>4</th>\n",
       "      <td>28</td>\n",
       "      <td>Private</td>\n",
       "      <td>Bachelors</td>\n",
       "      <td>13</td>\n",
       "      <td>Married-civ-spouse</td>\n",
       "      <td>Prof-specialty</td>\n",
       "      <td>Wife</td>\n",
       "      <td>Black</td>\n",
       "      <td>Female</td>\n",
       "      <td>0</td>\n",
       "      <td>0</td>\n",
       "      <td>40</td>\n",
       "      <td>Cuba</td>\n",
       "      <td>1</td>\n",
       "    </tr>\n",
       "  </tbody>\n",
       "</table>\n",
       "</div>"
      ],
      "text/plain": [
       "   age          workclass   education  education-num       marital-status  \\\n",
       "0   39          State-gov   Bachelors             13        Never-married   \n",
       "1   50   Self-emp-not-inc   Bachelors             13   Married-civ-spouse   \n",
       "2   38            Private     HS-grad              9             Divorced   \n",
       "3   53            Private        11th              7   Married-civ-spouse   \n",
       "4   28            Private   Bachelors             13   Married-civ-spouse   \n",
       "\n",
       "           occupation    relationship    race      sex  capital-gain  \\\n",
       "0        Adm-clerical   Not-in-family   White     Male          2174   \n",
       "1     Exec-managerial         Husband   White     Male             0   \n",
       "2   Handlers-cleaners   Not-in-family   White     Male             0   \n",
       "3   Handlers-cleaners         Husband   Black     Male             0   \n",
       "4      Prof-specialty            Wife   Black   Female             0   \n",
       "\n",
       "   capital-loss  hpw  native-country  salary  \n",
       "0             0   40   United-States       1  \n",
       "1             0   13   United-States       1  \n",
       "2             0   40   United-States       1  \n",
       "3             0   40   United-States       1  \n",
       "4             0   40            Cuba       1  "
      ]
     },
     "execution_count": 7,
     "metadata": {},
     "output_type": "execute_result"
    }
   ],
   "source": [
    "df = df.rename(columns={\"hours-per-week\": \"hpw\"})\n",
    "df.head(5)"
   ]
  },
  {
   "cell_type": "code",
   "execution_count": 8,
   "metadata": {},
   "outputs": [
    {
     "data": {
      "text/html": [
       "<div>\n",
       "<style scoped>\n",
       "    .dataframe tbody tr th:only-of-type {\n",
       "        vertical-align: middle;\n",
       "    }\n",
       "\n",
       "    .dataframe tbody tr th {\n",
       "        vertical-align: top;\n",
       "    }\n",
       "\n",
       "    .dataframe thead th {\n",
       "        text-align: right;\n",
       "    }\n",
       "</style>\n",
       "<table border=\"1\" class=\"dataframe\">\n",
       "  <thead>\n",
       "    <tr style=\"text-align: right;\">\n",
       "      <th></th>\n",
       "      <th>age</th>\n",
       "      <th>workclass</th>\n",
       "      <th>education</th>\n",
       "      <th>education-num</th>\n",
       "      <th>marital-status</th>\n",
       "      <th>occupation</th>\n",
       "      <th>relationship</th>\n",
       "      <th>race</th>\n",
       "      <th>sex</th>\n",
       "      <th>capital-gain</th>\n",
       "      <th>capital-loss</th>\n",
       "      <th>hpw</th>\n",
       "      <th>native-country</th>\n",
       "      <th>salary</th>\n",
       "    </tr>\n",
       "  </thead>\n",
       "  <tbody>\n",
       "    <tr>\n",
       "      <th>0</th>\n",
       "      <td>39</td>\n",
       "      <td>State-gov</td>\n",
       "      <td>Bachelors</td>\n",
       "      <td>13</td>\n",
       "      <td>Never-married</td>\n",
       "      <td>Adm-clerical</td>\n",
       "      <td>Not-in-family</td>\n",
       "      <td>White</td>\n",
       "      <td>1</td>\n",
       "      <td>2174</td>\n",
       "      <td>0</td>\n",
       "      <td>40</td>\n",
       "      <td>United-States</td>\n",
       "      <td>1</td>\n",
       "    </tr>\n",
       "    <tr>\n",
       "      <th>1</th>\n",
       "      <td>50</td>\n",
       "      <td>Self-emp-not-inc</td>\n",
       "      <td>Bachelors</td>\n",
       "      <td>13</td>\n",
       "      <td>Married-civ-spouse</td>\n",
       "      <td>Exec-managerial</td>\n",
       "      <td>Husband</td>\n",
       "      <td>White</td>\n",
       "      <td>1</td>\n",
       "      <td>0</td>\n",
       "      <td>0</td>\n",
       "      <td>13</td>\n",
       "      <td>United-States</td>\n",
       "      <td>1</td>\n",
       "    </tr>\n",
       "    <tr>\n",
       "      <th>2</th>\n",
       "      <td>38</td>\n",
       "      <td>Private</td>\n",
       "      <td>HS-grad</td>\n",
       "      <td>9</td>\n",
       "      <td>Divorced</td>\n",
       "      <td>Handlers-cleaners</td>\n",
       "      <td>Not-in-family</td>\n",
       "      <td>White</td>\n",
       "      <td>1</td>\n",
       "      <td>0</td>\n",
       "      <td>0</td>\n",
       "      <td>40</td>\n",
       "      <td>United-States</td>\n",
       "      <td>1</td>\n",
       "    </tr>\n",
       "    <tr>\n",
       "      <th>3</th>\n",
       "      <td>53</td>\n",
       "      <td>Private</td>\n",
       "      <td>11th</td>\n",
       "      <td>7</td>\n",
       "      <td>Married-civ-spouse</td>\n",
       "      <td>Handlers-cleaners</td>\n",
       "      <td>Husband</td>\n",
       "      <td>Black</td>\n",
       "      <td>1</td>\n",
       "      <td>0</td>\n",
       "      <td>0</td>\n",
       "      <td>40</td>\n",
       "      <td>United-States</td>\n",
       "      <td>1</td>\n",
       "    </tr>\n",
       "    <tr>\n",
       "      <th>4</th>\n",
       "      <td>28</td>\n",
       "      <td>Private</td>\n",
       "      <td>Bachelors</td>\n",
       "      <td>13</td>\n",
       "      <td>Married-civ-spouse</td>\n",
       "      <td>Prof-specialty</td>\n",
       "      <td>Wife</td>\n",
       "      <td>Black</td>\n",
       "      <td>0</td>\n",
       "      <td>0</td>\n",
       "      <td>0</td>\n",
       "      <td>40</td>\n",
       "      <td>Cuba</td>\n",
       "      <td>1</td>\n",
       "    </tr>\n",
       "  </tbody>\n",
       "</table>\n",
       "</div>"
      ],
      "text/plain": [
       "   age          workclass   education  education-num       marital-status  \\\n",
       "0   39          State-gov   Bachelors             13        Never-married   \n",
       "1   50   Self-emp-not-inc   Bachelors             13   Married-civ-spouse   \n",
       "2   38            Private     HS-grad              9             Divorced   \n",
       "3   53            Private        11th              7   Married-civ-spouse   \n",
       "4   28            Private   Bachelors             13   Married-civ-spouse   \n",
       "\n",
       "           occupation    relationship    race  sex  capital-gain  \\\n",
       "0        Adm-clerical   Not-in-family   White    1          2174   \n",
       "1     Exec-managerial         Husband   White    1             0   \n",
       "2   Handlers-cleaners   Not-in-family   White    1             0   \n",
       "3   Handlers-cleaners         Husband   Black    1             0   \n",
       "4      Prof-specialty            Wife   Black    0             0   \n",
       "\n",
       "   capital-loss  hpw  native-country  salary  \n",
       "0             0   40   United-States       1  \n",
       "1             0   13   United-States       1  \n",
       "2             0   40   United-States       1  \n",
       "3             0   40   United-States       1  \n",
       "4             0   40            Cuba       1  "
      ]
     },
     "execution_count": 8,
     "metadata": {},
     "output_type": "execute_result"
    }
   ],
   "source": [
    "num_replace = {'salary': {'<=50K': 0, '>50K': 1}, \n",
    "                'sex': {' Male': 1, ' Female': 0}\n",
    "              }\n",
    "\n",
    "df = df.replace(num_replace)\n",
    "df.head(5)"
   ]
  },
  {
   "cell_type": "code",
   "execution_count": 9,
   "metadata": {
    "scrolled": true
   },
   "outputs": [
    {
     "data": {
      "text/html": [
       "<div>\n",
       "<style scoped>\n",
       "    .dataframe tbody tr th:only-of-type {\n",
       "        vertical-align: middle;\n",
       "    }\n",
       "\n",
       "    .dataframe tbody tr th {\n",
       "        vertical-align: top;\n",
       "    }\n",
       "\n",
       "    .dataframe thead th {\n",
       "        text-align: right;\n",
       "    }\n",
       "</style>\n",
       "<table border=\"1\" class=\"dataframe\">\n",
       "  <thead>\n",
       "    <tr style=\"text-align: right;\">\n",
       "      <th></th>\n",
       "      <th>age</th>\n",
       "      <th>workclass</th>\n",
       "      <th>education</th>\n",
       "      <th>education-num</th>\n",
       "      <th>marital-status</th>\n",
       "      <th>occupation</th>\n",
       "      <th>relationship</th>\n",
       "      <th>race</th>\n",
       "      <th>sex</th>\n",
       "      <th>capital-gain</th>\n",
       "      <th>capital-loss</th>\n",
       "      <th>hpw</th>\n",
       "      <th>native-country</th>\n",
       "      <th>salary</th>\n",
       "    </tr>\n",
       "  </thead>\n",
       "  <tbody>\n",
       "    <tr>\n",
       "      <th>0</th>\n",
       "      <td>39</td>\n",
       "      <td>7</td>\n",
       "      <td>9</td>\n",
       "      <td>13</td>\n",
       "      <td>4</td>\n",
       "      <td>1</td>\n",
       "      <td>1</td>\n",
       "      <td>4</td>\n",
       "      <td>1</td>\n",
       "      <td>2174</td>\n",
       "      <td>0</td>\n",
       "      <td>40</td>\n",
       "      <td>39</td>\n",
       "      <td>1</td>\n",
       "    </tr>\n",
       "    <tr>\n",
       "      <th>1</th>\n",
       "      <td>50</td>\n",
       "      <td>6</td>\n",
       "      <td>9</td>\n",
       "      <td>13</td>\n",
       "      <td>2</td>\n",
       "      <td>4</td>\n",
       "      <td>0</td>\n",
       "      <td>4</td>\n",
       "      <td>1</td>\n",
       "      <td>0</td>\n",
       "      <td>0</td>\n",
       "      <td>13</td>\n",
       "      <td>39</td>\n",
       "      <td>1</td>\n",
       "    </tr>\n",
       "    <tr>\n",
       "      <th>2</th>\n",
       "      <td>38</td>\n",
       "      <td>4</td>\n",
       "      <td>11</td>\n",
       "      <td>9</td>\n",
       "      <td>0</td>\n",
       "      <td>6</td>\n",
       "      <td>1</td>\n",
       "      <td>4</td>\n",
       "      <td>1</td>\n",
       "      <td>0</td>\n",
       "      <td>0</td>\n",
       "      <td>40</td>\n",
       "      <td>39</td>\n",
       "      <td>1</td>\n",
       "    </tr>\n",
       "    <tr>\n",
       "      <th>3</th>\n",
       "      <td>53</td>\n",
       "      <td>4</td>\n",
       "      <td>1</td>\n",
       "      <td>7</td>\n",
       "      <td>2</td>\n",
       "      <td>6</td>\n",
       "      <td>0</td>\n",
       "      <td>2</td>\n",
       "      <td>1</td>\n",
       "      <td>0</td>\n",
       "      <td>0</td>\n",
       "      <td>40</td>\n",
       "      <td>39</td>\n",
       "      <td>1</td>\n",
       "    </tr>\n",
       "    <tr>\n",
       "      <th>4</th>\n",
       "      <td>28</td>\n",
       "      <td>4</td>\n",
       "      <td>9</td>\n",
       "      <td>13</td>\n",
       "      <td>2</td>\n",
       "      <td>10</td>\n",
       "      <td>5</td>\n",
       "      <td>2</td>\n",
       "      <td>0</td>\n",
       "      <td>0</td>\n",
       "      <td>0</td>\n",
       "      <td>40</td>\n",
       "      <td>5</td>\n",
       "      <td>1</td>\n",
       "    </tr>\n",
       "    <tr>\n",
       "      <th>5</th>\n",
       "      <td>37</td>\n",
       "      <td>4</td>\n",
       "      <td>12</td>\n",
       "      <td>14</td>\n",
       "      <td>2</td>\n",
       "      <td>4</td>\n",
       "      <td>5</td>\n",
       "      <td>4</td>\n",
       "      <td>0</td>\n",
       "      <td>0</td>\n",
       "      <td>0</td>\n",
       "      <td>40</td>\n",
       "      <td>39</td>\n",
       "      <td>1</td>\n",
       "    </tr>\n",
       "    <tr>\n",
       "      <th>6</th>\n",
       "      <td>49</td>\n",
       "      <td>4</td>\n",
       "      <td>6</td>\n",
       "      <td>5</td>\n",
       "      <td>3</td>\n",
       "      <td>8</td>\n",
       "      <td>1</td>\n",
       "      <td>2</td>\n",
       "      <td>0</td>\n",
       "      <td>0</td>\n",
       "      <td>0</td>\n",
       "      <td>16</td>\n",
       "      <td>23</td>\n",
       "      <td>1</td>\n",
       "    </tr>\n",
       "    <tr>\n",
       "      <th>7</th>\n",
       "      <td>52</td>\n",
       "      <td>6</td>\n",
       "      <td>11</td>\n",
       "      <td>9</td>\n",
       "      <td>2</td>\n",
       "      <td>4</td>\n",
       "      <td>0</td>\n",
       "      <td>4</td>\n",
       "      <td>1</td>\n",
       "      <td>0</td>\n",
       "      <td>0</td>\n",
       "      <td>45</td>\n",
       "      <td>39</td>\n",
       "      <td>0</td>\n",
       "    </tr>\n",
       "    <tr>\n",
       "      <th>8</th>\n",
       "      <td>31</td>\n",
       "      <td>4</td>\n",
       "      <td>12</td>\n",
       "      <td>14</td>\n",
       "      <td>4</td>\n",
       "      <td>10</td>\n",
       "      <td>1</td>\n",
       "      <td>4</td>\n",
       "      <td>0</td>\n",
       "      <td>14084</td>\n",
       "      <td>0</td>\n",
       "      <td>50</td>\n",
       "      <td>39</td>\n",
       "      <td>0</td>\n",
       "    </tr>\n",
       "    <tr>\n",
       "      <th>9</th>\n",
       "      <td>42</td>\n",
       "      <td>4</td>\n",
       "      <td>9</td>\n",
       "      <td>13</td>\n",
       "      <td>2</td>\n",
       "      <td>4</td>\n",
       "      <td>0</td>\n",
       "      <td>4</td>\n",
       "      <td>1</td>\n",
       "      <td>5178</td>\n",
       "      <td>0</td>\n",
       "      <td>40</td>\n",
       "      <td>39</td>\n",
       "      <td>0</td>\n",
       "    </tr>\n",
       "  </tbody>\n",
       "</table>\n",
       "</div>"
      ],
      "text/plain": [
       "   age  workclass  education  education-num  marital-status  occupation  \\\n",
       "0   39          7          9             13               4           1   \n",
       "1   50          6          9             13               2           4   \n",
       "2   38          4         11              9               0           6   \n",
       "3   53          4          1              7               2           6   \n",
       "4   28          4          9             13               2          10   \n",
       "5   37          4         12             14               2           4   \n",
       "6   49          4          6              5               3           8   \n",
       "7   52          6         11              9               2           4   \n",
       "8   31          4         12             14               4          10   \n",
       "9   42          4          9             13               2           4   \n",
       "\n",
       "   relationship  race  sex  capital-gain  capital-loss  hpw  native-country  \\\n",
       "0             1     4    1          2174             0   40              39   \n",
       "1             0     4    1             0             0   13              39   \n",
       "2             1     4    1             0             0   40              39   \n",
       "3             0     2    1             0             0   40              39   \n",
       "4             5     2    0             0             0   40               5   \n",
       "5             5     4    0             0             0   40              39   \n",
       "6             1     2    0             0             0   16              23   \n",
       "7             0     4    1             0             0   45              39   \n",
       "8             1     4    0         14084             0   50              39   \n",
       "9             0     4    1          5178             0   40              39   \n",
       "\n",
       "   salary  \n",
       "0       1  \n",
       "1       1  \n",
       "2       1  \n",
       "3       1  \n",
       "4       1  \n",
       "5       1  \n",
       "6       1  \n",
       "7       0  \n",
       "8       0  \n",
       "9       0  "
      ]
     },
     "execution_count": 9,
     "metadata": {},
     "output_type": "execute_result"
    }
   ],
   "source": [
    "le = preprocessing.LabelEncoder()\n",
    "df['workclass'] = le.fit_transform(df['workclass'])\n",
    "df['education'] = le.fit_transform(df['education'])\n",
    "df['marital-status'] = le.fit_transform(df['marital-status'])\n",
    "df['occupation'] = le.fit_transform(df['occupation'])\n",
    "df['relationship'] = le.fit_transform(df['relationship'])\n",
    "df['native-country'] = le.fit_transform(df['native-country'])\n",
    "df['race'] = le.fit_transform(df['race'])\n",
    "df.head(10)"
   ]
  },
  {
   "cell_type": "markdown",
   "metadata": {
    "id": "5tcGiOmV0afN",
    "papermill": {
     "duration": 0.030645,
     "end_time": "2020-11-27T11:52:31.323355",
     "exception": false,
     "start_time": "2020-11-27T11:52:31.292710",
     "status": "completed"
    },
    "tags": []
   },
   "source": [
    "\n",
    "\n",
    "---\n",
    "\n"
   ]
  },
  {
   "cell_type": "markdown",
   "metadata": {
    "id": "uiW7x_O4WIDX",
    "papermill": {
     "duration": 0.030638,
     "end_time": "2020-11-27T11:52:31.385353",
     "exception": false,
     "start_time": "2020-11-27T11:52:31.354715",
     "status": "completed"
    },
    "tags": []
   },
   "source": [
    "## 6. Удаление дубликатов"
   ]
  },
  {
   "cell_type": "markdown",
   "metadata": {
    "id": "9LpR5NW70hXm",
    "papermill": {
     "duration": 0.030478,
     "end_time": "2020-11-27T11:52:31.446542",
     "exception": false,
     "start_time": "2020-11-27T11:52:31.416064",
     "status": "completed"
    },
    "tags": []
   },
   "source": [
    "Большой набор данных (более 10 000 строк), часто может содержать в себе дубликаты. Например, до удаления в данном наборе было 11914 строк данных, а после удаления дубликатов 10925, таким образом набор данных содержал 989 строк дубликатов."
   ]
  },
  {
   "cell_type": "code",
   "execution_count": 10,
   "metadata": {
    "colab": {
     "base_uri": "https://localhost:8080/"
    },
    "execution": {
     "iopub.execute_input": "2020-11-27T11:52:31.512940Z",
     "iopub.status.busy": "2020-11-27T11:52:31.512151Z",
     "iopub.status.idle": "2020-11-27T11:52:31.516507Z",
     "shell.execute_reply": "2020-11-27T11:52:31.515912Z"
    },
    "id": "1nBN_BCDWSmv",
    "outputId": "cc0d2d1e-6838-4d7d-853e-e9690358b98e",
    "papermill": {
     "duration": 0.039307,
     "end_time": "2020-11-27T11:52:31.516612",
     "exception": false,
     "start_time": "2020-11-27T11:52:31.477305",
     "status": "completed"
    },
    "tags": []
   },
   "outputs": [
    {
     "data": {
      "text/plain": [
       "(32561, 14)"
      ]
     },
     "execution_count": 10,
     "metadata": {},
     "output_type": "execute_result"
    }
   ],
   "source": [
    "df.shape"
   ]
  },
  {
   "cell_type": "code",
   "execution_count": 11,
   "metadata": {
    "colab": {
     "base_uri": "https://localhost:8080/"
    },
    "execution": {
     "iopub.execute_input": "2020-11-27T11:52:31.587137Z",
     "iopub.status.busy": "2020-11-27T11:52:31.586114Z",
     "iopub.status.idle": "2020-11-27T11:52:31.602151Z",
     "shell.execute_reply": "2020-11-27T11:52:31.601648Z"
    },
    "id": "yB8t6o0wH7If",
    "outputId": "d429baf1-ab57-404c-f5e8-f2f2ef310dd4",
    "papermill": {
     "duration": 0.053706,
     "end_time": "2020-11-27T11:52:31.602271",
     "exception": false,
     "start_time": "2020-11-27T11:52:31.548565",
     "status": "completed"
    },
    "tags": []
   },
   "outputs": [
    {
     "name": "stdout",
     "output_type": "stream",
     "text": [
      "number of duplicate rows:  (3465, 14)\n"
     ]
    }
   ],
   "source": [
    "duplicate_rows_df = df[df.duplicated()]\n",
    "print(\"number of duplicate rows: \", duplicate_rows_df.shape)"
   ]
  },
  {
   "cell_type": "code",
   "execution_count": 12,
   "metadata": {
    "colab": {
     "base_uri": "https://localhost:8080/"
    },
    "execution": {
     "iopub.execute_input": "2020-11-27T11:52:31.735456Z",
     "iopub.status.busy": "2020-11-27T11:52:31.734753Z",
     "iopub.status.idle": "2020-11-27T11:52:31.741387Z",
     "shell.execute_reply": "2020-11-27T11:52:31.740842Z"
    },
    "id": "kuobmetTV820",
    "outputId": "31c4c2e5-61d1-4fd8-8aae-02b698f7fde5",
    "papermill": {
     "duration": 0.045289,
     "end_time": "2020-11-27T11:52:31.741503",
     "exception": false,
     "start_time": "2020-11-27T11:52:31.696214",
     "status": "completed"
    },
    "tags": []
   },
   "outputs": [
    {
     "data": {
      "text/plain": [
       "age               32561\n",
       "workclass         32561\n",
       "education         32561\n",
       "education-num     32561\n",
       "marital-status    32561\n",
       "occupation        32561\n",
       "relationship      32561\n",
       "race              32561\n",
       "sex               32561\n",
       "capital-gain      32561\n",
       "capital-loss      32561\n",
       "hpw               32561\n",
       "native-country    32561\n",
       "salary            32561\n",
       "dtype: int64"
      ]
     },
     "execution_count": 12,
     "metadata": {},
     "output_type": "execute_result"
    }
   ],
   "source": [
    "df.count()      # Used to count the number of rows"
   ]
  },
  {
   "cell_type": "markdown",
   "metadata": {
    "id": "_MJKjbzHI40K",
    "papermill": {
     "duration": 0.032123,
     "end_time": "2020-11-27T11:52:31.806242",
     "exception": false,
     "start_time": "2020-11-27T11:52:31.774119",
     "status": "completed"
    },
    "tags": []
   },
   "source": [
    "В датафрейме представлено 11914 строк, удалим 989 строк, содержащих дубликаты."
   ]
  },
  {
   "cell_type": "code",
   "execution_count": 13,
   "metadata": {
    "colab": {
     "base_uri": "https://localhost:8080/",
     "height": 204
    },
    "execution": {
     "iopub.execute_input": "2020-11-27T11:52:31.876439Z",
     "iopub.status.busy": "2020-11-27T11:52:31.875501Z",
     "iopub.status.idle": "2020-11-27T11:52:31.896377Z",
     "shell.execute_reply": "2020-11-27T11:52:31.895850Z"
    },
    "id": "OiOsEF6WVTSj",
    "outputId": "0328490c-c378-4959-b1d2-0f75cc6b5f42",
    "papermill": {
     "duration": 0.058104,
     "end_time": "2020-11-27T11:52:31.896493",
     "exception": false,
     "start_time": "2020-11-27T11:52:31.838389",
     "status": "completed"
    },
    "tags": []
   },
   "outputs": [
    {
     "data": {
      "text/html": [
       "<div>\n",
       "<style scoped>\n",
       "    .dataframe tbody tr th:only-of-type {\n",
       "        vertical-align: middle;\n",
       "    }\n",
       "\n",
       "    .dataframe tbody tr th {\n",
       "        vertical-align: top;\n",
       "    }\n",
       "\n",
       "    .dataframe thead th {\n",
       "        text-align: right;\n",
       "    }\n",
       "</style>\n",
       "<table border=\"1\" class=\"dataframe\">\n",
       "  <thead>\n",
       "    <tr style=\"text-align: right;\">\n",
       "      <th></th>\n",
       "      <th>age</th>\n",
       "      <th>workclass</th>\n",
       "      <th>education</th>\n",
       "      <th>education-num</th>\n",
       "      <th>marital-status</th>\n",
       "      <th>occupation</th>\n",
       "      <th>relationship</th>\n",
       "      <th>race</th>\n",
       "      <th>sex</th>\n",
       "      <th>capital-gain</th>\n",
       "      <th>capital-loss</th>\n",
       "      <th>hpw</th>\n",
       "      <th>native-country</th>\n",
       "      <th>salary</th>\n",
       "    </tr>\n",
       "  </thead>\n",
       "  <tbody>\n",
       "    <tr>\n",
       "      <th>0</th>\n",
       "      <td>39</td>\n",
       "      <td>7</td>\n",
       "      <td>9</td>\n",
       "      <td>13</td>\n",
       "      <td>4</td>\n",
       "      <td>1</td>\n",
       "      <td>1</td>\n",
       "      <td>4</td>\n",
       "      <td>1</td>\n",
       "      <td>2174</td>\n",
       "      <td>0</td>\n",
       "      <td>40</td>\n",
       "      <td>39</td>\n",
       "      <td>1</td>\n",
       "    </tr>\n",
       "    <tr>\n",
       "      <th>1</th>\n",
       "      <td>50</td>\n",
       "      <td>6</td>\n",
       "      <td>9</td>\n",
       "      <td>13</td>\n",
       "      <td>2</td>\n",
       "      <td>4</td>\n",
       "      <td>0</td>\n",
       "      <td>4</td>\n",
       "      <td>1</td>\n",
       "      <td>0</td>\n",
       "      <td>0</td>\n",
       "      <td>13</td>\n",
       "      <td>39</td>\n",
       "      <td>1</td>\n",
       "    </tr>\n",
       "    <tr>\n",
       "      <th>2</th>\n",
       "      <td>38</td>\n",
       "      <td>4</td>\n",
       "      <td>11</td>\n",
       "      <td>9</td>\n",
       "      <td>0</td>\n",
       "      <td>6</td>\n",
       "      <td>1</td>\n",
       "      <td>4</td>\n",
       "      <td>1</td>\n",
       "      <td>0</td>\n",
       "      <td>0</td>\n",
       "      <td>40</td>\n",
       "      <td>39</td>\n",
       "      <td>1</td>\n",
       "    </tr>\n",
       "    <tr>\n",
       "      <th>3</th>\n",
       "      <td>53</td>\n",
       "      <td>4</td>\n",
       "      <td>1</td>\n",
       "      <td>7</td>\n",
       "      <td>2</td>\n",
       "      <td>6</td>\n",
       "      <td>0</td>\n",
       "      <td>2</td>\n",
       "      <td>1</td>\n",
       "      <td>0</td>\n",
       "      <td>0</td>\n",
       "      <td>40</td>\n",
       "      <td>39</td>\n",
       "      <td>1</td>\n",
       "    </tr>\n",
       "    <tr>\n",
       "      <th>4</th>\n",
       "      <td>28</td>\n",
       "      <td>4</td>\n",
       "      <td>9</td>\n",
       "      <td>13</td>\n",
       "      <td>2</td>\n",
       "      <td>10</td>\n",
       "      <td>5</td>\n",
       "      <td>2</td>\n",
       "      <td>0</td>\n",
       "      <td>0</td>\n",
       "      <td>0</td>\n",
       "      <td>40</td>\n",
       "      <td>5</td>\n",
       "      <td>1</td>\n",
       "    </tr>\n",
       "  </tbody>\n",
       "</table>\n",
       "</div>"
      ],
      "text/plain": [
       "   age  workclass  education  education-num  marital-status  occupation  \\\n",
       "0   39          7          9             13               4           1   \n",
       "1   50          6          9             13               2           4   \n",
       "2   38          4         11              9               0           6   \n",
       "3   53          4          1              7               2           6   \n",
       "4   28          4          9             13               2          10   \n",
       "\n",
       "   relationship  race  sex  capital-gain  capital-loss  hpw  native-country  \\\n",
       "0             1     4    1          2174             0   40              39   \n",
       "1             0     4    1             0             0   13              39   \n",
       "2             1     4    1             0             0   40              39   \n",
       "3             0     2    1             0             0   40              39   \n",
       "4             5     2    0             0             0   40               5   \n",
       "\n",
       "   salary  \n",
       "0       1  \n",
       "1       1  \n",
       "2       1  \n",
       "3       1  \n",
       "4       1  "
      ]
     },
     "execution_count": 13,
     "metadata": {},
     "output_type": "execute_result"
    }
   ],
   "source": [
    "df = df.drop_duplicates()\n",
    "df.head(5)"
   ]
  },
  {
   "cell_type": "code",
   "execution_count": 14,
   "metadata": {
    "colab": {
     "base_uri": "https://localhost:8080/"
    },
    "execution": {
     "iopub.execute_input": "2020-11-27T11:52:31.968742Z",
     "iopub.status.busy": "2020-11-27T11:52:31.968146Z",
     "iopub.status.idle": "2020-11-27T11:52:31.974209Z",
     "shell.execute_reply": "2020-11-27T11:52:31.973613Z"
    },
    "id": "2gMM4lb0Vzor",
    "outputId": "9952cb02-db73-4424-928c-dd70cb0bfb29",
    "papermill": {
     "duration": 0.045247,
     "end_time": "2020-11-27T11:52:31.974315",
     "exception": false,
     "start_time": "2020-11-27T11:52:31.929068",
     "status": "completed"
    },
    "tags": []
   },
   "outputs": [
    {
     "data": {
      "text/plain": [
       "age               29096\n",
       "workclass         29096\n",
       "education         29096\n",
       "education-num     29096\n",
       "marital-status    29096\n",
       "occupation        29096\n",
       "relationship      29096\n",
       "race              29096\n",
       "sex               29096\n",
       "capital-gain      29096\n",
       "capital-loss      29096\n",
       "hpw               29096\n",
       "native-country    29096\n",
       "salary            29096\n",
       "dtype: int64"
      ]
     },
     "execution_count": 14,
     "metadata": {},
     "output_type": "execute_result"
    }
   ],
   "source": [
    "df.count()"
   ]
  },
  {
   "cell_type": "markdown",
   "metadata": {
    "id": "zCLUdZOQ1PDP",
    "papermill": {
     "duration": 0.032655,
     "end_time": "2020-11-27T11:52:32.040143",
     "exception": false,
     "start_time": "2020-11-27T11:52:32.007488",
     "status": "completed"
    },
    "tags": []
   },
   "source": [
    "\n",
    "\n",
    "---\n",
    "\n"
   ]
  },
  {
   "cell_type": "markdown",
   "metadata": {
    "id": "JkXUQtyQW3Dy",
    "papermill": {
     "duration": 0.033049,
     "end_time": "2020-11-27T11:52:32.106118",
     "exception": false,
     "start_time": "2020-11-27T11:52:32.073069",
     "status": "completed"
    },
    "tags": []
   },
   "source": [
    "## 7. Удаление пропусков"
   ]
  },
  {
   "cell_type": "markdown",
   "metadata": {
    "id": "K5pKvJi41YCp",
    "papermill": {
     "duration": 0.033171,
     "end_time": "2020-11-27T11:52:32.173467",
     "exception": false,
     "start_time": "2020-11-27T11:52:32.140296",
     "status": "completed"
    },
    "tags": []
   },
   "source": [
    "Этот шаг в основном похож на предыдущий, но здесь все отсутствующие значения определяются и отбрасываются. Также применяются тактики замены отсутствующих значений средним значением или средним значением этого столбца. В данном случае пропущено 99 значений - достаточная низкая доля всего набора данных из 10000 значений, поэтому удаление строк с пропущенными значениями не критично. "
   ]
  },
  {
   "cell_type": "code",
   "execution_count": 15,
   "metadata": {
    "colab": {
     "base_uri": "https://localhost:8080/"
    },
    "execution": {
     "iopub.execute_input": "2020-11-27T11:52:32.247260Z",
     "iopub.status.busy": "2020-11-27T11:52:32.246296Z",
     "iopub.status.idle": "2020-11-27T11:52:32.251941Z",
     "shell.execute_reply": "2020-11-27T11:52:32.251446Z"
    },
    "id": "Tzdlg-1OWjMz",
    "outputId": "ffb119ea-e0c1-4bd4-cfa9-10419e6acf1f",
    "papermill": {
     "duration": 0.045703,
     "end_time": "2020-11-27T11:52:32.252054",
     "exception": false,
     "start_time": "2020-11-27T11:52:32.206351",
     "status": "completed"
    },
    "tags": []
   },
   "outputs": [
    {
     "name": "stdout",
     "output_type": "stream",
     "text": [
      "age               0\n",
      "workclass         0\n",
      "education         0\n",
      "education-num     0\n",
      "marital-status    0\n",
      "occupation        0\n",
      "relationship      0\n",
      "race              0\n",
      "sex               0\n",
      "capital-gain      0\n",
      "capital-loss      0\n",
      "hpw               0\n",
      "native-country    0\n",
      "salary            0\n",
      "dtype: int64\n"
     ]
    }
   ],
   "source": [
    "print(df.isnull().sum())"
   ]
  },
  {
   "cell_type": "code",
   "execution_count": 16,
   "metadata": {
    "colab": {
     "base_uri": "https://localhost:8080/"
    },
    "execution": {
     "iopub.execute_input": "2020-11-27T11:52:32.393563Z",
     "iopub.status.busy": "2020-11-27T11:52:32.392780Z",
     "iopub.status.idle": "2020-11-27T11:52:32.424245Z",
     "shell.execute_reply": "2020-11-27T11:52:32.423583Z"
    },
    "id": "KbbV0xHPWoad",
    "outputId": "e4c46092-4e82-4bb2-bcc2-a653f49a01eb",
    "papermill": {
     "duration": 0.071586,
     "end_time": "2020-11-27T11:52:32.424366",
     "exception": false,
     "start_time": "2020-11-27T11:52:32.352780",
     "status": "completed"
    },
    "tags": []
   },
   "outputs": [
    {
     "data": {
      "text/plain": [
       "age               29096\n",
       "workclass         29096\n",
       "education         29096\n",
       "education-num     29096\n",
       "marital-status    29096\n",
       "occupation        29096\n",
       "relationship      29096\n",
       "race              29096\n",
       "sex               29096\n",
       "capital-gain      29096\n",
       "capital-loss      29096\n",
       "hpw               29096\n",
       "native-country    29096\n",
       "salary            29096\n",
       "dtype: int64"
      ]
     },
     "execution_count": 16,
     "metadata": {},
     "output_type": "execute_result"
    }
   ],
   "source": [
    "df = df.dropna()    # Dropping the missing values.\n",
    "df.count()"
   ]
  },
  {
   "cell_type": "markdown",
   "metadata": {
    "id": "2t7L9l2mJSoX",
    "papermill": {
     "duration": 0.033726,
     "end_time": "2020-11-27T11:52:32.496715",
     "exception": false,
     "start_time": "2020-11-27T11:52:32.462989",
     "status": "completed"
    },
    "tags": []
   },
   "source": [
    "Удалили все строки с пропущенными значениями (Cylinders и Horsepower (HP))."
   ]
  },
  {
   "cell_type": "code",
   "execution_count": 17,
   "metadata": {
    "colab": {
     "base_uri": "https://localhost:8080/"
    },
    "execution": {
     "iopub.execute_input": "2020-11-27T11:52:32.571710Z",
     "iopub.status.busy": "2020-11-27T11:52:32.571093Z",
     "iopub.status.idle": "2020-11-27T11:52:32.575569Z",
     "shell.execute_reply": "2020-11-27T11:52:32.576056Z"
    },
    "id": "V-DmX1O4Wtox",
    "outputId": "7e983b85-f680-487e-daed-b61726ff3427",
    "papermill": {
     "duration": 0.045646,
     "end_time": "2020-11-27T11:52:32.576197",
     "exception": false,
     "start_time": "2020-11-27T11:52:32.530551",
     "status": "completed"
    },
    "tags": []
   },
   "outputs": [
    {
     "name": "stdout",
     "output_type": "stream",
     "text": [
      "age               0\n",
      "workclass         0\n",
      "education         0\n",
      "education-num     0\n",
      "marital-status    0\n",
      "occupation        0\n",
      "relationship      0\n",
      "race              0\n",
      "sex               0\n",
      "capital-gain      0\n",
      "capital-loss      0\n",
      "hpw               0\n",
      "native-country    0\n",
      "salary            0\n",
      "dtype: int64\n"
     ]
    }
   ],
   "source": [
    "print(df.isnull().sum())   # After dropping the values"
   ]
  },
  {
   "cell_type": "markdown",
   "metadata": {
    "id": "bk8RAHqQJVJK",
    "papermill": {
     "duration": 0.033656,
     "end_time": "2020-11-27T11:52:32.644093",
     "exception": false,
     "start_time": "2020-11-27T11:52:32.610437",
     "status": "completed"
    },
    "tags": []
   },
   "source": [
    "\n",
    "\n",
    "---\n",
    "\n"
   ]
  },
  {
   "cell_type": "markdown",
   "metadata": {
    "id": "8Py3sQc_ZxyU",
    "papermill": {
     "duration": 0.034018,
     "end_time": "2020-11-27T11:52:32.712147",
     "exception": false,
     "start_time": "2020-11-27T11:52:32.678129",
     "status": "completed"
    },
    "tags": []
   },
   "source": [
    "## 8. Определение выбросов"
   ]
  },
  {
   "cell_type": "markdown",
   "metadata": {
    "id": "1g6CJPofZzHN",
    "papermill": {
     "duration": 0.033631,
     "end_time": "2020-11-27T11:52:32.779927",
     "exception": false,
     "start_time": "2020-11-27T11:52:32.746296",
     "status": "completed"
    },
    "tags": []
   },
   "source": [
    "Выброс - это точка или набор точек, которые отличаются от других точек. Характеризуются очень высокими или очень низкими. Часто бывает полезно обнаружить и удалить выбросы. Выбросы являются одной из основных причин, приводящих к созданию менее точной модели. Метод обнаружения и удаления выбросов, примененный здесь - IQR. Часто выбросы можно увидеть с помощью визуализации, используя т.н. \"ящик с усами\". Ниже показаны графики MSRP, Cylinders, Horsepower и EngineSize. На всех графиках можно увидеть, что некоторые точки выходят за пределы коробки - это не что иное, как выбросы. "
   ]
  },
  {
   "cell_type": "code",
   "execution_count": 18,
   "metadata": {
    "colab": {
     "base_uri": "https://localhost:8080/",
     "height": 296
    },
    "execution": {
     "iopub.execute_input": "2020-11-27T11:52:32.853465Z",
     "iopub.status.busy": "2020-11-27T11:52:32.852781Z",
     "iopub.status.idle": "2020-11-27T11:52:33.096979Z",
     "shell.execute_reply": "2020-11-27T11:52:33.096361Z"
    },
    "id": "vtxX_y6zZ2ri",
    "outputId": "b992f6d7-e230-417f-c608-14c01f01997a",
    "papermill": {
     "duration": 0.283132,
     "end_time": "2020-11-27T11:52:33.097091",
     "exception": false,
     "start_time": "2020-11-27T11:52:32.813959",
     "status": "completed"
    },
    "tags": []
   },
   "outputs": [
    {
     "data": {
      "text/plain": [
       "<AxesSubplot:xlabel='age'>"
      ]
     },
     "execution_count": 18,
     "metadata": {},
     "output_type": "execute_result"
    },
    {
     "data": {
      "image/png": "[encoded data removed]",
      "text/plain": [
       "<Figure size 640x480 with 1 Axes>"
      ]
     },
     "metadata": {},
     "output_type": "display_data"
    }
   ],
   "source": [
    "sns.boxplot(x=df['age'])"
   ]
  },
  {
   "cell_type": "code",
   "execution_count": 19,
   "metadata": {
    "colab": {
     "base_uri": "https://localhost:8080/",
     "height": 296
    },
    "execution": {
     "iopub.execute_input": "2020-11-27T11:52:33.179459Z",
     "iopub.status.busy": "2020-11-27T11:52:33.178064Z",
     "iopub.status.idle": "2020-11-27T11:52:33.370107Z",
     "shell.execute_reply": "2020-11-27T11:52:33.369534Z"
    },
    "id": "9HtvQYVHZ8u5",
    "outputId": "b3200ca3-82e4-4cc9-f802-d95c50e2c509",
    "papermill": {
     "duration": 0.237157,
     "end_time": "2020-11-27T11:52:33.370221",
     "exception": false,
     "start_time": "2020-11-27T11:52:33.133064",
     "status": "completed"
    },
    "tags": []
   },
   "outputs": [
    {
     "data": {
      "text/plain": [
       "<AxesSubplot:xlabel='hpw'>"
      ]
     },
     "execution_count": 19,
     "metadata": {},
     "output_type": "execute_result"
    },
    {
     "data": {
      "image/png": "[encoded data removed]",
      "text/plain": [
       "<Figure size 640x480 with 1 Axes>"
      ]
     },
     "metadata": {},
     "output_type": "display_data"
    }
   ],
   "source": [
    "sns.boxplot(x=df['hpw'])"
   ]
  },
  {
   "cell_type": "code",
   "execution_count": 20,
   "metadata": {},
   "outputs": [
    {
     "data": {
      "text/plain": [
       "age               int64\n",
       "workclass         int32\n",
       "education         int32\n",
       "education-num     int64\n",
       "marital-status    int32\n",
       "occupation        int32\n",
       "relationship      int32\n",
       "race              int32\n",
       "sex               int64\n",
       "capital-gain      int64\n",
       "capital-loss      int64\n",
       "hpw               int64\n",
       "native-country    int32\n",
       "salary            int64\n",
       "dtype: object"
      ]
     },
     "execution_count": 20,
     "metadata": {},
     "output_type": "execute_result"
    }
   ],
   "source": [
    "df.dtypes"
   ]
  },
  {
   "cell_type": "code",
   "execution_count": 21,
   "metadata": {
    "colab": {
     "base_uri": "https://localhost:8080/"
    },
    "execution": {
     "iopub.execute_input": "2020-11-27T11:52:33.751510Z",
     "iopub.status.busy": "2020-11-27T11:52:33.750825Z",
     "iopub.status.idle": "2020-11-27T11:52:33.759278Z",
     "shell.execute_reply": "2020-11-27T11:52:33.758677Z"
    },
    "id": "cFG9hck7aHUx",
    "outputId": "d3e47539-e2ef-497e-baf6-c9197436017a",
    "papermill": {
     "duration": 0.051549,
     "end_time": "2020-11-27T11:52:33.759385",
     "exception": false,
     "start_time": "2020-11-27T11:52:33.707836",
     "status": "completed"
    },
    "tags": []
   },
   "outputs": [],
   "source": [
    "# for x in df:\n",
    "#     q75,q25 = np.percentile(df.loc[:,x],[75,25])\n",
    "#     intr_qr = q75-q25\n",
    "\n",
    "#     max = q75+(1.5*intr_qr)\n",
    "#     min = q25-(1.5*intr_qr)\n",
    "\n",
    "#     df.loc[df[x] < min,x] = np.nan\n",
    "#     df.loc[df[x] > max,x] = np.nan"
   ]
  },
  {
   "cell_type": "code",
   "execution_count": 22,
   "metadata": {},
   "outputs": [
    {
     "data": {
      "text/plain": [
       "age               0\n",
       "workclass         0\n",
       "education         0\n",
       "education-num     0\n",
       "marital-status    0\n",
       "occupation        0\n",
       "relationship      0\n",
       "race              0\n",
       "sex               0\n",
       "capital-gain      0\n",
       "capital-loss      0\n",
       "hpw               0\n",
       "native-country    0\n",
       "salary            0\n",
       "dtype: int64"
      ]
     },
     "execution_count": 22,
     "metadata": {},
     "output_type": "execute_result"
    }
   ],
   "source": [
    "df.isnull().sum()"
   ]
  },
  {
   "cell_type": "code",
   "execution_count": 23,
   "metadata": {},
   "outputs": [
    {
     "data": {
      "text/plain": [
       "age               0\n",
       "workclass         0\n",
       "education         0\n",
       "education-num     0\n",
       "marital-status    0\n",
       "occupation        0\n",
       "relationship      0\n",
       "race              0\n",
       "sex               0\n",
       "capital-gain      0\n",
       "capital-loss      0\n",
       "hpw               0\n",
       "native-country    0\n",
       "salary            0\n",
       "dtype: int64"
      ]
     },
     "execution_count": 23,
     "metadata": {},
     "output_type": "execute_result"
    }
   ],
   "source": [
    "df = df.dropna()\n",
    "df.isnull().sum()"
   ]
  },
  {
   "cell_type": "markdown",
   "metadata": {
    "id": "9Nh93DCGJkqT",
    "papermill": {
     "duration": 0.037923,
     "end_time": "2020-11-27T11:52:34.017297",
     "exception": false,
     "start_time": "2020-11-27T11:52:33.979374",
     "status": "completed"
    },
    "tags": []
   },
   "source": [
    "Как видно из вышеприведенного, около 1600 строк были пропущены. Но не получится полностью удалить выбросы, потому что даже после использования вышеописанной техники, возможно, 1-2 выброса останутся не удаленными, тем не менее, выбросов было более 100. "
   ]
  },
  {
   "cell_type": "markdown",
   "metadata": {
    "id": "Z87kHbgvaQbb",
    "papermill": {
     "duration": 0.037301,
     "end_time": "2020-11-27T11:52:34.092399",
     "exception": false,
     "start_time": "2020-11-27T11:52:34.055098",
     "status": "completed"
    },
    "tags": []
   },
   "source": [
    "\n",
    "\n",
    "---\n",
    "\n"
   ]
  },
  {
   "cell_type": "markdown",
   "metadata": {
    "id": "WqFPRda8eEp_",
    "papermill": {
     "duration": 0.038833,
     "end_time": "2020-11-27T11:52:34.169033",
     "exception": false,
     "start_time": "2020-11-27T11:52:34.130200",
     "status": "completed"
    },
    "tags": []
   },
   "source": [
    "## 9. Построение графиков различных характеристик относительно друг друга (разброс), относительно частоты (гистограмма)"
   ]
  },
  {
   "cell_type": "markdown",
   "metadata": {
    "id": "Z-W6Q9-hJosZ",
    "papermill": {
     "duration": 0.037659,
     "end_time": "2020-11-27T11:52:34.244690",
     "exception": false,
     "start_time": "2020-11-27T11:52:34.207031",
     "status": "completed"
    },
    "tags": []
   },
   "source": [
    "### Гистограммы\n",
    "\n",
    "Гистограмма показывает встречаемость переменных в интервале."
   ]
  },
  {
   "cell_type": "code",
   "execution_count": 24,
   "metadata": {
    "colab": {
     "base_uri": "https://localhost:8080/",
     "height": 415
    },
    "execution": {
     "iopub.execute_input": "2020-11-27T11:52:34.328999Z",
     "iopub.status.busy": "2020-11-27T11:52:34.328053Z",
     "iopub.status.idle": "2020-11-27T11:52:34.926767Z",
     "shell.execute_reply": "2020-11-27T11:52:34.927629Z"
    },
    "id": "dAnd4DSyeHDb",
    "outputId": "de919e28-2b7c-4145-ab07-9c5dc0d9e2f5",
    "papermill": {
     "duration": 0.645152,
     "end_time": "2020-11-27T11:52:34.927853",
     "exception": false,
     "start_time": "2020-11-27T11:52:34.282701",
     "status": "completed"
    },
    "tags": []
   },
   "outputs": [
    {
     "data": {
      "image/png": "[encoded data removed]",
      "text/plain": [
       "<Figure size 1000x500 with 1 Axes>"
      ]
     },
     "metadata": {},
     "output_type": "display_data"
    }
   ],
   "source": [
    "df.hpw.value_counts().nlargest(40).plot(kind='bar', figsize=(10,5))\n",
    "plt.title(\"Number of people by hours-per-week\")\n",
    "plt.ylabel('Number of people')\n",
    "plt.xlabel('Hours per week');"
   ]
  },
  {
   "cell_type": "markdown",
   "metadata": {
    "id": "c37WtYYWJuAQ",
    "papermill": {
     "duration": 0.04046,
     "end_time": "2020-11-27T11:52:35.081261",
     "exception": false,
     "start_time": "2020-11-27T11:52:35.040801",
     "status": "completed"
    },
    "tags": []
   },
   "source": [
    "### Тепловые карты\n",
    "\n",
    "Тепловые карты - это тип графика, который необходим для поиска зависимых переменных. Один из лучших способов найти взаимосвязь между характеристиками: тепловые карты. На приведенной ниже тепловой карте видно. что ценовая характеристика в основном зависит от мощности и года выпуска"
   ]
  },
  {
   "cell_type": "code",
   "execution_count": 25,
   "metadata": {},
   "outputs": [
    {
     "data": {
      "text/plain": [
       "0        26398\n",
       "15024      341\n",
       "7688       280\n",
       "7298       244\n",
       "99999      158\n",
       "         ...  \n",
       "1111         1\n",
       "2538         1\n",
       "22040        1\n",
       "4931         1\n",
       "5060         1\n",
       "Name: capital-gain, Length: 119, dtype: int64"
      ]
     },
     "execution_count": 25,
     "metadata": {},
     "output_type": "execute_result"
    }
   ],
   "source": [
    "df['capital-gain'].value_counts()\n",
    "# df = df\n",
    "# df = (df-df.min ())/(df.max ()-df.min ())\n",
    "# df"
   ]
  },
  {
   "cell_type": "code",
   "execution_count": 26,
   "metadata": {
    "colab": {
     "base_uri": "https://localhost:8080/",
     "height": 542
    },
    "execution": {
     "iopub.execute_input": "2020-11-27T11:52:35.171817Z",
     "iopub.status.busy": "2020-11-27T11:52:35.170966Z",
     "iopub.status.idle": "2020-11-27T11:52:35.541204Z",
     "shell.execute_reply": "2020-11-27T11:52:35.540448Z"
    },
    "id": "yhHfLVTj6nmy",
    "outputId": "4211320b-90bf-43eb-8530-47590f29b585",
    "papermill": {
     "duration": 0.419422,
     "end_time": "2020-11-27T11:52:35.541316",
     "exception": false,
     "start_time": "2020-11-27T11:52:35.121894",
     "status": "completed"
    },
    "scrolled": true,
    "tags": []
   },
   "outputs": [
    {
     "data": {
      "text/html": [
       "<div>\n",
       "<style scoped>\n",
       "    .dataframe tbody tr th:only-of-type {\n",
       "        vertical-align: middle;\n",
       "    }\n",
       "\n",
       "    .dataframe tbody tr th {\n",
       "        vertical-align: top;\n",
       "    }\n",
       "\n",
       "    .dataframe thead th {\n",
       "        text-align: right;\n",
       "    }\n",
       "</style>\n",
       "<table border=\"1\" class=\"dataframe\">\n",
       "  <thead>\n",
       "    <tr style=\"text-align: right;\">\n",
       "      <th></th>\n",
       "      <th>age</th>\n",
       "      <th>workclass</th>\n",
       "      <th>education</th>\n",
       "      <th>education-num</th>\n",
       "      <th>marital-status</th>\n",
       "      <th>occupation</th>\n",
       "      <th>relationship</th>\n",
       "      <th>race</th>\n",
       "      <th>sex</th>\n",
       "      <th>capital-gain</th>\n",
       "      <th>capital-loss</th>\n",
       "      <th>hpw</th>\n",
       "      <th>native-country</th>\n",
       "      <th>salary</th>\n",
       "    </tr>\n",
       "  </thead>\n",
       "  <tbody>\n",
       "    <tr>\n",
       "      <th>age</th>\n",
       "      <td>1.000000</td>\n",
       "      <td>-0.009434</td>\n",
       "      <td>-0.004185</td>\n",
       "      <td>0.030144</td>\n",
       "      <td>-0.233216</td>\n",
       "      <td>-0.028163</td>\n",
       "      <td>-0.246811</td>\n",
       "      <td>0.047874</td>\n",
       "      <td>0.078009</td>\n",
       "      <td>0.074310</td>\n",
       "      <td>0.049570</td>\n",
       "      <td>0.039831</td>\n",
       "      <td>0.013004</td>\n",
       "      <td>-0.215270</td>\n",
       "    </tr>\n",
       "    <tr>\n",
       "      <th>workclass</th>\n",
       "      <td>-0.009434</td>\n",
       "      <td>1.000000</td>\n",
       "      <td>0.030679</td>\n",
       "      <td>0.051239</td>\n",
       "      <td>-0.056443</td>\n",
       "      <td>0.251654</td>\n",
       "      <td>-0.082117</td>\n",
       "      <td>0.054231</td>\n",
       "      <td>0.097088</td>\n",
       "      <td>0.033877</td>\n",
       "      <td>0.010704</td>\n",
       "      <td>0.138855</td>\n",
       "      <td>-0.005936</td>\n",
       "      <td>-0.047887</td>\n",
       "    </tr>\n",
       "    <tr>\n",
       "      <th>education</th>\n",
       "      <td>-0.004185</td>\n",
       "      <td>0.030679</td>\n",
       "      <td>1.000000</td>\n",
       "      <td>0.372553</td>\n",
       "      <td>-0.041011</td>\n",
       "      <td>-0.006203</td>\n",
       "      <td>-0.010924</td>\n",
       "      <td>0.007517</td>\n",
       "      <td>-0.028183</td>\n",
       "      <td>0.034410</td>\n",
       "      <td>0.022976</td>\n",
       "      <td>0.054714</td>\n",
       "      <td>0.059918</td>\n",
       "      <td>-0.091760</td>\n",
       "    </tr>\n",
       "    <tr>\n",
       "      <th>education-num</th>\n",
       "      <td>0.030144</td>\n",
       "      <td>0.051239</td>\n",
       "      <td>0.372553</td>\n",
       "      <td>1.000000</td>\n",
       "      <td>-0.071711</td>\n",
       "      <td>0.107045</td>\n",
       "      <td>-0.093623</td>\n",
       "      <td>0.034306</td>\n",
       "      <td>0.017203</td>\n",
       "      <td>0.124182</td>\n",
       "      <td>0.080259</td>\n",
       "      <td>0.141446</td>\n",
       "      <td>0.053808</td>\n",
       "      <td>-0.332210</td>\n",
       "    </tr>\n",
       "    <tr>\n",
       "      <th>marital-status</th>\n",
       "      <td>-0.233216</td>\n",
       "      <td>-0.056443</td>\n",
       "      <td>-0.041011</td>\n",
       "      <td>-0.071711</td>\n",
       "      <td>1.000000</td>\n",
       "      <td>-0.012767</td>\n",
       "      <td>0.161104</td>\n",
       "      <td>-0.073928</td>\n",
       "      <td>-0.118995</td>\n",
       "      <td>-0.042828</td>\n",
       "      <td>-0.032249</td>\n",
       "      <td>-0.177563</td>\n",
       "      <td>-0.028068</td>\n",
       "      <td>0.189776</td>\n",
       "    </tr>\n",
       "    <tr>\n",
       "      <th>occupation</th>\n",
       "      <td>-0.028163</td>\n",
       "      <td>0.251654</td>\n",
       "      <td>-0.006203</td>\n",
       "      <td>0.107045</td>\n",
       "      <td>-0.012767</td>\n",
       "      <td>1.000000</td>\n",
       "      <td>-0.079208</td>\n",
       "      <td>0.014625</td>\n",
       "      <td>0.084046</td>\n",
       "      <td>0.023513</td>\n",
       "      <td>0.014772</td>\n",
       "      <td>0.086960</td>\n",
       "      <td>-0.006602</td>\n",
       "      <td>-0.073405</td>\n",
       "    </tr>\n",
       "    <tr>\n",
       "      <th>relationship</th>\n",
       "      <td>-0.246811</td>\n",
       "      <td>-0.082117</td>\n",
       "      <td>-0.010924</td>\n",
       "      <td>-0.093623</td>\n",
       "      <td>0.161104</td>\n",
       "      <td>-0.079208</td>\n",
       "      <td>1.000000</td>\n",
       "      <td>-0.114121</td>\n",
       "      <td>-0.585425</td>\n",
       "      <td>-0.062338</td>\n",
       "      <td>-0.066692</td>\n",
       "      <td>-0.238538</td>\n",
       "      <td>-0.001345</td>\n",
       "      <td>0.245918</td>\n",
       "    </tr>\n",
       "    <tr>\n",
       "      <th>race</th>\n",
       "      <td>0.047874</td>\n",
       "      <td>0.054231</td>\n",
       "      <td>0.007517</td>\n",
       "      <td>0.034306</td>\n",
       "      <td>-0.073928</td>\n",
       "      <td>0.014625</td>\n",
       "      <td>-0.114121</td>\n",
       "      <td>1.000000</td>\n",
       "      <td>0.084092</td>\n",
       "      <td>0.016833</td>\n",
       "      <td>0.027549</td>\n",
       "      <td>0.048791</td>\n",
       "      <td>0.129094</td>\n",
       "      <td>-0.079826</td>\n",
       "    </tr>\n",
       "    <tr>\n",
       "      <th>sex</th>\n",
       "      <td>0.078009</td>\n",
       "      <td>0.097088</td>\n",
       "      <td>-0.028183</td>\n",
       "      <td>0.017203</td>\n",
       "      <td>-0.118995</td>\n",
       "      <td>0.084046</td>\n",
       "      <td>-0.585425</td>\n",
       "      <td>0.084092</td>\n",
       "      <td>1.000000</td>\n",
       "      <td>0.053001</td>\n",
       "      <td>0.051067</td>\n",
       "      <td>0.226271</td>\n",
       "      <td>-0.013417</td>\n",
       "      <td>-0.216816</td>\n",
       "    </tr>\n",
       "    <tr>\n",
       "      <th>capital-gain</th>\n",
       "      <td>0.074310</td>\n",
       "      <td>0.033877</td>\n",
       "      <td>0.034410</td>\n",
       "      <td>0.124182</td>\n",
       "      <td>-0.042828</td>\n",
       "      <td>0.023513</td>\n",
       "      <td>-0.062338</td>\n",
       "      <td>0.016833</td>\n",
       "      <td>0.053001</td>\n",
       "      <td>1.000000</td>\n",
       "      <td>-0.035294</td>\n",
       "      <td>0.077704</td>\n",
       "      <td>0.002588</td>\n",
       "      <td>-0.230696</td>\n",
       "    </tr>\n",
       "    <tr>\n",
       "      <th>capital-loss</th>\n",
       "      <td>0.049570</td>\n",
       "      <td>0.010704</td>\n",
       "      <td>0.022976</td>\n",
       "      <td>0.080259</td>\n",
       "      <td>-0.032249</td>\n",
       "      <td>0.014772</td>\n",
       "      <td>-0.066692</td>\n",
       "      <td>0.027549</td>\n",
       "      <td>0.051067</td>\n",
       "      <td>-0.035294</td>\n",
       "      <td>1.000000</td>\n",
       "      <td>0.051636</td>\n",
       "      <td>0.007349</td>\n",
       "      <td>-0.153277</td>\n",
       "    </tr>\n",
       "    <tr>\n",
       "      <th>hpw</th>\n",
       "      <td>0.039831</td>\n",
       "      <td>0.138855</td>\n",
       "      <td>0.054714</td>\n",
       "      <td>0.141446</td>\n",
       "      <td>-0.177563</td>\n",
       "      <td>0.086960</td>\n",
       "      <td>-0.238538</td>\n",
       "      <td>0.048791</td>\n",
       "      <td>0.226271</td>\n",
       "      <td>0.077704</td>\n",
       "      <td>0.051636</td>\n",
       "      <td>1.000000</td>\n",
       "      <td>0.002031</td>\n",
       "      <td>-0.226323</td>\n",
       "    </tr>\n",
       "    <tr>\n",
       "      <th>native-country</th>\n",
       "      <td>0.013004</td>\n",
       "      <td>-0.005936</td>\n",
       "      <td>0.059918</td>\n",
       "      <td>0.053808</td>\n",
       "      <td>-0.028068</td>\n",
       "      <td>-0.006602</td>\n",
       "      <td>-0.001345</td>\n",
       "      <td>0.129094</td>\n",
       "      <td>-0.013417</td>\n",
       "      <td>0.002588</td>\n",
       "      <td>0.007349</td>\n",
       "      <td>0.002031</td>\n",
       "      <td>1.000000</td>\n",
       "      <td>-0.021352</td>\n",
       "    </tr>\n",
       "    <tr>\n",
       "      <th>salary</th>\n",
       "      <td>-0.215270</td>\n",
       "      <td>-0.047887</td>\n",
       "      <td>-0.091760</td>\n",
       "      <td>-0.332210</td>\n",
       "      <td>0.189776</td>\n",
       "      <td>-0.073405</td>\n",
       "      <td>0.245918</td>\n",
       "      <td>-0.079826</td>\n",
       "      <td>-0.216816</td>\n",
       "      <td>-0.230696</td>\n",
       "      <td>-0.153277</td>\n",
       "      <td>-0.226323</td>\n",
       "      <td>-0.021352</td>\n",
       "      <td>1.000000</td>\n",
       "    </tr>\n",
       "  </tbody>\n",
       "</table>\n",
       "</div>"
      ],
      "text/plain": [
       "                     age  workclass  education  education-num  marital-status  \\\n",
       "age             1.000000  -0.009434  -0.004185       0.030144       -0.233216   \n",
       "workclass      -0.009434   1.000000   0.030679       0.051239       -0.056443   \n",
       "education      -0.004185   0.030679   1.000000       0.372553       -0.041011   \n",
       "education-num   0.030144   0.051239   0.372553       1.000000       -0.071711   \n",
       "marital-status -0.233216  -0.056443  -0.041011      -0.071711        1.000000   \n",
       "occupation     -0.028163   0.251654  -0.006203       0.107045       -0.012767   \n",
       "relationship   -0.246811  -0.082117  -0.010924      -0.093623        0.161104   \n",
       "race            0.047874   0.054231   0.007517       0.034306       -0.073928   \n",
       "sex             0.078009   0.097088  -0.028183       0.017203       -0.118995   \n",
       "capital-gain    0.074310   0.033877   0.034410       0.124182       -0.042828   \n",
       "capital-loss    0.049570   0.010704   0.022976       0.080259       -0.032249   \n",
       "hpw             0.039831   0.138855   0.054714       0.141446       -0.177563   \n",
       "native-country  0.013004  -0.005936   0.059918       0.053808       -0.028068   \n",
       "salary         -0.215270  -0.047887  -0.091760      -0.332210        0.189776   \n",
       "\n",
       "                occupation  relationship      race       sex  capital-gain  \\\n",
       "age              -0.028163     -0.246811  0.047874  0.078009      0.074310   \n",
       "workclass         0.251654     -0.082117  0.054231  0.097088      0.033877   \n",
       "education        -0.006203     -0.010924  0.007517 -0.028183      0.034410   \n",
       "education-num     0.107045     -0.093623  0.034306  0.017203      0.124182   \n",
       "marital-status   -0.012767      0.161104 -0.073928 -0.118995     -0.042828   \n",
       "occupation        1.000000     -0.079208  0.014625  0.084046      0.023513   \n",
       "relationship     -0.079208      1.000000 -0.114121 -0.585425     -0.062338   \n",
       "race              0.014625     -0.114121  1.000000  0.084092      0.016833   \n",
       "sex               0.084046     -0.585425  0.084092  1.000000      0.053001   \n",
       "capital-gain      0.023513     -0.062338  0.016833  0.053001      1.000000   \n",
       "capital-loss      0.014772     -0.066692  0.027549  0.051067     -0.035294   \n",
       "hpw               0.086960     -0.238538  0.048791  0.226271      0.077704   \n",
       "native-country   -0.006602     -0.001345  0.129094 -0.013417      0.002588   \n",
       "salary           -0.073405      0.245918 -0.079826 -0.216816     -0.230696   \n",
       "\n",
       "                capital-loss       hpw  native-country    salary  \n",
       "age                 0.049570  0.039831        0.013004 -0.215270  \n",
       "workclass           0.010704  0.138855       -0.005936 -0.047887  \n",
       "education           0.022976  0.054714        0.059918 -0.091760  \n",
       "education-num       0.080259  0.141446        0.053808 -0.332210  \n",
       "marital-status     -0.032249 -0.177563       -0.028068  0.189776  \n",
       "occupation          0.014772  0.086960       -0.006602 -0.073405  \n",
       "relationship       -0.066692 -0.238538       -0.001345  0.245918  \n",
       "race                0.027549  0.048791        0.129094 -0.079826  \n",
       "sex                 0.051067  0.226271       -0.013417 -0.216816  \n",
       "capital-gain       -0.035294  0.077704        0.002588 -0.230696  \n",
       "capital-loss        1.000000  0.051636        0.007349 -0.153277  \n",
       "hpw                 0.051636  1.000000        0.002031 -0.226323  \n",
       "native-country      0.007349  0.002031        1.000000 -0.021352  \n",
       "salary             -0.153277 -0.226323       -0.021352  1.000000  "
      ]
     },
     "execution_count": 26,
     "metadata": {},
     "output_type": "execute_result"
    },
    {
     "data": {
      "image/png": "[encoded data removed]",
      "text/plain": [
       "<Figure size 1000x500 with 2 Axes>"
      ]
     },
     "metadata": {},
     "output_type": "display_data"
    }
   ],
   "source": [
    "plt.figure(figsize=(10,5))\n",
    "c= df.corr()\n",
    "sns.heatmap(c,cmap=\"BrBG\",annot=True)\n",
    "c"
   ]
  },
  {
   "cell_type": "markdown",
   "metadata": {},
   "source": [
    "# Нормализация"
   ]
  },
  {
   "cell_type": "code",
   "execution_count": 27,
   "metadata": {},
   "outputs": [],
   "source": [
    "from sklearn.model_selection import train_test_split\n",
    "cdf = df\n",
    "cdf = (df-df.min ())/(df.max ()-df.min ())\n",
    "scaled_df = cdf\n",
    "\n",
    "data_final = scaled_df\n",
    "#data_final = df\n",
    "X = data_final.loc[:, data_final.columns != 'salary']\n",
    "y = data_final.loc[:, df.columns == 'salary']\n",
    "X_train, X_test, y_train, y_test = train_test_split(X, y, test_size=0.33, random_state=42)"
   ]
  },
  {
   "cell_type": "markdown",
   "metadata": {},
   "source": [
    "# Модели"
   ]
  },
  {
   "cell_type": "markdown",
   "metadata": {},
   "source": [
    "## Linear regress\n",
    "\n",
    "from sklearn.linear_model import Lasso, LassoCV, Ridge, RidgeCV, LinearRegression\n",
    "from sklearn.metrics import mean_absolute_error, mean_squared_error\n",
    "\n",
    "lin = LinearRegression()\n",
    "lin.fit(X_train, y_train)\n",
    "\n",
    "lin.coef_\n",
    "\n",
    "print(mean_absolute_error(y_test,lin.predict(X_test)))\n",
    "\n",
    "print(mean_squared_error(y_test,lin.predict(X_test)))\n",
    "\n",
    "print(\"Accuracy on training set: {:.3f}\".format(lin.score(X_train, y_train)))\n",
    "print(\"Accuracy on test set: {:.3f}\".format(lin.score(X_test, y_test)))\n",
    "\n",
    "## Decision Tree\n",
    "\n",
    "from sklearn.tree import DecisionTreeRegressor\n",
    "regr = DecisionTreeRegressor(max_depth=8)\n",
    "regr.fit(X_train, y_train)\n",
    "\n",
    "print(mean_absolute_error(y_test, regr.predict(X_test)))\n",
    "\n",
    "print(mean_squared_error(y_test, regr.predict(X_test)))\n",
    "\n",
    "print(\"Accuracy on training set: {:.3f}\".format(regr.score(X_train, y_train)))\n",
    "print(\"Accuracy on test set: {:.3f}\".format(regr.score(X_test, y_test)))\n",
    "\n",
    "## Lasso\n",
    "\n",
    "n_alphas = 1000\n",
    "alphas = np.linspace(0.001, 200, n_alphas)\n",
    "lasso_cv = LassoCV(alphas=alphas, cv=10)\n",
    "lasso_cv.fit(X_train, y_train)\n",
    "\n",
    "lasso_cv.coef_\n",
    "\n",
    "lasso_cv.alpha_\n",
    "\n",
    "print(mean_absolute_error(y_test, lasso_cv.predict(X_test)))\n",
    "\n",
    "print(mean_squared_error(y_test, lasso_cv.predict(X_test)))\n",
    "\n",
    "print(\"Accuracy on training set: {:.3f}\".format(lasso_cv.score(X_train, y_train)))\n",
    "print(\"Accuracy on test set: {:.3f}\".format(lasso_cv.score(X_test, y_test)))\n",
    "\n",
    "## Ridge\n",
    "\n",
    "n_alphas = 1000\n",
    "ridge_alphas = np.logspace(0.1, 200, n_alphas)\n",
    "ridge_cv = RidgeCV(alphas=ridge_alphas, scoring=\"neg_mean_squared_error\", cv=5)\n",
    "ridge_cv.fit(X_train, y_train)\n",
    "\n",
    "ridge_cv.coef_\n",
    "\n",
    "ridge_cv.alpha_\n",
    "\n",
    "print(mean_absolute_error(y_test, ridge_cv.predict(X_test)))\n",
    "\n",
    "print(mean_squared_error(y_test, ridge_cv.predict(X_test)))\n",
    "\n",
    "print(\"Accuracy on training set: {:.3f}\".format(ridge_cv.score(X_train, y_train)))\n",
    "print(\"Accuracy on test set: {:.3f}\".format(ridge_cv.score(X_test, y_test)))\n",
    "\n",
    "## XGBoost\n",
    "\n",
    "from xgboost import XGBRegressor\n",
    "xgb = XGBRegressor(n_estimators=1000, max_depth=7)\n",
    "xgb.fit(X_train, y_train)\n",
    "\n",
    "print(mean_absolute_error(y_test,xgb.predict(X_test)))\n",
    "\n",
    "print(mean_squared_error(y_test,xgb.predict(X_test)))\n",
    "\n",
    "print(\"Accuracy on training set: {:.3f}\".format(xgb.score(X_train, y_train)))\n",
    "print(\"Accuracy on test set: {:.3f}\".format(xgb.score(X_test, y_test)))\n",
    "\n",
    "## ElasticNet\n",
    "\n",
    "from sklearn.linear_model import ElasticNetCV\n",
    "elastic_alphas = np.logspace(0.1, 200, n_alphas)\n",
    "elastic = ElasticNetCV(alphas=elastic_alphas, cv=5, random_state=17)\n",
    "elastic.fit(X_train,y_train)\n",
    "\n",
    "print(mean_absolute_error(y_test, elastic.predict(X_test)))\n",
    "\n",
    "print(mean_squared_error(y_test, elastic.predict(X_test)))\n",
    "\n",
    "print(\"Accuracy on training set: {:.3f}\".format(elastic.score(X_train, y_train)))\n",
    "print(\"Accuracy on test set: {:.3f}\".format(elastic.score(X_test, y_test)))"
   ]
  },
  {
   "cell_type": "code",
   "execution_count": null,
   "metadata": {},
   "outputs": [],
   "source": []
  }
 ],
 "metadata": {
  "colab": {
   "collapsed_sections": [],
   "provenance": []
  },
  "kernelspec": {
   "display_name": "Python 3 (ipykernel)",
   "language": "python",
   "name": "python3"
  },
  "language_info": {
   "codemirror_mode": {
    "name": "ipython",
    "version": 3
   },
   "file_extension": ".py",
   "mimetype": "text/x-python",
   "name": "python",
   "nbconvert_exporter": "python",
   "pygments_lexer": "ipython3",
   "version": "3.10.7"
  },
  "papermill": {
   "duration": 12.885345,
   "end_time": "2020-11-27T11:52:37.154623",
   "environment_variables": {},
   "exception": null,
   "input_path": "__notebook__.ipynb",
   "output_path": "__notebook__.ipynb",
   "parameters": {},
   "start_time": "2020-11-27T11:52:24.269278",
   "version": "2.1.0"
  }
 },
 "nbformat": 4,
 "nbformat_minor": 1
}
